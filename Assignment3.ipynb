{
 "cells": [
  {
   "cell_type": "code",
   "execution_count": 1,
   "metadata": {},
   "outputs": [
    {
     "name": "stderr",
     "output_type": "stream",
     "text": [
      "Using TensorFlow backend.\n"
     ]
    }
   ],
   "source": [
    "import tensorflow\n",
    "import keras\n",
    "from keras.preprocessing.image import ImageDataGenerator\n",
    "from keras.models import Sequential\n",
    "from keras.layers import Conv2D,Activation,MaxPooling2D,Dense,Flatten,Dropout\n",
    "from keras import backend as k\n",
    "import numpy as np\n",
    "import os"
   ]
  },
  {
   "cell_type": "code",
   "execution_count": 6,
   "metadata": {},
   "outputs": [],
   "source": [
    "#Glob This method creates a Python generator object which can be used to list files under a given directory\n",
    "import cv2\n",
    "import glob\n",
    "\n",
    "path='C:/Users/sindh/OneDrive/Desktop/Mens/training/casuals/*.*'\n",
    "\n",
    "for i,img in enumerate (glob.glob(path)):\n",
    "    image=cv2.imread(img)\n",
    "    #Sharpening\n",
    "    kernal_Sharpening=np.array([[-1,-1,-1],\n",
    "                       [-1,10,-1],\n",
    "                       [-1,-1,-1]])\n",
    "    sharpened=cv2.filter2D(image,-1,kernal_Sharpening)\n",
    "    cv2.imwrite('C:/Users/sindh/OneDrive/Desktop/Mens/modified/sharpen{0}.jpg'.format(i),sharpened)\n",
    "    #Rotation\n",
    "    height,width=image.shape[:2]\n",
    "    q_h,q_w=height/2,width/2\n",
    "    R=cv2.getRotationMatrix2D((q_w,q_h),30,.75)\n",
    "    rotated=cv2.warpAffine(image,R,(width,height))\n",
    "    cv2.imwrite('C:/Users/sindh/OneDrive/Desktop/Mens/modified/rotate{0}.jpg'.format(i),rotated)\n",
    "    #Flipped\n",
    "    flipped=cv2.flip(image,0)\n",
    "    cv2.imwrite('C:/Users/sindh/OneDrive/Desktop/Mens/modified/flip{0}.jpg'.format(i),flipped)\n",
    "    #Bhrightness adjust\n",
    "    M=np.ones(image.shape,dtype='uint8')*55\n",
    "    added=cv2.add(image,M)\n",
    "    cv2.imwrite('C:/Users/sindh/OneDrive/Desktop/Mens/modified/add{0}.jpg'.format(i),added)\n",
    "\n",
    "    subtract=cv2.subtract(image,M)\n",
    "    cv2.imwrite('C:/Users/sindh/OneDrive/Desktop/Mens/modified/sub{0}.jpg'.format(i),subtract)\n",
    "    \n",
    "    k=cv2.waitKey()\n",
    "    cv2.destroyAllWindows()\n"
   ]
  },
  {
   "cell_type": "code",
   "execution_count": 7,
   "metadata": {},
   "outputs": [],
   "source": [
    "\n",
    "path='C:/Users/sindh/OneDrive/Desktop/Mens/training/tshirts/*.*'\n",
    "\n",
    "for i,img in enumerate (glob.glob(path)):\n",
    "    image=cv2.imread(img)\n",
    "    #Sharpening\n",
    "    kernal_Sharpening=np.array([[-1,-1,-1],\n",
    "                       [-1,10,-1],\n",
    "                       [-1,-1,-1]])\n",
    "    sharpened=cv2.filter2D(image,-1,kernal_Sharpening)\n",
    "    cv2.imwrite('C:/Users/sindh/OneDrive/Desktop/Mens/modif/sharpened{0}.jpg'.format(i),sharpened)\n",
    "    #Rotation\n",
    "    height,width=image.shape[:2]\n",
    "    q_h,q_w=height/2,width/2\n",
    "    R=cv2.getRotationMatrix2D((q_w,q_h),30,.75)\n",
    "    rotated=cv2.warpAffine(image,R,(width,height))\n",
    "    cv2.imwrite('C:/Users/sindh/OneDrive/Desktop/Mens/modif/rotate{0}.jpg'.format(i),rotated)\n",
    "\n",
    "    #Flipped\n",
    "    flipped=cv2.flip(image,0)\n",
    "    cv2.imwrite('C:/Users/sindh/OneDrive/Desktop/Mens/modif/flipped{0}.jpg'.format(i),flipped)\n",
    "    #Bhrightness adjust\n",
    "    M=np.ones(image.shape,dtype='uint8')*55\n",
    "    added=cv2.add(image,M)\n",
    "    cv2.imwrite('C:/Users/sindh/OneDrive/Desktop/Mens/modif/added{0}.jpg'.format(i),added)\n",
    "\n",
    "    subtract=cv2.subtract(image,M)\n",
    "    cv2.imwrite('C:/Users/sindh/OneDrive/Desktop/Mens/modif/subtract{0}.jpg'.format(i),subtract)\n",
    "  \n",
    "    k=cv2.waitKey()\n",
    "    cv2.destroyAllWindows()\n"
   ]
  },
  {
   "cell_type": "code",
   "execution_count": 2,
   "metadata": {},
   "outputs": [
    {
     "name": "stdout",
     "output_type": "stream",
     "text": [
      "Model: \"sequential_1\"\n",
      "_________________________________________________________________\n",
      "Layer (type)                 Output Shape              Param #   \n",
      "=================================================================\n",
      "conv2d_1 (Conv2D)            (None, 254, 254, 32)      896       \n",
      "_________________________________________________________________\n",
      "activation_1 (Activation)    (None, 254, 254, 32)      0         \n",
      "_________________________________________________________________\n",
      "max_pooling2d_1 (MaxPooling2 (None, 127, 127, 32)      0         \n",
      "_________________________________________________________________\n",
      "dropout_1 (Dropout)          (None, 127, 127, 32)      0         \n",
      "_________________________________________________________________\n",
      "conv2d_2 (Conv2D)            (None, 125, 125, 64)      18496     \n",
      "_________________________________________________________________\n",
      "activation_2 (Activation)    (None, 125, 125, 64)      0         \n",
      "_________________________________________________________________\n",
      "conv2d_3 (Conv2D)            (None, 123, 123, 64)      36928     \n",
      "_________________________________________________________________\n",
      "activation_3 (Activation)    (None, 123, 123, 64)      0         \n",
      "_________________________________________________________________\n",
      "max_pooling2d_2 (MaxPooling2 (None, 61, 61, 64)        0         \n",
      "_________________________________________________________________\n",
      "dropout_2 (Dropout)          (None, 61, 61, 64)        0         \n",
      "_________________________________________________________________\n",
      "flatten_1 (Flatten)          (None, 238144)            0         \n",
      "_________________________________________________________________\n",
      "activation_4 (Activation)    (None, 238144)            0         \n",
      "_________________________________________________________________\n",
      "dense_1 (Dense)              (None, 64)                15241280  \n",
      "_________________________________________________________________\n",
      "dropout_3 (Dropout)          (None, 64)                0         \n",
      "_________________________________________________________________\n",
      "dense_2 (Dense)              (None, 1)                 65        \n",
      "=================================================================\n",
      "Total params: 15,297,665\n",
      "Trainable params: 15,297,665\n",
      "Non-trainable params: 0\n",
      "_________________________________________________________________\n",
      "None\n"
     ]
    }
   ],
   "source": [
    "img_w,img_h=256,256\n",
    "train='C:/Users/sindh/OneDrive/Desktop/Mens/training'\n",
    "test='C:/Users/sindh/OneDrive/Desktop/Mens/testing'\n",
    "\n",
    "batch_size=100\n",
    "epochs=10\n",
    "\n",
    "\n",
    "if k.image_data_format()=='channels_first':\n",
    "    input_shape=(3,img_w,img_h)\n",
    "else:\n",
    "    input_shape=(img_w,img_h,3)\n",
    "\n",
    "model=Sequential()\n",
    "\n",
    "\n",
    "model.add(Conv2D(32,(3,3),input_shape=input_shape))          \n",
    "model.add(Activation('relu'))\n",
    "model.add(MaxPooling2D(pool_size=(2,2)))\n",
    "model.add(Dropout(0.25))\n",
    "\n",
    "model.add(Conv2D(64,(3,3)))          \n",
    "model.add(Activation('relu'))\n",
    "model.add(Conv2D(64,(3,3)))          \n",
    "model.add(Activation('relu'))\n",
    "model.add(MaxPooling2D(pool_size=(2,2)))\n",
    "model.add(Dropout(0.5))\n",
    "\n",
    "model.add(Flatten())\n",
    "model.add(Activation('relu'))\n",
    "model.add(Dense(64,activation='relu'))\n",
    "model.add(Dropout(0.5))\n",
    "model.add(Dense(1,activation='sigmoid'))\n",
    "\n",
    "model.compile(loss='binary_crossentropy',\n",
    "              optimizer='RMSprop',\n",
    "              metrics=['accuracy'])\n",
    "print(model.summary())"
   ]
  },
  {
   "cell_type": "code",
   "execution_count": 3,
   "metadata": {},
   "outputs": [
    {
     "name": "stdout",
     "output_type": "stream",
     "text": [
      "Found 644 images belonging to 2 classes.\n",
      "Found 60 images belonging to 2 classes.\n"
     ]
    }
   ],
   "source": [
    "from PIL import Image\n",
    "from keras.preprocessing.image import ImageDataGenerator\n",
    "train_gen=ImageDataGenerator(rescale=1./255,shear_range=0.2,\n",
    "                            zoom_range=0.2\n",
    "                            ,horizontal_flip=True)\n",
    "test_gen=ImageDataGenerator(rescale=1./255)\n",
    "\n",
    "train_generator=train_gen.flow_from_directory(train,\n",
    "                                             batch_size=15\n",
    "                                             ,class_mode='binary')\n",
    "test_generator=test_gen.flow_from_directory(test,\n",
    "                                             batch_size=15\n",
    "                                             ,class_mode='binary')"
   ]
  },
  {
   "cell_type": "code",
   "execution_count": 4,
   "metadata": {},
   "outputs": [
    {
     "name": "stdout",
     "output_type": "stream",
     "text": [
      "Epoch 1/10\n",
      "43/43 [==============================] - 66s 2s/step - loss: 1.4873 - accuracy: 0.5248 - val_loss: 0.6568 - val_accuracy: 0.5167\n",
      "Epoch 2/10\n",
      "43/43 [==============================] - 68s 2s/step - loss: 0.6765 - accuracy: 0.5761 - val_loss: 0.6075 - val_accuracy: 0.5667\n",
      "Epoch 3/10\n",
      "43/43 [==============================] - 68s 2s/step - loss: 0.8205 - accuracy: 0.6180 - val_loss: 0.6237 - val_accuracy: 0.5667\n",
      "Epoch 4/10\n",
      "43/43 [==============================] - 68s 2s/step - loss: 0.5975 - accuracy: 0.7034 - val_loss: 1.0278 - val_accuracy: 0.6167\n",
      "Epoch 5/10\n",
      "43/43 [==============================] - 68s 2s/step - loss: 0.5781 - accuracy: 0.7314 - val_loss: 0.5697 - val_accuracy: 0.6500\n",
      "Epoch 6/10\n",
      "43/43 [==============================] - 69s 2s/step - loss: 0.5185 - accuracy: 0.7795 - val_loss: 1.5076 - val_accuracy: 0.6667\n",
      "Epoch 7/10\n",
      "43/43 [==============================] - 68s 2s/step - loss: 0.5044 - accuracy: 0.7873 - val_loss: 1.0131 - val_accuracy: 0.6500\n",
      "Epoch 8/10\n",
      "43/43 [==============================] - 68s 2s/step - loss: 0.4331 - accuracy: 0.8137 - val_loss: 0.6767 - val_accuracy: 0.6333\n",
      "Epoch 9/10\n",
      "43/43 [==============================] - 68s 2s/step - loss: 0.4263 - accuracy: 0.8090 - val_loss: 0.7538 - val_accuracy: 0.6500\n",
      "Epoch 10/10\n",
      "43/43 [==============================] - 68s 2s/step - loss: 0.4550 - accuracy: 0.8463 - val_loss: 0.9284 - val_accuracy: 0.6833\n"
     ]
    }
   ],
   "source": [
    "hist=model.fit_generator(train_generator,\n",
    "                    epochs=10,validation_data=test_generator,\n",
    "                   )\n",
    "\n",
    "model.save_weights('Men_shirts.h5')"
   ]
  },
  {
   "cell_type": "code",
   "execution_count": 5,
   "metadata": {},
   "outputs": [
    {
     "name": "stderr",
     "output_type": "stream",
     "text": [
      "C:\\Users\\sindh\\.conda\\envs\\tensorflow\\lib\\site-packages\\matplotlib\\backends\\backend_agg.py:214: RuntimeWarning: Glyph 9 missing from current font.\n",
      "  font.set_text(s, 0.0, flags=flags)\n",
      "C:\\Users\\sindh\\.conda\\envs\\tensorflow\\lib\\site-packages\\matplotlib\\backends\\backend_agg.py:183: RuntimeWarning: Glyph 9 missing from current font.\n",
      "  font.set_text(s, 0, flags=flags)\n"
     ]
    },
    {
     "data": {
      "image/png": "[encoded data removed]",
      "text/plain": [
       "<Figure size 432x288 with 1 Axes>"
      ]
     },
     "metadata": {
      "needs_background": "light"
     },
     "output_type": "display_data"
    }
   ],
   "source": [
    "import matplotlib.pyplot as plt\n",
    "hist_m=hist.history\n",
    "\n",
    "loss_values=hist_m['loss']\n",
    "val_loss_values=hist_m['val_loss']\n",
    "epochs=range(1,len(loss_values)+1)\n",
    "\n",
    "line1=plt.plot(epochs,val_loss_values,label='validation\\test loss')\n",
    "line2=plt.plot(epochs,loss_values,label='training loss')\n",
    "plt.setp(line1,linewidth=2.0,marker='+',markersize=10)\n",
    "plt.setp(line2,linewidth=2.0,marker='*',markersize=10)\n",
    "plt.xlabel('Epochs')\n",
    "plt.ylabel('Loss')\n",
    "plt.grid(True)\n",
    "plt.legend()\n",
    "plt.show()"
   ]
  },
  {
   "cell_type": "code",
   "execution_count": 6,
   "metadata": {},
   "outputs": [
    {
     "data": {
      "image/png": "[encoded data removed]",
      "text/plain": [
       "<Figure size 432x288 with 1 Axes>"
      ]
     },
     "metadata": {
      "needs_background": "light"
     },
     "output_type": "display_data"
    }
   ],
   "source": [
    "hist_m=hist.history\n",
    "\n",
    "acc_values=hist_m['accuracy']\n",
    "val_acc_values=hist_m['val_accuracy']\n",
    "epochs=range(1,len(acc_values)+1)\n",
    "\n",
    "line1=plt.plot(epochs,val_acc_values,label='validation\\test accuracy')\n",
    "line2=plt.plot(epochs,acc_values,label='training accuracy')\n",
    "plt.setp(line1,linewidth=2.0,marker='+',markersize=10)\n",
    "plt.setp(line2,linewidth=2.0,marker='*',markersize=10)\n",
    "plt.xlabel('Epochs')\n",
    "plt.ylabel('accuracy')\n",
    "plt.grid(True)\n",
    "plt.legend()\n",
    "plt.show()"
   ]
  },
  {
   "cell_type": "code",
   "execution_count": null,
   "metadata": {},
   "outputs": [],
   "source": []
  }
 ],
 "metadata": {
  "kernelspec": {
   "display_name": "Python 3",
   "language": "python",
   "name": "python3"
  },
  "language_info": {
   "codemirror_mode": {
    "name": "ipython",
    "version": 3
   },
   "file_extension": ".py",
   "mimetype": "text/x-python",
   "name": "python",
   "nbconvert_exporter": "python",
   "pygments_lexer": "ipython3",
   "version": "3.7.7"
  }
 },
 "nbformat": 4,
 "nbformat_minor": 4
}
