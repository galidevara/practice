{
 "cells": [
  {
   "cell_type": "code",
   "execution_count": 1,
   "metadata": {},
   "outputs": [
    {
     "name": "stderr",
     "output_type": "stream",
     "text": [
      "Using TensorFlow backend.\n"
     ]
    }
   ],
   "source": [
    "import tensorflow\n",
    "import keras\n",
    "from keras.preprocessing.image import ImageDataGenerator\n",
    "from keras.models import Sequential\n",
    "from keras.layers import Conv2D,Activation,MaxPooling2D,Dense,Flatten,Dropout\n",
    "from keras import backend as k\n",
    "import numpy as np\n",
    "import os"
   ]
  },
  {
   "cell_type": "code",
   "execution_count": 30,
   "metadata": {},
   "outputs": [
    {
     "name": "stdout",
     "output_type": "stream",
     "text": [
      "Model: \"sequential_10\"\n",
      "_________________________________________________________________\n",
      "Layer (type)                 Output Shape              Param #   \n",
      "=================================================================\n",
      "conv2d_28 (Conv2D)           (None, 254, 254, 32)      896       \n",
      "_________________________________________________________________\n",
      "activation_28 (Activation)   (None, 254, 254, 32)      0         \n",
      "_________________________________________________________________\n",
      "max_pooling2d_19 (MaxPooling (None, 127, 127, 32)      0         \n",
      "_________________________________________________________________\n",
      "dropout_28 (Dropout)         (None, 127, 127, 32)      0         \n",
      "_________________________________________________________________\n",
      "conv2d_29 (Conv2D)           (None, 125, 125, 64)      18496     \n",
      "_________________________________________________________________\n",
      "activation_29 (Activation)   (None, 125, 125, 64)      0         \n",
      "_________________________________________________________________\n",
      "conv2d_30 (Conv2D)           (None, 123, 123, 64)      36928     \n",
      "_________________________________________________________________\n",
      "max_pooling2d_20 (MaxPooling (None, 61, 61, 64)        0         \n",
      "_________________________________________________________________\n",
      "dropout_29 (Dropout)         (None, 61, 61, 64)        0         \n",
      "_________________________________________________________________\n",
      "flatten_10 (Flatten)         (None, 238144)            0         \n",
      "_________________________________________________________________\n",
      "activation_30 (Activation)   (None, 238144)            0         \n",
      "_________________________________________________________________\n",
      "dense_19 (Dense)             (None, 64)                15241280  \n",
      "_________________________________________________________________\n",
      "dropout_30 (Dropout)         (None, 64)                0         \n",
      "_________________________________________________________________\n",
      "dense_20 (Dense)             (None, 2)                 130       \n",
      "=================================================================\n",
      "Total params: 15,297,730\n",
      "Trainable params: 15,297,730\n",
      "Non-trainable params: 0\n",
      "_________________________________________________________________\n",
      "None\n"
     ]
    }
   ],
   "source": [
    "img_w,img_h=256,256\n",
    "train='C:/Users/sindh/OneDrive/Desktop/Mens/training'\n",
    "test='C:/Users/sindh/OneDrive/Desktop/Mens/testing'\n",
    "\n",
    "batch_size=100\n",
    "epochs=15\n",
    "num_cls=2\n",
    "\n",
    "if k.image_data_format()=='channels_first':\n",
    "    input_shape=(3,img_w,img_h)\n",
    "else:\n",
    "    input_shape=(img_w,img_h,3)\n",
    "\n",
    "model=Sequential()\n",
    "\n",
    "\n",
    "model.add(Conv2D(32,(3,3),input_shape=input_shape))          \n",
    "model.add(Activation('relu'))\n",
    "model.add(MaxPooling2D(pool_size=(2,2)))\n",
    "model.add(Dropout(0.25))\n",
    "\n",
    "model.add(Conv2D(64,(3,3)))          \n",
    "model.add(Activation('relu'))\n",
    "model.add(Conv2D(64,(3,3),activation='relu'))\n",
    "model.add(MaxPooling2D(pool_size=(2,2)))\n",
    "model.add(Dropout(0.25))\n",
    "\n",
    "model.add(Flatten())\n",
    "model.add(Activation('relu'))\n",
    "model.add(Dense(64,activation='relu'))\n",
    "model.add(Dropout(0.5))\n",
    "model.add(Dense(num_cls,activation='softmax'))\n",
    "\n",
    "model.compile(loss='categorical_crossentropy',\n",
    "              optimizer='adam',\n",
    "              metrics=['accuracy'])\n",
    "print(model.summary())"
   ]
  },
  {
   "cell_type": "code",
   "execution_count": 141,
   "metadata": {
    "scrolled": true
   },
   "outputs": [
    {
     "name": "stdout",
     "output_type": "stream",
     "text": [
      "^C\n"
     ]
    }
   ],
   "source": [
    "!pip install matplotlib"
   ]
  },
  {
   "cell_type": "code",
   "execution_count": null,
   "metadata": {},
   "outputs": [],
   "source": [
    "!pip install pydot\n",
    "!pip install pydotplus\n",
    "!pip install pydot_ng\n",
    "!pip install graphviz"
   ]
  },
  {
   "cell_type": "code",
   "execution_count": null,
   "metadata": {},
   "outputs": [],
   "source": [
    "pip install graphviz"
   ]
  },
  {
   "cell_type": "code",
   "execution_count": 7,
   "metadata": {
    "scrolled": true
   },
   "outputs": [],
   "source": [
    "#keras.utils.plot_model(model,\n",
    "                     # to_file='model.png')"
   ]
  },
  {
   "cell_type": "code",
   "execution_count": 31,
   "metadata": {},
   "outputs": [
    {
     "name": "stdout",
     "output_type": "stream",
     "text": [
      "Found 100 images belonging to 2 classes.\n",
      "Found 60 images belonging to 2 classes.\n"
     ]
    }
   ],
   "source": [
    "from PIL import Image\n",
    "from keras.preprocessing.image import ImageDataGenerator\n",
    "train_gen=ImageDataGenerator(rescale=1./255,shear_range=0.2,\n",
    "                            zoom_range=0.2\n",
    "                            ,horizontal_flip=True)\n",
    "test_gen=ImageDataGenerator(rescale=1./255)\n",
    "\n",
    "train_generator=train_gen.flow_from_directory(train,\n",
    "                                             batch_size=10\n",
    "                                             ,class_mode='categorical')\n",
    "test_generator=test_gen.flow_from_directory(test,\n",
    "                                             batch_size=10\n",
    "                                             ,class_mode='categorical')"
   ]
  },
  {
   "cell_type": "code",
   "execution_count": 32,
   "metadata": {},
   "outputs": [
    {
     "name": "stdout",
     "output_type": "stream",
     "text": [
      "Epoch 1/10\n",
      "10/10 [==============================] - 16s 2s/step - loss: 2.4270 - accuracy: 0.5400 - val_loss: 0.6943 - val_accuracy: 0.4833\n",
      "Epoch 2/10\n",
      "10/10 [==============================] - 15s 2s/step - loss: 0.6902 - accuracy: 0.6400 - val_loss: 0.6930 - val_accuracy: 0.6167\n",
      "Epoch 3/10\n",
      "10/10 [==============================] - 14s 1s/step - loss: 0.7118 - accuracy: 0.5600 - val_loss: 0.6951 - val_accuracy: 0.5000\n",
      "Epoch 4/10\n",
      "10/10 [==============================] - 15s 1s/step - loss: 0.6882 - accuracy: 0.6400 - val_loss: 0.6495 - val_accuracy: 0.5000\n",
      "Epoch 5/10\n",
      "10/10 [==============================] - 15s 1s/step - loss: 0.7135 - accuracy: 0.5400 - val_loss: 0.6800 - val_accuracy: 0.6000\n",
      "Epoch 6/10\n",
      "10/10 [==============================] - 15s 1s/step - loss: 0.6772 - accuracy: 0.6500 - val_loss: 0.6852 - val_accuracy: 0.5833\n",
      "Epoch 7/10\n",
      "10/10 [==============================] - 16s 2s/step - loss: 0.6617 - accuracy: 0.7100 - val_loss: 0.6494 - val_accuracy: 0.5833\n",
      "Epoch 8/10\n",
      "10/10 [==============================] - 16s 2s/step - loss: 0.6372 - accuracy: 0.6900 - val_loss: 0.7136 - val_accuracy: 0.6167\n",
      "Epoch 9/10\n",
      "10/10 [==============================] - 16s 2s/step - loss: 0.5722 - accuracy: 0.7300 - val_loss: 0.6740 - val_accuracy: 0.6500\n",
      "Epoch 10/10\n",
      "10/10 [==============================] - 16s 2s/step - loss: 0.5601 - accuracy: 0.7900 - val_loss: 0.6106 - val_accuracy: 0.6833\n"
     ]
    }
   ],
   "source": [
    "hist=model.fit_generator(train_generator,\n",
    "                    epochs=10,validation_data=test_generator,\n",
    "                   )\n",
    "\n",
    "model.save_weights('Men_shirts.h5')"
   ]
  },
  {
   "cell_type": "code",
   "execution_count": 33,
   "metadata": {},
   "outputs": [
    {
     "name": "stderr",
     "output_type": "stream",
     "text": [
      "C:\\Users\\sindh\\.conda\\envs\\tensorflow\\lib\\site-packages\\matplotlib\\backends\\backend_agg.py:214: RuntimeWarning: Glyph 9 missing from current font.\n",
      "  font.set_text(s, 0.0, flags=flags)\n",
      "C:\\Users\\sindh\\.conda\\envs\\tensorflow\\lib\\site-packages\\matplotlib\\backends\\backend_agg.py:183: RuntimeWarning: Glyph 9 missing from current font.\n",
      "  font.set_text(s, 0, flags=flags)\n"
     ]
    },
    {
     "data": {
      "image/png": "[encoded data removed]",
      "text/plain": [
       "<Figure size 432x288 with 1 Axes>"
      ]
     },
     "metadata": {
      "needs_background": "light"
     },
     "output_type": "display_data"
    }
   ],
   "source": [
    "import matplotlib.pyplot as plt\n",
    "hist_m=hist.history\n",
    "\n",
    "loss_values=hist_m['loss']\n",
    "val_loss_values=hist_m['val_loss']\n",
    "epochs=range(1,len(loss_values)+1)\n",
    "\n",
    "line1=plt.plot(epochs,val_loss_values,label='validation\\test loss')\n",
    "line2=plt.plot(epochs,loss_values,label='training loss')\n",
    "plt.setp(line1,linewidth=2.0,marker='+',markersize=10)\n",
    "plt.setp(line2,linewidth=2.0,marker='*',markersize=10)\n",
    "plt.xlabel('Epochs')\n",
    "plt.ylabel('Loss')\n",
    "plt.grid(True)\n",
    "plt.legend()\n",
    "plt.show()"
   ]
  },
  {
   "cell_type": "code",
   "execution_count": 34,
   "metadata": {},
   "outputs": [
    {
     "data": {
      "image/png": "[encoded data removed]",
      "text/plain": [
       "<Figure size 432x288 with 1 Axes>"
      ]
     },
     "metadata": {
      "needs_background": "light"
     },
     "output_type": "display_data"
    }
   ],
   "source": [
    "hist_m=hist.history\n",
    "\n",
    "acc_values=hist_m['accuracy']\n",
    "val_acc_values=hist_m['val_accuracy']\n",
    "epochs=range(1,len(acc_values)+1)\n",
    "\n",
    "line1=plt.plot(epochs,val_acc_values,label='validation\\test accuracy')\n",
    "line2=plt.plot(epochs,acc_values,label='training accuracy')\n",
    "plt.setp(line1,linewidth=2.0,marker='+',markersize=10)\n",
    "plt.setp(line2,linewidth=2.0,marker='*',markersize=10)\n",
    "plt.xlabel('Epochs')\n",
    "plt.ylabel('accuracy')\n",
    "plt.grid(True)\n",
    "plt.legend()\n",
    "plt.show()"
   ]
  },
  {
   "cell_type": "code",
   "execution_count": null,
   "metadata": {},
   "outputs": [],
   "source": []
  }
 ],
 "metadata": {
  "kernelspec": {
   "display_name": "Python 3",
   "language": "python",
   "name": "python3"
  },
  "language_info": {
   "codemirror_mode": {
    "name": "ipython",
    "version": 3
   },
   "file_extension": ".py",
   "mimetype": "text/x-python",
   "name": "python",
   "nbconvert_exporter": "python",
   "pygments_lexer": "ipython3",
   "version": "3.7.7"
  }
 },
 "nbformat": 4,
 "nbformat_minor": 4
}
