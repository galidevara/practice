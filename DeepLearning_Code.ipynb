{
 "cells": [
  {
   "cell_type": "code",
   "execution_count": 2,
   "metadata": {},
   "outputs": [],
   "source": [
    "import tensorflow\n",
    "import keras\n",
    "from keras.preprocessing.image import ImageDataGenerator\n",
    "from keras.models import Sequential\n",
    "from keras.layers import Conv2D,Activation,MaxPooling2D,Dense,Flatten,Dropout\n",
    "from keras import backend as k\n",
    "import numpy as np\n",
    "import os"
   ]
  },
  {
   "cell_type": "code",
   "execution_count": 19,
   "metadata": {},
   "outputs": [
    {
     "name": "stdout",
     "output_type": "stream",
     "text": [
      "Model: \"sequential_3\"\n",
      "_________________________________________________________________\n",
      "Layer (type)                 Output Shape              Param #   \n",
      "=================================================================\n",
      "conv2d_7 (Conv2D)            (None, 254, 254, 32)      896       \n",
      "_________________________________________________________________\n",
      "activation_7 (Activation)    (None, 254, 254, 32)      0         \n",
      "_________________________________________________________________\n",
      "max_pooling2d_5 (MaxPooling2 (None, 127, 127, 32)      0         \n",
      "_________________________________________________________________\n",
      "dropout_7 (Dropout)          (None, 127, 127, 32)      0         \n",
      "_________________________________________________________________\n",
      "conv2d_8 (Conv2D)            (None, 125, 125, 64)      18496     \n",
      "_________________________________________________________________\n",
      "activation_8 (Activation)    (None, 125, 125, 64)      0         \n",
      "_________________________________________________________________\n",
      "conv2d_9 (Conv2D)            (None, 123, 123, 64)      36928     \n",
      "_________________________________________________________________\n",
      "max_pooling2d_6 (MaxPooling2 (None, 61, 61, 64)        0         \n",
      "_________________________________________________________________\n",
      "dropout_8 (Dropout)          (None, 61, 61, 64)        0         \n",
      "_________________________________________________________________\n",
      "flatten_3 (Flatten)          (None, 238144)            0         \n",
      "_________________________________________________________________\n",
      "activation_9 (Activation)    (None, 238144)            0         \n",
      "_________________________________________________________________\n",
      "dense_5 (Dense)              (None, 64)                15241280  \n",
      "_________________________________________________________________\n",
      "dropout_9 (Dropout)          (None, 64)                0         \n",
      "_________________________________________________________________\n",
      "dense_6 (Dense)              (None, 1)                 65        \n",
      "=================================================================\n",
      "Total params: 15,297,665\n",
      "Trainable params: 15,297,665\n",
      "Non-trainable params: 0\n",
      "_________________________________________________________________\n",
      "None\n"
     ]
    }
   ],
   "source": [
    "img_w,img_h=256,256\n",
    "train='C:/Users/sindh/OneDrive/Desktop/Mens/training'\n",
    "test='C:/Users/sindh/OneDrive/Desktop/Mens/testing'\n",
    "\n",
    "batch_size=100\n",
    "epochs=15\n",
    "\n",
    "\n",
    "if k.image_data_format()=='channels_first':\n",
    "    input_shape=(3,img_w,img_h)\n",
    "else:\n",
    "    input_shape=(img_w,img_h,3)\n",
    "\n",
    "model=Sequential()\n",
    "\n",
    "\n",
    "model.add(Conv2D(32,(3,3),input_shape=input_shape))          \n",
    "model.add(Activation('relu'))\n",
    "model.add(MaxPooling2D(pool_size=(2,2)))\n",
    "model.add(Dropout(0.25))\n",
    "\n",
    "model.add(Conv2D(64,(3,3)))          \n",
    "model.add(Activation('relu'))\n",
    "model.add(Conv2D(64,(3,3),activation='relu'))\n",
    "model.add(MaxPooling2D(pool_size=(2,2)))\n",
    "model.add(Dropout(0.25))\n",
    "\n",
    "model.add(Flatten())\n",
    "model.add(Activation('relu'))\n",
    "model.add(Dense(64,activation='relu'))\n",
    "model.add(Dropout(0.5))\n",
    "model.add(Dense(1,activation='sigmoid'))\n",
    "\n",
    "model.compile(loss='binary_crossentropy',\n",
    "              optimizer='adam',\n",
    "              metrics=['accuracy'])\n",
    "print(model.summary())"
   ]
  },
  {
   "cell_type": "code",
   "execution_count": 20,
   "metadata": {},
   "outputs": [
    {
     "name": "stdout",
     "output_type": "stream",
     "text": [
      "Found 100 images belonging to 2 classes.\n",
      "Found 60 images belonging to 2 classes.\n"
     ]
    }
   ],
   "source": [
    "from PIL import Image\n",
    "from keras.preprocessing.image import ImageDataGenerator\n",
    "train_gen=ImageDataGenerator(rescale=1./255,shear_range=0.2,\n",
    "                            zoom_range=0.2\n",
    "                            ,horizontal_flip=True)\n",
    "test_gen=ImageDataGenerator(rescale=1./255)\n",
    "\n",
    "train_generator=train_gen.flow_from_directory(train,\n",
    "                                             batch_size=10\n",
    "                                             ,class_mode='binary')\n",
    "test_generator=test_gen.flow_from_directory(test,\n",
    "                                             batch_size=10\n",
    "                                             ,class_mode='binary')"
   ]
  },
  {
   "cell_type": "code",
   "execution_count": 21,
   "metadata": {},
   "outputs": [
    {
     "name": "stdout",
     "output_type": "stream",
     "text": [
      "Epoch 1/10\n",
      "10/10 [==============================] - 17s 2s/step - loss: 2.7387 - accuracy: 0.5200 - val_loss: 0.6925 - val_accuracy: 0.5000\n",
      "Epoch 2/10\n",
      "10/10 [==============================] - 16s 2s/step - loss: 0.6960 - accuracy: 0.4700 - val_loss: 0.6939 - val_accuracy: 0.5000\n",
      "Epoch 3/10\n",
      "10/10 [==============================] - 16s 2s/step - loss: 0.6909 - accuracy: 0.5100 - val_loss: 0.6904 - val_accuracy: 0.4667\n",
      "Epoch 4/10\n",
      "10/10 [==============================] - 16s 2s/step - loss: 0.6679 - accuracy: 0.5500 - val_loss: 0.6475 - val_accuracy: 0.5000\n",
      "Epoch 5/10\n",
      "10/10 [==============================] - 16s 2s/step - loss: 0.6709 - accuracy: 0.5500 - val_loss: 0.6523 - val_accuracy: 0.6333\n",
      "Epoch 6/10\n",
      "10/10 [==============================] - 17s 2s/step - loss: 0.6165 - accuracy: 0.6300 - val_loss: 0.6312 - val_accuracy: 0.5833\n",
      "Epoch 7/10\n",
      "10/10 [==============================] - 16s 2s/step - loss: 0.5441 - accuracy: 0.6900 - val_loss: 0.6210 - val_accuracy: 0.5833\n",
      "Epoch 8/10\n",
      "10/10 [==============================] - 16s 2s/step - loss: 0.5487 - accuracy: 0.7200 - val_loss: 0.6281 - val_accuracy: 0.5667\n",
      "Epoch 9/10\n",
      "10/10 [==============================] - 16s 2s/step - loss: 0.4733 - accuracy: 0.7900 - val_loss: 0.5640 - val_accuracy: 0.6167\n",
      "Epoch 10/10\n",
      "10/10 [==============================] - 16s 2s/step - loss: 0.5049 - accuracy: 0.7400 - val_loss: 0.4736 - val_accuracy: 0.6167\n"
     ]
    }
   ],
   "source": [
    "hist=model.fit_generator(train_generator,\n",
    "                    epochs=10,validation_data=test_generator,\n",
    "                   )\n",
    "\n",
    "model.save_weights('Men_shirts.h5')"
   ]
  },
  {
   "cell_type": "code",
   "execution_count": 22,
   "metadata": {},
   "outputs": [
    {
     "name": "stderr",
     "output_type": "stream",
     "text": [
      "C:\\Users\\sindh\\.conda\\envs\\tensorflow\\lib\\site-packages\\matplotlib\\backends\\backend_agg.py:214: RuntimeWarning: Glyph 9 missing from current font.\n",
      "  font.set_text(s, 0.0, flags=flags)\n",
      "C:\\Users\\sindh\\.conda\\envs\\tensorflow\\lib\\site-packages\\matplotlib\\backends\\backend_agg.py:183: RuntimeWarning: Glyph 9 missing from current font.\n",
      "  font.set_text(s, 0, flags=flags)\n"
     ]
    },
    {
     "data": {
      "image/png": "[encoded data removed]",
      "text/plain": [
       "<Figure size 432x288 with 1 Axes>"
      ]
     },
     "metadata": {
      "needs_background": "light"
     },
     "output_type": "display_data"
    }
   ],
   "source": [
    "import matplotlib.pyplot as plt\n",
    "hist_m=hist.history\n",
    "\n",
    "loss_values=hist_m['loss']\n",
    "val_loss_values=hist_m['val_loss']\n",
    "epochs=range(1,len(loss_values)+1)\n",
    "\n",
    "line1=plt.plot(epochs,val_loss_values,label='validation\\test loss')\n",
    "line2=plt.plot(epochs,loss_values,label='training loss')\n",
    "plt.setp(line1,linewidth=2.0,marker='+',markersize=10)\n",
    "plt.setp(line2,linewidth=2.0,marker='*',markersize=10)\n",
    "plt.xlabel('Epochs')\n",
    "plt.ylabel('Loss')\n",
    "plt.grid(True)\n",
    "plt.legend()\n",
    "plt.show()"
   ]
  },
  {
   "cell_type": "code",
   "execution_count": 23,
   "metadata": {},
   "outputs": [
    {
     "data": {
      "image/png": "[encoded data removed]",
      "text/plain": [
       "<Figure size 432x288 with 1 Axes>"
      ]
     },
     "metadata": {
      "needs_background": "light"
     },
     "output_type": "display_data"
    }
   ],
   "source": [
    "hist_m=hist.history\n",
    "\n",
    "acc_values=hist_m['accuracy']\n",
    "val_acc_values=hist_m['val_accuracy']\n",
    "epochs=range(1,len(acc_values)+1)\n",
    "\n",
    "line1=plt.plot(epochs,val_acc_values,label='validation\\test accuracy')\n",
    "line2=plt.plot(epochs,acc_values,label='training accuracy')\n",
    "plt.setp(line1,linewidth=2.0,marker='+',markersize=10)\n",
    "plt.setp(line2,linewidth=2.0,marker='*',markersize=10)\n",
    "plt.xlabel('Epochs')\n",
    "plt.ylabel('accuracy')\n",
    "plt.grid(True)\n",
    "plt.legend()\n",
    "plt.show()"
   ]
  },
  {
   "cell_type": "code",
   "execution_count": null,
   "metadata": {},
   "outputs": [],
   "source": []
  }
 ],
 "metadata": {
  "kernelspec": {
   "display_name": "Python 3",
   "language": "python",
   "name": "python3"
  },
  "language_info": {
   "codemirror_mode": {
    "name": "ipython",
    "version": 3
   },
   "file_extension": ".py",
   "mimetype": "text/x-python",
   "name": "python",
   "nbconvert_exporter": "python",
   "pygments_lexer": "ipython3",
   "version": "3.7.7"
  }
 },
 "nbformat": 4,
 "nbformat_minor": 4
}
