{
 "cells": [
  {
   "cell_type": "code",
   "execution_count": 19,
   "metadata": {},
   "outputs": [],
   "source": [
    "import pandas as pd\n",
    "import numpy as np\n",
    "import seaborn as sns\n",
    "import warnings\n",
    "warnings.filterwarnings('ignore')"
   ]
  },
  {
   "cell_type": "code",
   "execution_count": 2,
   "metadata": {},
   "outputs": [
    {
     "data": {
      "text/html": [
       "<div>\n",
       "<style scoped>\n",
       "    .dataframe tbody tr th:only-of-type {\n",
       "        vertical-align: middle;\n",
       "    }\n",
       "\n",
       "    .dataframe tbody tr th {\n",
       "        vertical-align: top;\n",
       "    }\n",
       "\n",
       "    .dataframe thead th {\n",
       "        text-align: right;\n",
       "    }\n",
       "</style>\n",
       "<table border=\"1\" class=\"dataframe\">\n",
       "  <thead>\n",
       "    <tr style=\"text-align: right;\">\n",
       "      <th></th>\n",
       "      <th>age</th>\n",
       "      <th>sex</th>\n",
       "      <th>bmi</th>\n",
       "      <th>children</th>\n",
       "      <th>smoker</th>\n",
       "      <th>region</th>\n",
       "      <th>charges</th>\n",
       "      <th>insuranceclaim</th>\n",
       "    </tr>\n",
       "  </thead>\n",
       "  <tbody>\n",
       "    <tr>\n",
       "      <td>0</td>\n",
       "      <td>19</td>\n",
       "      <td>0</td>\n",
       "      <td>27.900</td>\n",
       "      <td>0</td>\n",
       "      <td>1</td>\n",
       "      <td>3</td>\n",
       "      <td>16884.92400</td>\n",
       "      <td>1</td>\n",
       "    </tr>\n",
       "    <tr>\n",
       "      <td>1</td>\n",
       "      <td>18</td>\n",
       "      <td>1</td>\n",
       "      <td>33.770</td>\n",
       "      <td>1</td>\n",
       "      <td>0</td>\n",
       "      <td>2</td>\n",
       "      <td>1725.55230</td>\n",
       "      <td>1</td>\n",
       "    </tr>\n",
       "    <tr>\n",
       "      <td>2</td>\n",
       "      <td>28</td>\n",
       "      <td>1</td>\n",
       "      <td>33.000</td>\n",
       "      <td>3</td>\n",
       "      <td>0</td>\n",
       "      <td>2</td>\n",
       "      <td>4449.46200</td>\n",
       "      <td>0</td>\n",
       "    </tr>\n",
       "    <tr>\n",
       "      <td>3</td>\n",
       "      <td>33</td>\n",
       "      <td>1</td>\n",
       "      <td>22.705</td>\n",
       "      <td>0</td>\n",
       "      <td>0</td>\n",
       "      <td>1</td>\n",
       "      <td>21984.47061</td>\n",
       "      <td>0</td>\n",
       "    </tr>\n",
       "    <tr>\n",
       "      <td>4</td>\n",
       "      <td>32</td>\n",
       "      <td>1</td>\n",
       "      <td>28.880</td>\n",
       "      <td>0</td>\n",
       "      <td>0</td>\n",
       "      <td>1</td>\n",
       "      <td>3866.85520</td>\n",
       "      <td>1</td>\n",
       "    </tr>\n",
       "    <tr>\n",
       "      <td>...</td>\n",
       "      <td>...</td>\n",
       "      <td>...</td>\n",
       "      <td>...</td>\n",
       "      <td>...</td>\n",
       "      <td>...</td>\n",
       "      <td>...</td>\n",
       "      <td>...</td>\n",
       "      <td>...</td>\n",
       "    </tr>\n",
       "    <tr>\n",
       "      <td>2661</td>\n",
       "      <td>50</td>\n",
       "      <td>1</td>\n",
       "      <td>30.970</td>\n",
       "      <td>3</td>\n",
       "      <td>0</td>\n",
       "      <td>1</td>\n",
       "      <td>10600.54830</td>\n",
       "      <td>0</td>\n",
       "    </tr>\n",
       "    <tr>\n",
       "      <td>2662</td>\n",
       "      <td>18</td>\n",
       "      <td>0</td>\n",
       "      <td>31.920</td>\n",
       "      <td>0</td>\n",
       "      <td>0</td>\n",
       "      <td>0</td>\n",
       "      <td>2205.98080</td>\n",
       "      <td>1</td>\n",
       "    </tr>\n",
       "    <tr>\n",
       "      <td>2663</td>\n",
       "      <td>18</td>\n",
       "      <td>0</td>\n",
       "      <td>36.850</td>\n",
       "      <td>0</td>\n",
       "      <td>0</td>\n",
       "      <td>2</td>\n",
       "      <td>1629.83350</td>\n",
       "      <td>1</td>\n",
       "    </tr>\n",
       "    <tr>\n",
       "      <td>2664</td>\n",
       "      <td>21</td>\n",
       "      <td>0</td>\n",
       "      <td>25.800</td>\n",
       "      <td>0</td>\n",
       "      <td>0</td>\n",
       "      <td>3</td>\n",
       "      <td>2007.94500</td>\n",
       "      <td>0</td>\n",
       "    </tr>\n",
       "    <tr>\n",
       "      <td>2665</td>\n",
       "      <td>61</td>\n",
       "      <td>0</td>\n",
       "      <td>29.070</td>\n",
       "      <td>0</td>\n",
       "      <td>1</td>\n",
       "      <td>1</td>\n",
       "      <td>29141.36030</td>\n",
       "      <td>1</td>\n",
       "    </tr>\n",
       "  </tbody>\n",
       "</table>\n",
       "<p>2666 rows × 8 columns</p>\n",
       "</div>"
      ],
      "text/plain": [
       "      age  sex     bmi  children  smoker  region      charges  insuranceclaim\n",
       "0      19    0  27.900         0       1       3  16884.92400               1\n",
       "1      18    1  33.770         1       0       2   1725.55230               1\n",
       "2      28    1  33.000         3       0       2   4449.46200               0\n",
       "3      33    1  22.705         0       0       1  21984.47061               0\n",
       "4      32    1  28.880         0       0       1   3866.85520               1\n",
       "...   ...  ...     ...       ...     ...     ...          ...             ...\n",
       "2661   50    1  30.970         3       0       1  10600.54830               0\n",
       "2662   18    0  31.920         0       0       0   2205.98080               1\n",
       "2663   18    0  36.850         0       0       2   1629.83350               1\n",
       "2664   21    0  25.800         0       0       3   2007.94500               0\n",
       "2665   61    0  29.070         0       1       1  29141.36030               1\n",
       "\n",
       "[2666 rows x 8 columns]"
      ]
     },
     "execution_count": 2,
     "metadata": {},
     "output_type": "execute_result"
    }
   ],
   "source": [
    "data=pd.read_csv('SBI.csv')\n",
    "data"
   ]
  },
  {
   "cell_type": "code",
   "execution_count": 3,
   "metadata": {},
   "outputs": [
    {
     "data": {
      "text/html": [
       "<div>\n",
       "<style scoped>\n",
       "    .dataframe tbody tr th:only-of-type {\n",
       "        vertical-align: middle;\n",
       "    }\n",
       "\n",
       "    .dataframe tbody tr th {\n",
       "        vertical-align: top;\n",
       "    }\n",
       "\n",
       "    .dataframe thead th {\n",
       "        text-align: right;\n",
       "    }\n",
       "</style>\n",
       "<table border=\"1\" class=\"dataframe\">\n",
       "  <thead>\n",
       "    <tr style=\"text-align: right;\">\n",
       "      <th></th>\n",
       "      <th>age</th>\n",
       "      <th>sex</th>\n",
       "      <th>bmi</th>\n",
       "      <th>children</th>\n",
       "      <th>smoker</th>\n",
       "      <th>region</th>\n",
       "      <th>charges</th>\n",
       "      <th>insuranceclaim</th>\n",
       "    </tr>\n",
       "  </thead>\n",
       "  <tbody>\n",
       "    <tr>\n",
       "      <td>count</td>\n",
       "      <td>2666.000000</td>\n",
       "      <td>2666.000000</td>\n",
       "      <td>2666.000000</td>\n",
       "      <td>2666.000000</td>\n",
       "      <td>2666.000000</td>\n",
       "      <td>2666.000000</td>\n",
       "      <td>2666.000000</td>\n",
       "      <td>2666.000000</td>\n",
       "    </tr>\n",
       "    <tr>\n",
       "      <td>mean</td>\n",
       "      <td>39.226182</td>\n",
       "      <td>0.505251</td>\n",
       "      <td>30.670069</td>\n",
       "      <td>1.095274</td>\n",
       "      <td>0.205176</td>\n",
       "      <td>1.515754</td>\n",
       "      <td>13281.369262</td>\n",
       "      <td>0.585896</td>\n",
       "    </tr>\n",
       "    <tr>\n",
       "      <td>std</td>\n",
       "      <td>14.051909</td>\n",
       "      <td>0.500066</td>\n",
       "      <td>6.103749</td>\n",
       "      <td>1.205335</td>\n",
       "      <td>0.403906</td>\n",
       "      <td>1.105646</td>\n",
       "      <td>12117.557434</td>\n",
       "      <td>0.492659</td>\n",
       "    </tr>\n",
       "    <tr>\n",
       "      <td>min</td>\n",
       "      <td>18.000000</td>\n",
       "      <td>0.000000</td>\n",
       "      <td>15.960000</td>\n",
       "      <td>0.000000</td>\n",
       "      <td>0.000000</td>\n",
       "      <td>0.000000</td>\n",
       "      <td>1121.873900</td>\n",
       "      <td>0.000000</td>\n",
       "    </tr>\n",
       "    <tr>\n",
       "      <td>25%</td>\n",
       "      <td>27.000000</td>\n",
       "      <td>0.000000</td>\n",
       "      <td>26.296250</td>\n",
       "      <td>0.000000</td>\n",
       "      <td>0.000000</td>\n",
       "      <td>1.000000</td>\n",
       "      <td>4746.344000</td>\n",
       "      <td>0.000000</td>\n",
       "    </tr>\n",
       "    <tr>\n",
       "      <td>50%</td>\n",
       "      <td>39.000000</td>\n",
       "      <td>1.000000</td>\n",
       "      <td>30.400000</td>\n",
       "      <td>1.000000</td>\n",
       "      <td>0.000000</td>\n",
       "      <td>2.000000</td>\n",
       "      <td>9388.753650</td>\n",
       "      <td>1.000000</td>\n",
       "    </tr>\n",
       "    <tr>\n",
       "      <td>75%</td>\n",
       "      <td>51.000000</td>\n",
       "      <td>1.000000</td>\n",
       "      <td>34.700000</td>\n",
       "      <td>2.000000</td>\n",
       "      <td>0.000000</td>\n",
       "      <td>2.000000</td>\n",
       "      <td>16639.912515</td>\n",
       "      <td>1.000000</td>\n",
       "    </tr>\n",
       "    <tr>\n",
       "      <td>max</td>\n",
       "      <td>64.000000</td>\n",
       "      <td>1.000000</td>\n",
       "      <td>53.130000</td>\n",
       "      <td>5.000000</td>\n",
       "      <td>1.000000</td>\n",
       "      <td>3.000000</td>\n",
       "      <td>63770.428010</td>\n",
       "      <td>1.000000</td>\n",
       "    </tr>\n",
       "  </tbody>\n",
       "</table>\n",
       "</div>"
      ],
      "text/plain": [
       "               age          sex          bmi     children       smoker  \\\n",
       "count  2666.000000  2666.000000  2666.000000  2666.000000  2666.000000   \n",
       "mean     39.226182     0.505251    30.670069     1.095274     0.205176   \n",
       "std      14.051909     0.500066     6.103749     1.205335     0.403906   \n",
       "min      18.000000     0.000000    15.960000     0.000000     0.000000   \n",
       "25%      27.000000     0.000000    26.296250     0.000000     0.000000   \n",
       "50%      39.000000     1.000000    30.400000     1.000000     0.000000   \n",
       "75%      51.000000     1.000000    34.700000     2.000000     0.000000   \n",
       "max      64.000000     1.000000    53.130000     5.000000     1.000000   \n",
       "\n",
       "            region       charges  insuranceclaim  \n",
       "count  2666.000000   2666.000000     2666.000000  \n",
       "mean      1.515754  13281.369262        0.585896  \n",
       "std       1.105646  12117.557434        0.492659  \n",
       "min       0.000000   1121.873900        0.000000  \n",
       "25%       1.000000   4746.344000        0.000000  \n",
       "50%       2.000000   9388.753650        1.000000  \n",
       "75%       2.000000  16639.912515        1.000000  \n",
       "max       3.000000  63770.428010        1.000000  "
      ]
     },
     "execution_count": 3,
     "metadata": {},
     "output_type": "execute_result"
    }
   ],
   "source": [
    "data.describe()"
   ]
  },
  {
   "cell_type": "code",
   "execution_count": 4,
   "metadata": {},
   "outputs": [
    {
     "data": {
      "text/plain": [
       "{'whiskers': [<matplotlib.lines.Line2D at 0x2c26fc4e808>,\n",
       "  <matplotlib.lines.Line2D at 0x2c26fc4eec8>],\n",
       " 'caps': [<matplotlib.lines.Line2D at 0x2c26fc4efc8>,\n",
       "  <matplotlib.lines.Line2D at 0x2c26fc59fc8>],\n",
       " 'boxes': [<matplotlib.lines.Line2D at 0x2c26fc44c48>],\n",
       " 'medians': [<matplotlib.lines.Line2D at 0x2c26fc5ca08>],\n",
       " 'fliers': [<matplotlib.lines.Line2D at 0x2c26fc5cac8>],\n",
       " 'means': []}"
      ]
     },
     "execution_count": 4,
     "metadata": {},
     "output_type": "execute_result"
    }
   ],
   "source": [
    "import matplotlib.pyplot as plt\n",
    "plt.boxplot(data['charges'])"
   ]
  },
  {
   "cell_type": "code",
   "execution_count": 5,
   "metadata": {},
   "outputs": [
    {
     "data": {
      "text/plain": [
       "(2666, 8)"
      ]
     },
     "execution_count": 5,
     "metadata": {},
     "output_type": "execute_result"
    }
   ],
   "source": [
    "data.shape"
   ]
  },
  {
   "cell_type": "code",
   "execution_count": 6,
   "metadata": {},
   "outputs": [],
   "source": [
    "collist=data.columns\n",
    "ncol=8\n",
    "nrows=10"
   ]
  },
  {
   "cell_type": "code",
   "execution_count": null,
   "metadata": {},
   "outputs": [],
   "source": [
    "plt.figure(figsize=(5*ncol,5*ncol))\n",
    "for i in range (1,len(collist)):\n",
    "    plt.subplot(nrows,ncol,i+1)\n",
    "    sns.boxplot(data[collist[i]])\n",
    "    plt.tight_layout()"
   ]
  },
  {
   "cell_type": "code",
   "execution_count": null,
   "metadata": {},
   "outputs": [],
   "source": [
    "plt.figure(figsize=(5*ncol,5*ncol))\n",
    "for i in range (1,len(collist)):\n",
    "    plt.subplot(nrows,ncol,i+1)\n",
    "    sns.distplot(data[collist[i]],color='blue')"
   ]
  },
  {
   "cell_type": "code",
   "execution_count": null,
   "metadata": {},
   "outputs": [],
   "source": [
    "sns.pairplot(data)"
   ]
  },
  {
   "cell_type": "code",
   "execution_count": 7,
   "metadata": {},
   "outputs": [
    {
     "data": {
      "text/plain": [
       "age               0.053203\n",
       "sex              -0.021018\n",
       "bmi               0.281929\n",
       "children          0.938613\n",
       "smoker            1.460958\n",
       "region           -0.038197\n",
       "charges           1.514324\n",
       "insuranceclaim   -0.348967\n",
       "dtype: float64"
      ]
     },
     "execution_count": 7,
     "metadata": {},
     "output_type": "execute_result"
    }
   ],
   "source": [
    "data.skew()"
   ]
  },
  {
   "cell_type": "code",
   "execution_count": 8,
   "metadata": {},
   "outputs": [
    {
     "name": "stdout",
     "output_type": "stream",
     "text": [
      "(2666, 8)\n",
      "(2608, 8)\n"
     ]
    }
   ],
   "source": [
    "from scipy.stats import zscore\n",
    "\n",
    "dt=abs(zscore(data))\n",
    "data_new=data.loc[(dt<3).all(axis=1)]\n",
    "print(data.shape)\n",
    "print(data_new.shape)"
   ]
  },
  {
   "cell_type": "code",
   "execution_count": 9,
   "metadata": {},
   "outputs": [
    {
     "data": {
      "text/plain": [
       "age               0.048796\n",
       "sex              -0.010743\n",
       "bmi               0.189383\n",
       "children          0.737799\n",
       "smoker            1.478858\n",
       "region           -0.023068\n",
       "charges           1.435733\n",
       "insuranceclaim   -0.355369\n",
       "dtype: float64"
      ]
     },
     "execution_count": 9,
     "metadata": {},
     "output_type": "execute_result"
    }
   ],
   "source": [
    "data_new.skew()"
   ]
  },
  {
   "cell_type": "code",
   "execution_count": 12,
   "metadata": {},
   "outputs": [
    {
     "data": {
      "text/plain": [
       "<matplotlib.axes._subplots.AxesSubplot at 0x2c271d5ec88>"
      ]
     },
     "execution_count": 12,
     "metadata": {},
     "output_type": "execute_result"
    },
    {
     "data": {
      "image/png": "[encoded data removed]",
      "text/plain": [
       "<Figure size 432x288 with 2 Axes>"
      ]
     },
     "metadata": {
      "needs_background": "light"
     },
     "output_type": "display_data"
    }
   ],
   "source": [
    "sns.heatmap(data_new.corr())"
   ]
  },
  {
   "cell_type": "code",
   "execution_count": 13,
   "metadata": {},
   "outputs": [
    {
     "data": {
      "text/plain": [
       "age               0\n",
       "sex               0\n",
       "bmi               0\n",
       "children          0\n",
       "smoker            0\n",
       "region            0\n",
       "charges           0\n",
       "insuranceclaim    0\n",
       "dtype: int64"
      ]
     },
     "execution_count": 13,
     "metadata": {},
     "output_type": "execute_result"
    }
   ],
   "source": [
    "data_new.isnull().sum()"
   ]
  },
  {
   "cell_type": "code",
   "execution_count": 14,
   "metadata": {},
   "outputs": [
    {
     "name": "stdout",
     "output_type": "stream",
     "text": [
      "age               0.048796\n",
      "sex              -0.010743\n",
      "bmi               0.189383\n",
      "children               NaN\n",
      "smoker                 NaN\n",
      "region           -0.023068\n",
      "charges          -0.108352\n",
      "insuranceclaim   -0.355369\n",
      "dtype: float64\n"
     ]
    },
    {
     "name": "stderr",
     "output_type": "stream",
     "text": [
      "C:\\ProgramData\\Anaconda3\\lib\\site-packages\\pandas\\core\\series.py:853: RuntimeWarning: divide by zero encountered in log\n",
      "  result = getattr(ufunc, method)(*inputs, **kwargs)\n",
      "C:\\ProgramData\\Anaconda3\\lib\\site-packages\\ipykernel_launcher.py:3: SettingWithCopyWarning: \n",
      "A value is trying to be set on a copy of a slice from a DataFrame.\n",
      "Try using .loc[row_indexer,col_indexer] = value instead\n",
      "\n",
      "See the caveats in the documentation: http://pandas.pydata.org/pandas-docs/stable/user_guide/indexing.html#returning-a-view-versus-a-copy\n",
      "  This is separate from the ipykernel package so we can avoid doing imports until\n"
     ]
    }
   ],
   "source": [
    "for i in data_new.columns:\n",
    "    if data_new.skew().loc[i]>0.55:\n",
    "        data_new[i]=np.log(data_new[i])\n",
    "        \n",
    "        \n",
    "print(data_new.skew())"
   ]
  },
  {
   "cell_type": "code",
   "execution_count": 15,
   "metadata": {},
   "outputs": [
    {
     "name": "stdout",
     "output_type": "stream",
     "text": [
      "(2608, 5)\n",
      "(2608, 1)\n"
     ]
    }
   ],
   "source": [
    "x=data_new.drop(columns=['insuranceclaim','children','smoker'])\n",
    "y=data_new[['insuranceclaim']]\n",
    "\n",
    "print(x.shape)\n",
    "print(y.shape)"
   ]
  },
  {
   "cell_type": "code",
   "execution_count": 16,
   "metadata": {},
   "outputs": [],
   "source": [
    "from sklearn.model_selection import train_test_split\n",
    "from sklearn.linear_model import LogisticRegression\n",
    "from sklearn.neighbors import KNeighborsClassifier\n",
    "from sklearn.naive_bayes import GaussianNB\n",
    "from sklearn.svm import SVC\n",
    "from sklearn.tree import DecisionTreeClassifier"
   ]
  },
  {
   "cell_type": "code",
   "execution_count": 17,
   "metadata": {},
   "outputs": [],
   "source": [
    "from sklearn.metrics import r2_score,accuracy_score,classification_report,confusion_matrix,roc_curve,auc"
   ]
  },
  {
   "cell_type": "code",
   "execution_count": 20,
   "metadata": {},
   "outputs": [
    {
     "name": "stdout",
     "output_type": "stream",
     "text": [
      "0.7183026584867076\n",
      "0.691717791411043\n",
      "[[148 142]\n",
      " [ 59 303]]\n",
      "              precision    recall  f1-score   support\n",
      "\n",
      "           0       0.71      0.51      0.60       290\n",
      "           1       0.68      0.84      0.75       362\n",
      "\n",
      "    accuracy                           0.69       652\n",
      "   macro avg       0.70      0.67      0.67       652\n",
      "weighted avg       0.70      0.69      0.68       652\n",
      "\n",
      "for the randon state: 99 max r2scr is 0\n",
      "0.7070674323624365\n"
     ]
    }
   ],
   "source": [
    "maxrscr=0\n",
    "for r in range(45,100):\n",
    "    x_train,x_test,y_train,y_test=train_test_split(x,y,random_state=r)\n",
    "    lr=LogisticRegression()\n",
    "    lr.fit(x_train,y_train)\n",
    "    ypred=lr.predict(x_test)\n",
    "    rscr=r2_score(y_test,ypred)\n",
    "    if rscr>maxrscr:\n",
    "        maxrscr=rscr\n",
    "    final=r\n",
    "print(lr.score(x_train,y_train))\n",
    "print(accuracy_score(y_test,ypred))\n",
    "print(confusion_matrix(y_test,ypred))\n",
    "print(classification_report(y_test,ypred))\n",
    "print('for the randon state:',final,'max r2scr is',maxrscr)\n",
    "\n",
    "from sklearn.model_selection import cross_val_score\n",
    "print(cross_val_score(lr,x,y,cv=5).mean())"
   ]
  },
  {
   "cell_type": "code",
   "execution_count": 21,
   "metadata": {},
   "outputs": [
    {
     "name": "stdout",
     "output_type": "stream",
     "text": [
      "0.8445807770961146\n",
      "0.8006134969325154\n",
      "[[216  74]\n",
      " [ 56 306]]\n",
      "              precision    recall  f1-score   support\n",
      "\n",
      "           0       0.79      0.74      0.77       290\n",
      "           1       0.81      0.85      0.82       362\n",
      "\n",
      "    accuracy                           0.80       652\n",
      "   macro avg       0.80      0.80      0.80       652\n",
      "weighted avg       0.80      0.80      0.80       652\n",
      "\n",
      "for the randon state: 99 max r2scr is 0.19264216575922566\n",
      "0.8029089628045691\n"
     ]
    }
   ],
   "source": [
    "maxrscr=0\n",
    "for r in range(45,100):\n",
    "    x_train,x_test,y_train,y_test=train_test_split(x,y,random_state=r)\n",
    "    kn=KNeighborsClassifier()\n",
    "    kn.fit(x_train,y_train)\n",
    "    ypred1=kn.predict(x_test)\n",
    "    rscr=r2_score(y_test,ypred1)\n",
    "    if rscr>maxrscr:\n",
    "        maxrscr=rscr\n",
    "    final=r\n",
    "print(kn.score(x_train,y_train))\n",
    "print(accuracy_score(y_test,ypred1))\n",
    "print(confusion_matrix(y_test,ypred1))\n",
    "print(classification_report(y_test,ypred1))\n",
    "print('for the randon state:',final,'max r2scr is',maxrscr)\n",
    "\n",
    "from sklearn.model_selection import cross_val_score\n",
    "print(cross_val_score(kn,x,y,cv=5).mean())"
   ]
  },
  {
   "cell_type": "code",
   "execution_count": 22,
   "metadata": {},
   "outputs": [
    {
     "name": "stdout",
     "output_type": "stream",
     "text": [
      "0.745398773006135\n",
      "0.7162576687116564\n",
      "[[171 119]\n",
      " [ 66 296]]\n",
      "              precision    recall  f1-score   support\n",
      "\n",
      "           0       0.72      0.59      0.65       290\n",
      "           1       0.71      0.82      0.76       362\n",
      "\n",
      "    accuracy                           0.72       652\n",
      "   macro avg       0.72      0.70      0.71       652\n",
      "weighted avg       0.72      0.72      0.71       652\n",
      "\n",
      "for the randon state: 99 max r2scr is 0.07523012631959702\n",
      "0.7354354139257139\n"
     ]
    },
    {
     "data": {
      "text/plain": [
       "0.7036673652124215"
      ]
     },
     "execution_count": 22,
     "metadata": {},
     "output_type": "execute_result"
    }
   ],
   "source": [
    "maxrscr=0\n",
    "for r in range(45,100):\n",
    "    x_train,x_test,y_train,y_test=train_test_split(x,y,random_state=r)\n",
    "    gnb=GaussianNB()\n",
    "    gnb.fit(x_train,y_train)\n",
    "    ypred2=gnb.predict(x_test)\n",
    "    rscr=r2_score(y_test,ypred2)\n",
    "    if rscr>maxrscr:\n",
    "        maxrscr=rscr\n",
    "    final=r\n",
    "print(gnb.score(x_train,y_train))\n",
    "print(accuracy_score(y_test,ypred2))\n",
    "print(confusion_matrix(y_test,ypred2))\n",
    "print(classification_report(y_test,ypred2))\n",
    "print('for the randon state:',final,'max r2scr is',maxrscr)\n",
    "\n",
    "from sklearn.model_selection import cross_val_score\n",
    "print(cross_val_score(gnb,x,y,cv=5).mean())\n",
    "\n",
    "fpr, tpr, thresholds = roc_curve(y_test,ypred2)\n",
    "roc_auc = auc(fpr, tpr)\n",
    "roc_auc"
   ]
  },
  {
   "cell_type": "code",
   "execution_count": 23,
   "metadata": {},
   "outputs": [
    {
     "name": "stdout",
     "output_type": "stream",
     "text": [
      "1.0\n",
      "0.9570552147239264\n",
      "[[275  15]\n",
      " [ 13 349]]\n",
      "              precision    recall  f1-score   support\n",
      "\n",
      "           0       0.95      0.95      0.95       290\n",
      "           1       0.96      0.96      0.96       362\n",
      "\n",
      "    accuracy                           0.96       652\n",
      "   macro avg       0.96      0.96      0.96       652\n",
      "weighted avg       0.96      0.96      0.96       652\n",
      "\n",
      "for the randon state: 99 max r2scr is 0.897511470030554\n",
      "0.9996175908221797\n"
     ]
    }
   ],
   "source": [
    "maxrscr=0\n",
    "for r in range(45,100):\n",
    "    x_train,x_test,y_train,y_test=train_test_split(x,y,random_state=r)\n",
    "    dtc=DecisionTreeClassifier()\n",
    "    dtc.fit(x_train,y_train)\n",
    "    ypred3=dtc.predict(x_test)\n",
    "    rscr=r2_score(y_test,ypred3)\n",
    "    if rscr>maxrscr:\n",
    "        maxrscr=rscr\n",
    "    final=r\n",
    "print(dtc.score(x_train,y_train))\n",
    "print(accuracy_score(y_test,ypred3))\n",
    "print(confusion_matrix(y_test,ypred3))\n",
    "print(classification_report(y_test,ypred3))\n",
    "print('for the randon state:',final,'max r2scr is',maxrscr)\n",
    "\n",
    "from sklearn.model_selection import cross_val_score\n",
    "print(cross_val_score(dtc,x,y,cv=5).mean())"
   ]
  },
  {
   "cell_type": "code",
   "execution_count": 24,
   "metadata": {},
   "outputs": [
    {
     "name": "stdout",
     "output_type": "stream",
     "text": [
      "0.8921267893660532\n",
      "0.8251533742331288\n",
      "[[207  83]\n",
      " [ 31 331]]\n",
      "              precision    recall  f1-score   support\n",
      "\n",
      "           0       0.87      0.71      0.78       290\n",
      "           1       0.80      0.91      0.85       362\n",
      "\n",
      "    accuracy                           0.83       652\n",
      "   macro avg       0.83      0.81      0.82       652\n",
      "weighted avg       0.83      0.83      0.82       652\n",
      "\n",
      "for the randon state: 99 max r2scr is 0.34193687469990497\n",
      "0.8401024420476695\n"
     ]
    }
   ],
   "source": [
    "maxrscr=0\n",
    "for r in range(45,100):\n",
    "    x_train,x_test,y_train,y_test=train_test_split(x,y,random_state=r)\n",
    "    svc=SVC()\n",
    "    svc.fit(x_train,y_train)\n",
    "    ypred4=svc.predict(x_test)\n",
    "    rscr=r2_score(y_test,ypred4)\n",
    "    if rscr>maxrscr:\n",
    "        maxrscr=rscr\n",
    "    final=r\n",
    "print(svc.score(x_train,y_train))\n",
    "print(accuracy_score(y_test,ypred4))\n",
    "print(confusion_matrix(y_test,ypred4))\n",
    "print(classification_report(y_test,ypred4))\n",
    "print('for the randon state:',final,'max r2scr is',maxrscr)\n",
    "\n",
    "from sklearn.model_selection import cross_val_score\n",
    "print(cross_val_score(svc,x,y,cv=5).mean())"
   ]
  },
  {
   "cell_type": "code",
   "execution_count": 25,
   "metadata": {},
   "outputs": [
    {
     "data": {
      "text/plain": [
       "['SBI.pk1']"
      ]
     },
     "execution_count": 25,
     "metadata": {},
     "output_type": "execute_result"
    }
   ],
   "source": [
    "# the max r2_score of Decession Tree Classifier is 0.89 and the cross_val_score is 0.99\n",
    "from sklearn.externals import joblib\n",
    "joblib.dump(dtc,'SBI.pk1')"
   ]
  },
  {
   "cell_type": "raw",
   "metadata": {},
   "source": []
  },
  {
   "cell_type": "code",
   "execution_count": null,
   "metadata": {},
   "outputs": [],
   "source": []
  }
 ],
 "metadata": {
  "kernelspec": {
   "display_name": "Python 3",
   "language": "python",
   "name": "python3"
  },
  "language_info": {
   "codemirror_mode": {
    "name": "ipython",
    "version": 3
   },
   "file_extension": ".py",
   "mimetype": "text/x-python",
   "name": "python",
   "nbconvert_exporter": "python",
   "pygments_lexer": "ipython3",
   "version": "3.7.4"
  }
 },
 "nbformat": 4,
 "nbformat_minor": 2
}
