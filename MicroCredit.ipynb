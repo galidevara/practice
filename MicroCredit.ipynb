{
  "nbformat": 4,
  "nbformat_minor": 0,
  "metadata": {
    "colab": {
      "name": "Copy of Copy of Untitled0.ipynb",
      "provenance": [],
      "collapsed_sections": [],
      "authorship_tag": "ABX9TyNO2VnGGS+ieNIGAM70chr1",
      "include_colab_link": true
    },
    "kernelspec": {
      "display_name": "Python 3",
      "name": "python3"
    }
  },
  "cells": [
    {
      "cell_type": "markdown",
      "metadata": {
        "id": "view-in-github",
        "colab_type": "text"
      },
      "source": [
        "<a href=\"https://colab.research.google.com/github/galidevara/practice/blob/Micro_Credit/MicroCredit.ipynb\" target=\"_parent\"><img src=\"https://colab.research.google.com/assets/colab-badge.svg\" alt=\"Open In Colab\"/></a>"
      ]
    },
    {
      "cell_type": "code",
      "metadata": {
        "id": "G-1IqpNv2TiV"
      },
      "source": [
        "import pandas as pd\n",
        "import numpy as np\n",
        "import matplotlib.pyplot as plt\n",
        "import seaborn as sns\n",
        "import warnings\n",
        "warnings.filterwarnings('ignore')"
      ],
      "execution_count": null,
      "outputs": []
    },
    {
      "cell_type": "code",
      "metadata": {
        "id": "9YruRe7k3AUP",
        "outputId": "51870a82-b0bf-45c4-a853-75132d690148",
        "colab": {
          "base_uri": "https://localhost:8080/",
          "height": 401
        }
      },
      "source": [
        "data= pd.read_csv(\"Data file.csv\")\n",
        "data.head()"
      ],
      "execution_count": null,
      "outputs": [
        {
          "output_type": "execute_result",
          "data": {
            "text/html": [
              "<div>\n",
              "<style scoped>\n",
              "    .dataframe tbody tr th:only-of-type {\n",
              "        vertical-align: middle;\n",
              "    }\n",
              "\n",
              "    .dataframe tbody tr th {\n",
              "        vertical-align: top;\n",
              "    }\n",
              "\n",
              "    .dataframe thead th {\n",
              "        text-align: right;\n",
              "    }\n",
              "</style>\n",
              "<table border=\"1\" class=\"dataframe\">\n",
              "  <thead>\n",
              "    <tr style=\"text-align: right;\">\n",
              "      <th></th>\n",
              "      <th>Unnamed: 0</th>\n",
              "      <th>label</th>\n",
              "      <th>msisdn</th>\n",
              "      <th>aon</th>\n",
              "      <th>daily_decr30</th>\n",
              "      <th>daily_decr90</th>\n",
              "      <th>rental30</th>\n",
              "      <th>rental90</th>\n",
              "      <th>last_rech_date_ma</th>\n",
              "      <th>last_rech_date_da</th>\n",
              "      <th>last_rech_amt_ma</th>\n",
              "      <th>cnt_ma_rech30</th>\n",
              "      <th>fr_ma_rech30</th>\n",
              "      <th>sumamnt_ma_rech30</th>\n",
              "      <th>medianamnt_ma_rech30</th>\n",
              "      <th>medianmarechprebal30</th>\n",
              "      <th>cnt_ma_rech90</th>\n",
              "      <th>fr_ma_rech90</th>\n",
              "      <th>sumamnt_ma_rech90</th>\n",
              "      <th>medianamnt_ma_rech90</th>\n",
              "      <th>medianmarechprebal90</th>\n",
              "      <th>cnt_da_rech30</th>\n",
              "      <th>fr_da_rech30</th>\n",
              "      <th>cnt_da_rech90</th>\n",
              "      <th>fr_da_rech90</th>\n",
              "      <th>cnt_loans30</th>\n",
              "      <th>amnt_loans30</th>\n",
              "      <th>maxamnt_loans30</th>\n",
              "      <th>medianamnt_loans30</th>\n",
              "      <th>cnt_loans90</th>\n",
              "      <th>amnt_loans90</th>\n",
              "      <th>maxamnt_loans90</th>\n",
              "      <th>medianamnt_loans90</th>\n",
              "      <th>payback30</th>\n",
              "      <th>payback90</th>\n",
              "      <th>pcircle</th>\n",
              "      <th>pdate</th>\n",
              "    </tr>\n",
              "  </thead>\n",
              "  <tbody>\n",
              "    <tr>\n",
              "      <th>0</th>\n",
              "      <td>1</td>\n",
              "      <td>0</td>\n",
              "      <td>21408I70789</td>\n",
              "      <td>272.0</td>\n",
              "      <td>3055.050000</td>\n",
              "      <td>3065.150000</td>\n",
              "      <td>220.13</td>\n",
              "      <td>260.13</td>\n",
              "      <td>2.0</td>\n",
              "      <td>0.0</td>\n",
              "      <td>1539</td>\n",
              "      <td>2</td>\n",
              "      <td>21.0</td>\n",
              "      <td>3078.0</td>\n",
              "      <td>1539.0</td>\n",
              "      <td>7.50</td>\n",
              "      <td>2</td>\n",
              "      <td>21</td>\n",
              "      <td>3078</td>\n",
              "      <td>1539.0</td>\n",
              "      <td>7.50</td>\n",
              "      <td>0.0</td>\n",
              "      <td>0.0</td>\n",
              "      <td>0</td>\n",
              "      <td>0</td>\n",
              "      <td>2</td>\n",
              "      <td>12</td>\n",
              "      <td>6.0</td>\n",
              "      <td>0.0</td>\n",
              "      <td>2.0</td>\n",
              "      <td>12</td>\n",
              "      <td>6</td>\n",
              "      <td>0.0</td>\n",
              "      <td>29.000000</td>\n",
              "      <td>29.000000</td>\n",
              "      <td>UPW</td>\n",
              "      <td>20-07-2016</td>\n",
              "    </tr>\n",
              "    <tr>\n",
              "      <th>1</th>\n",
              "      <td>2</td>\n",
              "      <td>1</td>\n",
              "      <td>76462I70374</td>\n",
              "      <td>712.0</td>\n",
              "      <td>12122.000000</td>\n",
              "      <td>12124.750000</td>\n",
              "      <td>3691.26</td>\n",
              "      <td>3691.26</td>\n",
              "      <td>20.0</td>\n",
              "      <td>0.0</td>\n",
              "      <td>5787</td>\n",
              "      <td>1</td>\n",
              "      <td>0.0</td>\n",
              "      <td>5787.0</td>\n",
              "      <td>5787.0</td>\n",
              "      <td>61.04</td>\n",
              "      <td>1</td>\n",
              "      <td>0</td>\n",
              "      <td>5787</td>\n",
              "      <td>5787.0</td>\n",
              "      <td>61.04</td>\n",
              "      <td>0.0</td>\n",
              "      <td>0.0</td>\n",
              "      <td>0</td>\n",
              "      <td>0</td>\n",
              "      <td>1</td>\n",
              "      <td>12</td>\n",
              "      <td>12.0</td>\n",
              "      <td>0.0</td>\n",
              "      <td>1.0</td>\n",
              "      <td>12</td>\n",
              "      <td>12</td>\n",
              "      <td>0.0</td>\n",
              "      <td>0.000000</td>\n",
              "      <td>0.000000</td>\n",
              "      <td>UPW</td>\n",
              "      <td>10-08-2016</td>\n",
              "    </tr>\n",
              "    <tr>\n",
              "      <th>2</th>\n",
              "      <td>3</td>\n",
              "      <td>1</td>\n",
              "      <td>17943I70372</td>\n",
              "      <td>535.0</td>\n",
              "      <td>1398.000000</td>\n",
              "      <td>1398.000000</td>\n",
              "      <td>900.13</td>\n",
              "      <td>900.13</td>\n",
              "      <td>3.0</td>\n",
              "      <td>0.0</td>\n",
              "      <td>1539</td>\n",
              "      <td>1</td>\n",
              "      <td>0.0</td>\n",
              "      <td>1539.0</td>\n",
              "      <td>1539.0</td>\n",
              "      <td>66.32</td>\n",
              "      <td>1</td>\n",
              "      <td>0</td>\n",
              "      <td>1539</td>\n",
              "      <td>1539.0</td>\n",
              "      <td>66.32</td>\n",
              "      <td>0.0</td>\n",
              "      <td>0.0</td>\n",
              "      <td>0</td>\n",
              "      <td>0</td>\n",
              "      <td>1</td>\n",
              "      <td>6</td>\n",
              "      <td>6.0</td>\n",
              "      <td>0.0</td>\n",
              "      <td>1.0</td>\n",
              "      <td>6</td>\n",
              "      <td>6</td>\n",
              "      <td>0.0</td>\n",
              "      <td>0.000000</td>\n",
              "      <td>0.000000</td>\n",
              "      <td>UPW</td>\n",
              "      <td>19-08-2016</td>\n",
              "    </tr>\n",
              "    <tr>\n",
              "      <th>3</th>\n",
              "      <td>4</td>\n",
              "      <td>1</td>\n",
              "      <td>55773I70781</td>\n",
              "      <td>241.0</td>\n",
              "      <td>21.228000</td>\n",
              "      <td>21.228000</td>\n",
              "      <td>159.42</td>\n",
              "      <td>159.42</td>\n",
              "      <td>41.0</td>\n",
              "      <td>0.0</td>\n",
              "      <td>947</td>\n",
              "      <td>0</td>\n",
              "      <td>0.0</td>\n",
              "      <td>0.0</td>\n",
              "      <td>0.0</td>\n",
              "      <td>0.00</td>\n",
              "      <td>1</td>\n",
              "      <td>0</td>\n",
              "      <td>947</td>\n",
              "      <td>947.0</td>\n",
              "      <td>2.50</td>\n",
              "      <td>0.0</td>\n",
              "      <td>0.0</td>\n",
              "      <td>0</td>\n",
              "      <td>0</td>\n",
              "      <td>2</td>\n",
              "      <td>12</td>\n",
              "      <td>6.0</td>\n",
              "      <td>0.0</td>\n",
              "      <td>2.0</td>\n",
              "      <td>12</td>\n",
              "      <td>6</td>\n",
              "      <td>0.0</td>\n",
              "      <td>0.000000</td>\n",
              "      <td>0.000000</td>\n",
              "      <td>UPW</td>\n",
              "      <td>06-06-2016</td>\n",
              "    </tr>\n",
              "    <tr>\n",
              "      <th>4</th>\n",
              "      <td>5</td>\n",
              "      <td>1</td>\n",
              "      <td>03813I82730</td>\n",
              "      <td>947.0</td>\n",
              "      <td>150.619333</td>\n",
              "      <td>150.619333</td>\n",
              "      <td>1098.90</td>\n",
              "      <td>1098.90</td>\n",
              "      <td>4.0</td>\n",
              "      <td>0.0</td>\n",
              "      <td>2309</td>\n",
              "      <td>7</td>\n",
              "      <td>2.0</td>\n",
              "      <td>20029.0</td>\n",
              "      <td>2309.0</td>\n",
              "      <td>29.00</td>\n",
              "      <td>8</td>\n",
              "      <td>2</td>\n",
              "      <td>23496</td>\n",
              "      <td>2888.0</td>\n",
              "      <td>35.00</td>\n",
              "      <td>0.0</td>\n",
              "      <td>0.0</td>\n",
              "      <td>0</td>\n",
              "      <td>0</td>\n",
              "      <td>7</td>\n",
              "      <td>42</td>\n",
              "      <td>6.0</td>\n",
              "      <td>0.0</td>\n",
              "      <td>7.0</td>\n",
              "      <td>42</td>\n",
              "      <td>6</td>\n",
              "      <td>0.0</td>\n",
              "      <td>2.333333</td>\n",
              "      <td>2.333333</td>\n",
              "      <td>UPW</td>\n",
              "      <td>22-06-2016</td>\n",
              "    </tr>\n",
              "  </tbody>\n",
              "</table>\n",
              "</div>"
            ],
            "text/plain": [
              "   Unnamed: 0  label       msisdn  ...  payback90  pcircle       pdate\n",
              "0           1      0  21408I70789  ...  29.000000      UPW  20-07-2016\n",
              "1           2      1  76462I70374  ...   0.000000      UPW  10-08-2016\n",
              "2           3      1  17943I70372  ...   0.000000      UPW  19-08-2016\n",
              "3           4      1  55773I70781  ...   0.000000      UPW  06-06-2016\n",
              "4           5      1  03813I82730  ...   2.333333      UPW  22-06-2016\n",
              "\n",
              "[5 rows x 37 columns]"
            ]
          },
          "metadata": {
            "tags": []
          },
          "execution_count": 2
        }
      ]
    },
    {
      "cell_type": "code",
      "metadata": {
        "id": "06hL4dQi_h6m"
      },
      "source": [
        "data.drop(columns=['Unnamed: 0','msisdn','pdate','pcircle'],inplace=True,axis=1)"
      ],
      "execution_count": null,
      "outputs": []
    },
    {
      "cell_type": "code",
      "metadata": {
        "id": "LtI2yPK83Iv_"
      },
      "source": [
        "data.shape"
      ],
      "execution_count": null,
      "outputs": []
    },
    {
      "cell_type": "code",
      "metadata": {
        "id": "XCpYvgo60-8S"
      },
      "source": [
        "data.label.value_counts()"
      ],
      "execution_count": null,
      "outputs": []
    },
    {
      "cell_type": "code",
      "metadata": {
        "id": "uYYXgUNz5_52"
      },
      "source": [
        "data.label.value_counts().plot(kind = 'barh')"
      ],
      "execution_count": null,
      "outputs": []
    },
    {
      "cell_type": "code",
      "metadata": {
        "id": "w-ZA-Fv_Nshe",
        "outputId": "96085e15-7f56-4cca-a8f6-9590d33cbe08",
        "colab": {
          "base_uri": "https://localhost:8080/",
          "height": 307
        }
      },
      "source": [
        "data.describe()"
      ],
      "execution_count": null,
      "outputs": [
        {
          "output_type": "execute_result",
          "data": {
            "text/html": [
              "<div>\n",
              "<style scoped>\n",
              "    .dataframe tbody tr th:only-of-type {\n",
              "        vertical-align: middle;\n",
              "    }\n",
              "\n",
              "    .dataframe tbody tr th {\n",
              "        vertical-align: top;\n",
              "    }\n",
              "\n",
              "    .dataframe thead th {\n",
              "        text-align: right;\n",
              "    }\n",
              "</style>\n",
              "<table border=\"1\" class=\"dataframe\">\n",
              "  <thead>\n",
              "    <tr style=\"text-align: right;\">\n",
              "      <th></th>\n",
              "      <th>label</th>\n",
              "      <th>aon</th>\n",
              "      <th>daily_decr30</th>\n",
              "      <th>daily_decr90</th>\n",
              "      <th>rental30</th>\n",
              "      <th>rental90</th>\n",
              "      <th>last_rech_date_ma</th>\n",
              "      <th>last_rech_date_da</th>\n",
              "      <th>last_rech_amt_ma</th>\n",
              "      <th>cnt_ma_rech30</th>\n",
              "      <th>fr_ma_rech30</th>\n",
              "      <th>sumamnt_ma_rech30</th>\n",
              "      <th>medianamnt_ma_rech30</th>\n",
              "      <th>medianmarechprebal30</th>\n",
              "      <th>cnt_ma_rech90</th>\n",
              "      <th>fr_ma_rech90</th>\n",
              "      <th>sumamnt_ma_rech90</th>\n",
              "      <th>medianamnt_ma_rech90</th>\n",
              "      <th>medianmarechprebal90</th>\n",
              "      <th>cnt_da_rech30</th>\n",
              "      <th>fr_da_rech30</th>\n",
              "      <th>cnt_da_rech90</th>\n",
              "      <th>fr_da_rech90</th>\n",
              "      <th>cnt_loans30</th>\n",
              "      <th>amnt_loans30</th>\n",
              "      <th>maxamnt_loans30</th>\n",
              "      <th>medianamnt_loans30</th>\n",
              "      <th>cnt_loans90</th>\n",
              "      <th>amnt_loans90</th>\n",
              "      <th>maxamnt_loans90</th>\n",
              "      <th>medianamnt_loans90</th>\n",
              "      <th>payback30</th>\n",
              "      <th>payback90</th>\n",
              "    </tr>\n",
              "  </thead>\n",
              "  <tbody>\n",
              "    <tr>\n",
              "      <th>count</th>\n",
              "      <td>209593.000000</td>\n",
              "      <td>209593.000000</td>\n",
              "      <td>209593.000000</td>\n",
              "      <td>209593.000000</td>\n",
              "      <td>209593.000000</td>\n",
              "      <td>209593.000000</td>\n",
              "      <td>209593.00000</td>\n",
              "      <td>209593.000000</td>\n",
              "      <td>209593.000000</td>\n",
              "      <td>209593.000000</td>\n",
              "      <td>209593.000000</td>\n",
              "      <td>209593.000000</td>\n",
              "      <td>209593.000000</td>\n",
              "      <td>209593.000000</td>\n",
              "      <td>209593.00000</td>\n",
              "      <td>209593.000000</td>\n",
              "      <td>209593.000000</td>\n",
              "      <td>209593.000000</td>\n",
              "      <td>209593.000000</td>\n",
              "      <td>209593.000000</td>\n",
              "      <td>209593.000000</td>\n",
              "      <td>209593.000000</td>\n",
              "      <td>209593.000000</td>\n",
              "      <td>209593.000000</td>\n",
              "      <td>209593.000000</td>\n",
              "      <td>209593.000000</td>\n",
              "      <td>209593.000000</td>\n",
              "      <td>209593.000000</td>\n",
              "      <td>209593.000000</td>\n",
              "      <td>209593.000000</td>\n",
              "      <td>209593.000000</td>\n",
              "      <td>209593.000000</td>\n",
              "      <td>209593.000000</td>\n",
              "    </tr>\n",
              "    <tr>\n",
              "      <th>mean</th>\n",
              "      <td>0.875177</td>\n",
              "      <td>8112.343445</td>\n",
              "      <td>5381.402289</td>\n",
              "      <td>6082.515068</td>\n",
              "      <td>2692.581910</td>\n",
              "      <td>3483.406534</td>\n",
              "      <td>3755.84780</td>\n",
              "      <td>3712.202921</td>\n",
              "      <td>2064.452797</td>\n",
              "      <td>3.978057</td>\n",
              "      <td>3737.355121</td>\n",
              "      <td>7704.501157</td>\n",
              "      <td>1812.817952</td>\n",
              "      <td>3851.927942</td>\n",
              "      <td>6.31543</td>\n",
              "      <td>7.716780</td>\n",
              "      <td>12396.218352</td>\n",
              "      <td>1864.595821</td>\n",
              "      <td>92.025541</td>\n",
              "      <td>262.578110</td>\n",
              "      <td>3749.494447</td>\n",
              "      <td>0.041495</td>\n",
              "      <td>0.045712</td>\n",
              "      <td>2.758981</td>\n",
              "      <td>17.952021</td>\n",
              "      <td>274.658747</td>\n",
              "      <td>0.054029</td>\n",
              "      <td>18.520919</td>\n",
              "      <td>23.645398</td>\n",
              "      <td>6.703134</td>\n",
              "      <td>0.046077</td>\n",
              "      <td>3.398826</td>\n",
              "      <td>4.321485</td>\n",
              "    </tr>\n",
              "    <tr>\n",
              "      <th>std</th>\n",
              "      <td>0.330519</td>\n",
              "      <td>75696.082531</td>\n",
              "      <td>9220.623400</td>\n",
              "      <td>10918.812767</td>\n",
              "      <td>4308.586781</td>\n",
              "      <td>5770.461279</td>\n",
              "      <td>53905.89223</td>\n",
              "      <td>53374.833430</td>\n",
              "      <td>2370.786034</td>\n",
              "      <td>4.256090</td>\n",
              "      <td>53643.625172</td>\n",
              "      <td>10139.621714</td>\n",
              "      <td>2070.864620</td>\n",
              "      <td>54006.374433</td>\n",
              "      <td>7.19347</td>\n",
              "      <td>12.590251</td>\n",
              "      <td>16857.793882</td>\n",
              "      <td>2081.680664</td>\n",
              "      <td>369.215658</td>\n",
              "      <td>4183.897978</td>\n",
              "      <td>53885.414979</td>\n",
              "      <td>0.397556</td>\n",
              "      <td>0.951386</td>\n",
              "      <td>2.554502</td>\n",
              "      <td>17.379741</td>\n",
              "      <td>4245.264648</td>\n",
              "      <td>0.218039</td>\n",
              "      <td>224.797423</td>\n",
              "      <td>26.469861</td>\n",
              "      <td>2.103864</td>\n",
              "      <td>0.200692</td>\n",
              "      <td>8.813729</td>\n",
              "      <td>10.308108</td>\n",
              "    </tr>\n",
              "    <tr>\n",
              "      <th>min</th>\n",
              "      <td>0.000000</td>\n",
              "      <td>-48.000000</td>\n",
              "      <td>-93.012667</td>\n",
              "      <td>-93.012667</td>\n",
              "      <td>-23737.140000</td>\n",
              "      <td>-24720.580000</td>\n",
              "      <td>-29.00000</td>\n",
              "      <td>-29.000000</td>\n",
              "      <td>0.000000</td>\n",
              "      <td>0.000000</td>\n",
              "      <td>0.000000</td>\n",
              "      <td>0.000000</td>\n",
              "      <td>0.000000</td>\n",
              "      <td>-200.000000</td>\n",
              "      <td>0.00000</td>\n",
              "      <td>0.000000</td>\n",
              "      <td>0.000000</td>\n",
              "      <td>0.000000</td>\n",
              "      <td>-200.000000</td>\n",
              "      <td>0.000000</td>\n",
              "      <td>0.000000</td>\n",
              "      <td>0.000000</td>\n",
              "      <td>0.000000</td>\n",
              "      <td>0.000000</td>\n",
              "      <td>0.000000</td>\n",
              "      <td>0.000000</td>\n",
              "      <td>0.000000</td>\n",
              "      <td>0.000000</td>\n",
              "      <td>0.000000</td>\n",
              "      <td>0.000000</td>\n",
              "      <td>0.000000</td>\n",
              "      <td>0.000000</td>\n",
              "      <td>0.000000</td>\n",
              "    </tr>\n",
              "    <tr>\n",
              "      <th>25%</th>\n",
              "      <td>1.000000</td>\n",
              "      <td>246.000000</td>\n",
              "      <td>42.440000</td>\n",
              "      <td>42.692000</td>\n",
              "      <td>280.420000</td>\n",
              "      <td>300.260000</td>\n",
              "      <td>1.00000</td>\n",
              "      <td>0.000000</td>\n",
              "      <td>770.000000</td>\n",
              "      <td>1.000000</td>\n",
              "      <td>0.000000</td>\n",
              "      <td>1540.000000</td>\n",
              "      <td>770.000000</td>\n",
              "      <td>11.000000</td>\n",
              "      <td>2.00000</td>\n",
              "      <td>0.000000</td>\n",
              "      <td>2317.000000</td>\n",
              "      <td>773.000000</td>\n",
              "      <td>14.600000</td>\n",
              "      <td>0.000000</td>\n",
              "      <td>0.000000</td>\n",
              "      <td>0.000000</td>\n",
              "      <td>0.000000</td>\n",
              "      <td>1.000000</td>\n",
              "      <td>6.000000</td>\n",
              "      <td>6.000000</td>\n",
              "      <td>0.000000</td>\n",
              "      <td>1.000000</td>\n",
              "      <td>6.000000</td>\n",
              "      <td>6.000000</td>\n",
              "      <td>0.000000</td>\n",
              "      <td>0.000000</td>\n",
              "      <td>0.000000</td>\n",
              "    </tr>\n",
              "    <tr>\n",
              "      <th>50%</th>\n",
              "      <td>1.000000</td>\n",
              "      <td>527.000000</td>\n",
              "      <td>1469.175667</td>\n",
              "      <td>1500.000000</td>\n",
              "      <td>1083.570000</td>\n",
              "      <td>1334.000000</td>\n",
              "      <td>3.00000</td>\n",
              "      <td>0.000000</td>\n",
              "      <td>1539.000000</td>\n",
              "      <td>3.000000</td>\n",
              "      <td>2.000000</td>\n",
              "      <td>4628.000000</td>\n",
              "      <td>1539.000000</td>\n",
              "      <td>33.900000</td>\n",
              "      <td>4.00000</td>\n",
              "      <td>2.000000</td>\n",
              "      <td>7226.000000</td>\n",
              "      <td>1539.000000</td>\n",
              "      <td>36.000000</td>\n",
              "      <td>0.000000</td>\n",
              "      <td>0.000000</td>\n",
              "      <td>0.000000</td>\n",
              "      <td>0.000000</td>\n",
              "      <td>2.000000</td>\n",
              "      <td>12.000000</td>\n",
              "      <td>6.000000</td>\n",
              "      <td>0.000000</td>\n",
              "      <td>2.000000</td>\n",
              "      <td>12.000000</td>\n",
              "      <td>6.000000</td>\n",
              "      <td>0.000000</td>\n",
              "      <td>0.000000</td>\n",
              "      <td>1.666667</td>\n",
              "    </tr>\n",
              "    <tr>\n",
              "      <th>75%</th>\n",
              "      <td>1.000000</td>\n",
              "      <td>982.000000</td>\n",
              "      <td>7244.000000</td>\n",
              "      <td>7802.790000</td>\n",
              "      <td>3356.940000</td>\n",
              "      <td>4201.790000</td>\n",
              "      <td>7.00000</td>\n",
              "      <td>0.000000</td>\n",
              "      <td>2309.000000</td>\n",
              "      <td>5.000000</td>\n",
              "      <td>6.000000</td>\n",
              "      <td>10010.000000</td>\n",
              "      <td>1924.000000</td>\n",
              "      <td>83.000000</td>\n",
              "      <td>8.00000</td>\n",
              "      <td>8.000000</td>\n",
              "      <td>16000.000000</td>\n",
              "      <td>1924.000000</td>\n",
              "      <td>79.310000</td>\n",
              "      <td>0.000000</td>\n",
              "      <td>0.000000</td>\n",
              "      <td>0.000000</td>\n",
              "      <td>0.000000</td>\n",
              "      <td>4.000000</td>\n",
              "      <td>24.000000</td>\n",
              "      <td>6.000000</td>\n",
              "      <td>0.000000</td>\n",
              "      <td>5.000000</td>\n",
              "      <td>30.000000</td>\n",
              "      <td>6.000000</td>\n",
              "      <td>0.000000</td>\n",
              "      <td>3.750000</td>\n",
              "      <td>4.500000</td>\n",
              "    </tr>\n",
              "    <tr>\n",
              "      <th>max</th>\n",
              "      <td>1.000000</td>\n",
              "      <td>999860.755200</td>\n",
              "      <td>265926.000000</td>\n",
              "      <td>320630.000000</td>\n",
              "      <td>198926.110000</td>\n",
              "      <td>200148.110000</td>\n",
              "      <td>998650.37770</td>\n",
              "      <td>999171.809400</td>\n",
              "      <td>55000.000000</td>\n",
              "      <td>203.000000</td>\n",
              "      <td>999606.368100</td>\n",
              "      <td>810096.000000</td>\n",
              "      <td>55000.000000</td>\n",
              "      <td>999479.419300</td>\n",
              "      <td>336.00000</td>\n",
              "      <td>88.000000</td>\n",
              "      <td>953036.000000</td>\n",
              "      <td>55000.000000</td>\n",
              "      <td>41456.500000</td>\n",
              "      <td>99914.441420</td>\n",
              "      <td>999809.240100</td>\n",
              "      <td>38.000000</td>\n",
              "      <td>64.000000</td>\n",
              "      <td>50.000000</td>\n",
              "      <td>306.000000</td>\n",
              "      <td>99864.560860</td>\n",
              "      <td>3.000000</td>\n",
              "      <td>4997.517944</td>\n",
              "      <td>438.000000</td>\n",
              "      <td>12.000000</td>\n",
              "      <td>3.000000</td>\n",
              "      <td>171.500000</td>\n",
              "      <td>171.500000</td>\n",
              "    </tr>\n",
              "  </tbody>\n",
              "</table>\n",
              "</div>"
            ],
            "text/plain": [
              "               label            aon  ...      payback30      payback90\n",
              "count  209593.000000  209593.000000  ...  209593.000000  209593.000000\n",
              "mean        0.875177    8112.343445  ...       3.398826       4.321485\n",
              "std         0.330519   75696.082531  ...       8.813729      10.308108\n",
              "min         0.000000     -48.000000  ...       0.000000       0.000000\n",
              "25%         1.000000     246.000000  ...       0.000000       0.000000\n",
              "50%         1.000000     527.000000  ...       0.000000       1.666667\n",
              "75%         1.000000     982.000000  ...       3.750000       4.500000\n",
              "max         1.000000  999860.755200  ...     171.500000     171.500000\n",
              "\n",
              "[8 rows x 33 columns]"
            ]
          },
          "metadata": {
            "tags": []
          },
          "execution_count": 5
        }
      ]
    },
    {
      "cell_type": "code",
      "metadata": {
        "id": "zS0PI5V56R6X",
        "outputId": "01209e9f-d191-43ea-9819-7b27040b0772",
        "colab": {
          "base_uri": "https://localhost:8080/"
        }
      },
      "source": [
        "data.info()"
      ],
      "execution_count": null,
      "outputs": [
        {
          "output_type": "stream",
          "text": [
            "<class 'pandas.core.frame.DataFrame'>\n",
            "RangeIndex: 209593 entries, 0 to 209592\n",
            "Data columns (total 33 columns):\n",
            " #   Column                Non-Null Count   Dtype  \n",
            "---  ------                --------------   -----  \n",
            " 0   label                 209593 non-null  int64  \n",
            " 1   aon                   209593 non-null  float64\n",
            " 2   daily_decr30          209593 non-null  float64\n",
            " 3   daily_decr90          209593 non-null  float64\n",
            " 4   rental30              209593 non-null  float64\n",
            " 5   rental90              209593 non-null  float64\n",
            " 6   last_rech_date_ma     209593 non-null  float64\n",
            " 7   last_rech_date_da     209593 non-null  float64\n",
            " 8   last_rech_amt_ma      209593 non-null  int64  \n",
            " 9   cnt_ma_rech30         209593 non-null  int64  \n",
            " 10  fr_ma_rech30          209593 non-null  float64\n",
            " 11  sumamnt_ma_rech30     209593 non-null  float64\n",
            " 12  medianamnt_ma_rech30  209593 non-null  float64\n",
            " 13  medianmarechprebal30  209593 non-null  float64\n",
            " 14  cnt_ma_rech90         209593 non-null  int64  \n",
            " 15  fr_ma_rech90          209593 non-null  int64  \n",
            " 16  sumamnt_ma_rech90     209593 non-null  int64  \n",
            " 17  medianamnt_ma_rech90  209593 non-null  float64\n",
            " 18  medianmarechprebal90  209593 non-null  float64\n",
            " 19  cnt_da_rech30         209593 non-null  float64\n",
            " 20  fr_da_rech30          209593 non-null  float64\n",
            " 21  cnt_da_rech90         209593 non-null  int64  \n",
            " 22  fr_da_rech90          209593 non-null  int64  \n",
            " 23  cnt_loans30           209593 non-null  int64  \n",
            " 24  amnt_loans30          209593 non-null  int64  \n",
            " 25  maxamnt_loans30       209593 non-null  float64\n",
            " 26  medianamnt_loans30    209593 non-null  float64\n",
            " 27  cnt_loans90           209593 non-null  float64\n",
            " 28  amnt_loans90          209593 non-null  int64  \n",
            " 29  maxamnt_loans90       209593 non-null  int64  \n",
            " 30  medianamnt_loans90    209593 non-null  float64\n",
            " 31  payback30             209593 non-null  float64\n",
            " 32  payback90             209593 non-null  float64\n",
            "dtypes: float64(21), int64(12)\n",
            "memory usage: 52.8 MB\n"
          ],
          "name": "stdout"
        }
      ]
    },
    {
      "cell_type": "code",
      "metadata": {
        "id": "FAGxGmEAu9kc"
      },
      "source": [
        "data=data.round(decimals=0)\n",
        "data=data.astype(int)"
      ],
      "execution_count": null,
      "outputs": []
    },
    {
      "cell_type": "code",
      "metadata": {
        "id": "3r9qG5044VTy",
        "outputId": "c2dad1c4-9304-4a74-8106-fd1d31468b5d",
        "colab": {
          "base_uri": "https://localhost:8080/",
          "height": 307
        }
      },
      "source": [
        "data.describe()"
      ],
      "execution_count": null,
      "outputs": [
        {
          "output_type": "execute_result",
          "data": {
            "text/html": [
              "<div>\n",
              "<style scoped>\n",
              "    .dataframe tbody tr th:only-of-type {\n",
              "        vertical-align: middle;\n",
              "    }\n",
              "\n",
              "    .dataframe tbody tr th {\n",
              "        vertical-align: top;\n",
              "    }\n",
              "\n",
              "    .dataframe thead th {\n",
              "        text-align: right;\n",
              "    }\n",
              "</style>\n",
              "<table border=\"1\" class=\"dataframe\">\n",
              "  <thead>\n",
              "    <tr style=\"text-align: right;\">\n",
              "      <th></th>\n",
              "      <th>label</th>\n",
              "      <th>aon</th>\n",
              "      <th>daily_decr30</th>\n",
              "      <th>daily_decr90</th>\n",
              "      <th>rental30</th>\n",
              "      <th>rental90</th>\n",
              "      <th>last_rech_date_ma</th>\n",
              "      <th>last_rech_date_da</th>\n",
              "      <th>last_rech_amt_ma</th>\n",
              "      <th>cnt_ma_rech30</th>\n",
              "      <th>fr_ma_rech30</th>\n",
              "      <th>sumamnt_ma_rech30</th>\n",
              "      <th>medianamnt_ma_rech30</th>\n",
              "      <th>medianmarechprebal30</th>\n",
              "      <th>cnt_ma_rech90</th>\n",
              "      <th>fr_ma_rech90</th>\n",
              "      <th>sumamnt_ma_rech90</th>\n",
              "      <th>medianamnt_ma_rech90</th>\n",
              "      <th>medianmarechprebal90</th>\n",
              "      <th>cnt_da_rech30</th>\n",
              "      <th>fr_da_rech30</th>\n",
              "      <th>cnt_da_rech90</th>\n",
              "      <th>fr_da_rech90</th>\n",
              "      <th>cnt_loans30</th>\n",
              "      <th>amnt_loans30</th>\n",
              "      <th>maxamnt_loans30</th>\n",
              "      <th>medianamnt_loans30</th>\n",
              "      <th>cnt_loans90</th>\n",
              "      <th>amnt_loans90</th>\n",
              "      <th>maxamnt_loans90</th>\n",
              "      <th>medianamnt_loans90</th>\n",
              "      <th>payback30</th>\n",
              "      <th>payback90</th>\n",
              "    </tr>\n",
              "  </thead>\n",
              "  <tbody>\n",
              "    <tr>\n",
              "      <th>count</th>\n",
              "      <td>209593.000000</td>\n",
              "      <td>209593.000000</td>\n",
              "      <td>209593.000000</td>\n",
              "      <td>209593.000000</td>\n",
              "      <td>209593.000000</td>\n",
              "      <td>209593.000000</td>\n",
              "      <td>209593.000000</td>\n",
              "      <td>209593.000000</td>\n",
              "      <td>209593.000000</td>\n",
              "      <td>209593.000000</td>\n",
              "      <td>209593.000000</td>\n",
              "      <td>209593.000000</td>\n",
              "      <td>209593.000000</td>\n",
              "      <td>209593.00000</td>\n",
              "      <td>209593.00000</td>\n",
              "      <td>209593.000000</td>\n",
              "      <td>209593.000000</td>\n",
              "      <td>209593.000000</td>\n",
              "      <td>209593.000000</td>\n",
              "      <td>209593.000000</td>\n",
              "      <td>209593.000000</td>\n",
              "      <td>209593.000000</td>\n",
              "      <td>209593.000000</td>\n",
              "      <td>209593.000000</td>\n",
              "      <td>209593.000000</td>\n",
              "      <td>209593.000000</td>\n",
              "      <td>209593.000000</td>\n",
              "      <td>209593.000000</td>\n",
              "      <td>209593.000000</td>\n",
              "      <td>209593.000000</td>\n",
              "      <td>209593.000000</td>\n",
              "      <td>209593.000000</td>\n",
              "      <td>209593.000000</td>\n",
              "    </tr>\n",
              "    <tr>\n",
              "      <th>mean</th>\n",
              "      <td>0.875177</td>\n",
              "      <td>8112.343499</td>\n",
              "      <td>5381.402122</td>\n",
              "      <td>6082.514177</td>\n",
              "      <td>2692.582529</td>\n",
              "      <td>3483.407580</td>\n",
              "      <td>3755.847791</td>\n",
              "      <td>3712.203003</td>\n",
              "      <td>2064.452797</td>\n",
              "      <td>3.978057</td>\n",
              "      <td>3737.355122</td>\n",
              "      <td>7704.501157</td>\n",
              "      <td>1812.815070</td>\n",
              "      <td>3851.92630</td>\n",
              "      <td>6.31543</td>\n",
              "      <td>7.716780</td>\n",
              "      <td>12396.218352</td>\n",
              "      <td>1864.600993</td>\n",
              "      <td>92.024028</td>\n",
              "      <td>262.578159</td>\n",
              "      <td>3749.494468</td>\n",
              "      <td>0.041495</td>\n",
              "      <td>0.045712</td>\n",
              "      <td>2.758981</td>\n",
              "      <td>17.952021</td>\n",
              "      <td>274.658782</td>\n",
              "      <td>0.038522</td>\n",
              "      <td>18.520852</td>\n",
              "      <td>23.645398</td>\n",
              "      <td>6.703134</td>\n",
              "      <td>0.032601</td>\n",
              "      <td>3.401993</td>\n",
              "      <td>4.323537</td>\n",
              "    </tr>\n",
              "    <tr>\n",
              "      <th>std</th>\n",
              "      <td>0.330519</td>\n",
              "      <td>75696.083047</td>\n",
              "      <td>9220.623999</td>\n",
              "      <td>10918.813029</td>\n",
              "      <td>4308.585109</td>\n",
              "      <td>5770.460326</td>\n",
              "      <td>53905.892053</td>\n",
              "      <td>53374.834503</td>\n",
              "      <td>2370.786034</td>\n",
              "      <td>4.256090</td>\n",
              "      <td>53643.625275</td>\n",
              "      <td>10139.621714</td>\n",
              "      <td>2070.864759</td>\n",
              "      <td>54006.37533</td>\n",
              "      <td>7.19347</td>\n",
              "      <td>12.590251</td>\n",
              "      <td>16857.793882</td>\n",
              "      <td>2081.678888</td>\n",
              "      <td>369.216473</td>\n",
              "      <td>4183.898385</td>\n",
              "      <td>53885.415190</td>\n",
              "      <td>0.397556</td>\n",
              "      <td>0.951386</td>\n",
              "      <td>2.554502</td>\n",
              "      <td>17.379741</td>\n",
              "      <td>4245.265141</td>\n",
              "      <td>0.203703</td>\n",
              "      <td>224.796522</td>\n",
              "      <td>26.469861</td>\n",
              "      <td>2.103864</td>\n",
              "      <td>0.186374</td>\n",
              "      <td>8.814717</td>\n",
              "      <td>10.308374</td>\n",
              "    </tr>\n",
              "    <tr>\n",
              "      <th>min</th>\n",
              "      <td>0.000000</td>\n",
              "      <td>-48.000000</td>\n",
              "      <td>-93.000000</td>\n",
              "      <td>-93.000000</td>\n",
              "      <td>-23737.000000</td>\n",
              "      <td>-24721.000000</td>\n",
              "      <td>-29.000000</td>\n",
              "      <td>-29.000000</td>\n",
              "      <td>0.000000</td>\n",
              "      <td>0.000000</td>\n",
              "      <td>0.000000</td>\n",
              "      <td>0.000000</td>\n",
              "      <td>0.000000</td>\n",
              "      <td>-200.00000</td>\n",
              "      <td>0.00000</td>\n",
              "      <td>0.000000</td>\n",
              "      <td>0.000000</td>\n",
              "      <td>0.000000</td>\n",
              "      <td>-200.000000</td>\n",
              "      <td>0.000000</td>\n",
              "      <td>0.000000</td>\n",
              "      <td>0.000000</td>\n",
              "      <td>0.000000</td>\n",
              "      <td>0.000000</td>\n",
              "      <td>0.000000</td>\n",
              "      <td>0.000000</td>\n",
              "      <td>0.000000</td>\n",
              "      <td>0.000000</td>\n",
              "      <td>0.000000</td>\n",
              "      <td>0.000000</td>\n",
              "      <td>0.000000</td>\n",
              "      <td>0.000000</td>\n",
              "      <td>0.000000</td>\n",
              "    </tr>\n",
              "    <tr>\n",
              "      <th>25%</th>\n",
              "      <td>1.000000</td>\n",
              "      <td>246.000000</td>\n",
              "      <td>42.000000</td>\n",
              "      <td>43.000000</td>\n",
              "      <td>280.000000</td>\n",
              "      <td>300.000000</td>\n",
              "      <td>1.000000</td>\n",
              "      <td>0.000000</td>\n",
              "      <td>770.000000</td>\n",
              "      <td>1.000000</td>\n",
              "      <td>0.000000</td>\n",
              "      <td>1540.000000</td>\n",
              "      <td>770.000000</td>\n",
              "      <td>11.00000</td>\n",
              "      <td>2.00000</td>\n",
              "      <td>0.000000</td>\n",
              "      <td>2317.000000</td>\n",
              "      <td>773.000000</td>\n",
              "      <td>15.000000</td>\n",
              "      <td>0.000000</td>\n",
              "      <td>0.000000</td>\n",
              "      <td>0.000000</td>\n",
              "      <td>0.000000</td>\n",
              "      <td>1.000000</td>\n",
              "      <td>6.000000</td>\n",
              "      <td>6.000000</td>\n",
              "      <td>0.000000</td>\n",
              "      <td>1.000000</td>\n",
              "      <td>6.000000</td>\n",
              "      <td>6.000000</td>\n",
              "      <td>0.000000</td>\n",
              "      <td>0.000000</td>\n",
              "      <td>0.000000</td>\n",
              "    </tr>\n",
              "    <tr>\n",
              "      <th>50%</th>\n",
              "      <td>1.000000</td>\n",
              "      <td>527.000000</td>\n",
              "      <td>1469.000000</td>\n",
              "      <td>1500.000000</td>\n",
              "      <td>1084.000000</td>\n",
              "      <td>1334.000000</td>\n",
              "      <td>3.000000</td>\n",
              "      <td>0.000000</td>\n",
              "      <td>1539.000000</td>\n",
              "      <td>3.000000</td>\n",
              "      <td>2.000000</td>\n",
              "      <td>4628.000000</td>\n",
              "      <td>1539.000000</td>\n",
              "      <td>34.00000</td>\n",
              "      <td>4.00000</td>\n",
              "      <td>2.000000</td>\n",
              "      <td>7226.000000</td>\n",
              "      <td>1539.000000</td>\n",
              "      <td>36.000000</td>\n",
              "      <td>0.000000</td>\n",
              "      <td>0.000000</td>\n",
              "      <td>0.000000</td>\n",
              "      <td>0.000000</td>\n",
              "      <td>2.000000</td>\n",
              "      <td>12.000000</td>\n",
              "      <td>6.000000</td>\n",
              "      <td>0.000000</td>\n",
              "      <td>2.000000</td>\n",
              "      <td>12.000000</td>\n",
              "      <td>6.000000</td>\n",
              "      <td>0.000000</td>\n",
              "      <td>0.000000</td>\n",
              "      <td>2.000000</td>\n",
              "    </tr>\n",
              "    <tr>\n",
              "      <th>75%</th>\n",
              "      <td>1.000000</td>\n",
              "      <td>982.000000</td>\n",
              "      <td>7244.000000</td>\n",
              "      <td>7803.000000</td>\n",
              "      <td>3357.000000</td>\n",
              "      <td>4202.000000</td>\n",
              "      <td>7.000000</td>\n",
              "      <td>0.000000</td>\n",
              "      <td>2309.000000</td>\n",
              "      <td>5.000000</td>\n",
              "      <td>6.000000</td>\n",
              "      <td>10010.000000</td>\n",
              "      <td>1924.000000</td>\n",
              "      <td>83.00000</td>\n",
              "      <td>8.00000</td>\n",
              "      <td>8.000000</td>\n",
              "      <td>16000.000000</td>\n",
              "      <td>1924.000000</td>\n",
              "      <td>79.000000</td>\n",
              "      <td>0.000000</td>\n",
              "      <td>0.000000</td>\n",
              "      <td>0.000000</td>\n",
              "      <td>0.000000</td>\n",
              "      <td>4.000000</td>\n",
              "      <td>24.000000</td>\n",
              "      <td>6.000000</td>\n",
              "      <td>0.000000</td>\n",
              "      <td>5.000000</td>\n",
              "      <td>30.000000</td>\n",
              "      <td>6.000000</td>\n",
              "      <td>0.000000</td>\n",
              "      <td>4.000000</td>\n",
              "      <td>4.000000</td>\n",
              "    </tr>\n",
              "    <tr>\n",
              "      <th>max</th>\n",
              "      <td>1.000000</td>\n",
              "      <td>999861.000000</td>\n",
              "      <td>265926.000000</td>\n",
              "      <td>320630.000000</td>\n",
              "      <td>198926.000000</td>\n",
              "      <td>200148.000000</td>\n",
              "      <td>998650.000000</td>\n",
              "      <td>999172.000000</td>\n",
              "      <td>55000.000000</td>\n",
              "      <td>203.000000</td>\n",
              "      <td>999606.000000</td>\n",
              "      <td>810096.000000</td>\n",
              "      <td>55000.000000</td>\n",
              "      <td>999479.00000</td>\n",
              "      <td>336.00000</td>\n",
              "      <td>88.000000</td>\n",
              "      <td>953036.000000</td>\n",
              "      <td>55000.000000</td>\n",
              "      <td>41456.000000</td>\n",
              "      <td>99914.000000</td>\n",
              "      <td>999809.000000</td>\n",
              "      <td>38.000000</td>\n",
              "      <td>64.000000</td>\n",
              "      <td>50.000000</td>\n",
              "      <td>306.000000</td>\n",
              "      <td>99865.000000</td>\n",
              "      <td>3.000000</td>\n",
              "      <td>4998.000000</td>\n",
              "      <td>438.000000</td>\n",
              "      <td>12.000000</td>\n",
              "      <td>3.000000</td>\n",
              "      <td>172.000000</td>\n",
              "      <td>172.000000</td>\n",
              "    </tr>\n",
              "  </tbody>\n",
              "</table>\n",
              "</div>"
            ],
            "text/plain": [
              "               label            aon  ...      payback30      payback90\n",
              "count  209593.000000  209593.000000  ...  209593.000000  209593.000000\n",
              "mean        0.875177    8112.343499  ...       3.401993       4.323537\n",
              "std         0.330519   75696.083047  ...       8.814717      10.308374\n",
              "min         0.000000     -48.000000  ...       0.000000       0.000000\n",
              "25%         1.000000     246.000000  ...       0.000000       0.000000\n",
              "50%         1.000000     527.000000  ...       0.000000       2.000000\n",
              "75%         1.000000     982.000000  ...       4.000000       4.000000\n",
              "max         1.000000  999861.000000  ...     172.000000     172.000000\n",
              "\n",
              "[8 rows x 33 columns]"
            ]
          },
          "metadata": {
            "tags": []
          },
          "execution_count": 8
        }
      ]
    },
    {
      "cell_type": "code",
      "metadata": {
        "id": "Hw9-LWPAZ4-_",
        "outputId": "6d8d9d9a-cb97-49bf-f854-b72616db64a9",
        "colab": {
          "base_uri": "https://localhost:8080/",
          "height": 338
        }
      },
      "source": [
        "data.boxplot(return_type='axes', figsize=(25,7))\n",
        "plt.show()"
      ],
      "execution_count": null,
      "outputs": [
        {
          "output_type": "display_data",
          "data": {
            "image/png": "[encoded data removed]",
            "text/plain": [
              "<Figure size 1800x504 with 1 Axes>"
            ]
          },
          "metadata": {
            "tags": []
          }
        }
      ]
    },
    {
      "cell_type": "code",
      "metadata": {
        "id": "Jot6AoDM60g6",
        "outputId": "763cc3b0-4611-4a85-983b-256356db3a5a",
        "colab": {
          "base_uri": "https://localhost:8080/",
          "height": 726
        }
      },
      "source": [
        "plt.figure(figsize=(15,10))\n",
        "sns.heatmap(data.corr())"
      ],
      "execution_count": null,
      "outputs": [
        {
          "output_type": "execute_result",
          "data": {
            "text/plain": [
              "<matplotlib.axes._subplots.AxesSubplot at 0x7f7f19116e80>"
            ]
          },
          "metadata": {
            "tags": []
          },
          "execution_count": 10
        },
        {
          "output_type": "display_data",
          "data": {
            "image/png": "[encoded data removed]",
            "text/plain": [
              "<Figure size 1080x720 with 2 Axes>"
            ]
          },
          "metadata": {
            "tags": []
          }
        }
      ]
    },
    {
      "cell_type": "code",
      "metadata": {
        "id": "FeYWl4oVHF2R",
        "outputId": "b5209a22-c2b5-42cb-9f87-ddf7bd52d4cc",
        "colab": {
          "base_uri": "https://localhost:8080/"
        }
      },
      "source": [
        "data.columns"
      ],
      "execution_count": null,
      "outputs": [
        {
          "output_type": "execute_result",
          "data": {
            "text/plain": [
              "Index(['label', 'aon', 'daily_decr30', 'daily_decr90', 'rental30', 'rental90',\n",
              "       'last_rech_date_ma', 'last_rech_date_da', 'last_rech_amt_ma',\n",
              "       'cnt_ma_rech30', 'fr_ma_rech30', 'sumamnt_ma_rech30',\n",
              "       'medianamnt_ma_rech30', 'medianmarechprebal30', 'cnt_ma_rech90',\n",
              "       'fr_ma_rech90', 'sumamnt_ma_rech90', 'medianamnt_ma_rech90',\n",
              "       'medianmarechprebal90', 'cnt_da_rech30', 'fr_da_rech30',\n",
              "       'cnt_da_rech90', 'fr_da_rech90', 'cnt_loans30', 'amnt_loans30',\n",
              "       'maxamnt_loans30', 'medianamnt_loans30', 'cnt_loans90', 'amnt_loans90',\n",
              "       'maxamnt_loans90', 'medianamnt_loans90', 'payback30', 'payback90'],\n",
              "      dtype='object')"
            ]
          },
          "metadata": {
            "tags": []
          },
          "execution_count": 11
        }
      ]
    },
    {
      "cell_type": "code",
      "metadata": {
        "id": "1NPhW1U16wiM",
        "outputId": "a8c630e4-7fb0-49bd-ccbb-681f9df8a4d3",
        "colab": {
          "base_uri": "https://localhost:8080/",
          "height": 217
        }
      },
      "source": [
        "x=data\n",
        "x.head()"
      ],
      "execution_count": null,
      "outputs": [
        {
          "output_type": "execute_result",
          "data": {
            "text/html": [
              "<div>\n",
              "<style scoped>\n",
              "    .dataframe tbody tr th:only-of-type {\n",
              "        vertical-align: middle;\n",
              "    }\n",
              "\n",
              "    .dataframe tbody tr th {\n",
              "        vertical-align: top;\n",
              "    }\n",
              "\n",
              "    .dataframe thead th {\n",
              "        text-align: right;\n",
              "    }\n",
              "</style>\n",
              "<table border=\"1\" class=\"dataframe\">\n",
              "  <thead>\n",
              "    <tr style=\"text-align: right;\">\n",
              "      <th></th>\n",
              "      <th>label</th>\n",
              "      <th>aon</th>\n",
              "      <th>daily_decr30</th>\n",
              "      <th>daily_decr90</th>\n",
              "      <th>rental30</th>\n",
              "      <th>rental90</th>\n",
              "      <th>last_rech_date_ma</th>\n",
              "      <th>last_rech_date_da</th>\n",
              "      <th>last_rech_amt_ma</th>\n",
              "      <th>cnt_ma_rech30</th>\n",
              "      <th>fr_ma_rech30</th>\n",
              "      <th>sumamnt_ma_rech30</th>\n",
              "      <th>medianamnt_ma_rech30</th>\n",
              "      <th>medianmarechprebal30</th>\n",
              "      <th>cnt_ma_rech90</th>\n",
              "      <th>fr_ma_rech90</th>\n",
              "      <th>sumamnt_ma_rech90</th>\n",
              "      <th>medianamnt_ma_rech90</th>\n",
              "      <th>medianmarechprebal90</th>\n",
              "      <th>cnt_da_rech30</th>\n",
              "      <th>fr_da_rech30</th>\n",
              "      <th>cnt_da_rech90</th>\n",
              "      <th>fr_da_rech90</th>\n",
              "      <th>cnt_loans30</th>\n",
              "      <th>amnt_loans30</th>\n",
              "      <th>maxamnt_loans30</th>\n",
              "      <th>medianamnt_loans30</th>\n",
              "      <th>cnt_loans90</th>\n",
              "      <th>amnt_loans90</th>\n",
              "      <th>maxamnt_loans90</th>\n",
              "      <th>medianamnt_loans90</th>\n",
              "      <th>payback30</th>\n",
              "      <th>payback90</th>\n",
              "    </tr>\n",
              "  </thead>\n",
              "  <tbody>\n",
              "    <tr>\n",
              "      <th>0</th>\n",
              "      <td>0</td>\n",
              "      <td>272</td>\n",
              "      <td>3055</td>\n",
              "      <td>3065</td>\n",
              "      <td>220</td>\n",
              "      <td>260</td>\n",
              "      <td>2</td>\n",
              "      <td>0</td>\n",
              "      <td>1539</td>\n",
              "      <td>2</td>\n",
              "      <td>21</td>\n",
              "      <td>3078</td>\n",
              "      <td>1539</td>\n",
              "      <td>8</td>\n",
              "      <td>2</td>\n",
              "      <td>21</td>\n",
              "      <td>3078</td>\n",
              "      <td>1539</td>\n",
              "      <td>8</td>\n",
              "      <td>0</td>\n",
              "      <td>0</td>\n",
              "      <td>0</td>\n",
              "      <td>0</td>\n",
              "      <td>2</td>\n",
              "      <td>12</td>\n",
              "      <td>6</td>\n",
              "      <td>0</td>\n",
              "      <td>2</td>\n",
              "      <td>12</td>\n",
              "      <td>6</td>\n",
              "      <td>0</td>\n",
              "      <td>29</td>\n",
              "      <td>29</td>\n",
              "    </tr>\n",
              "    <tr>\n",
              "      <th>1</th>\n",
              "      <td>1</td>\n",
              "      <td>712</td>\n",
              "      <td>12122</td>\n",
              "      <td>12125</td>\n",
              "      <td>3691</td>\n",
              "      <td>3691</td>\n",
              "      <td>20</td>\n",
              "      <td>0</td>\n",
              "      <td>5787</td>\n",
              "      <td>1</td>\n",
              "      <td>0</td>\n",
              "      <td>5787</td>\n",
              "      <td>5787</td>\n",
              "      <td>61</td>\n",
              "      <td>1</td>\n",
              "      <td>0</td>\n",
              "      <td>5787</td>\n",
              "      <td>5787</td>\n",
              "      <td>61</td>\n",
              "      <td>0</td>\n",
              "      <td>0</td>\n",
              "      <td>0</td>\n",
              "      <td>0</td>\n",
              "      <td>1</td>\n",
              "      <td>12</td>\n",
              "      <td>12</td>\n",
              "      <td>0</td>\n",
              "      <td>1</td>\n",
              "      <td>12</td>\n",
              "      <td>12</td>\n",
              "      <td>0</td>\n",
              "      <td>0</td>\n",
              "      <td>0</td>\n",
              "    </tr>\n",
              "    <tr>\n",
              "      <th>2</th>\n",
              "      <td>1</td>\n",
              "      <td>535</td>\n",
              "      <td>1398</td>\n",
              "      <td>1398</td>\n",
              "      <td>900</td>\n",
              "      <td>900</td>\n",
              "      <td>3</td>\n",
              "      <td>0</td>\n",
              "      <td>1539</td>\n",
              "      <td>1</td>\n",
              "      <td>0</td>\n",
              "      <td>1539</td>\n",
              "      <td>1539</td>\n",
              "      <td>66</td>\n",
              "      <td>1</td>\n",
              "      <td>0</td>\n",
              "      <td>1539</td>\n",
              "      <td>1539</td>\n",
              "      <td>66</td>\n",
              "      <td>0</td>\n",
              "      <td>0</td>\n",
              "      <td>0</td>\n",
              "      <td>0</td>\n",
              "      <td>1</td>\n",
              "      <td>6</td>\n",
              "      <td>6</td>\n",
              "      <td>0</td>\n",
              "      <td>1</td>\n",
              "      <td>6</td>\n",
              "      <td>6</td>\n",
              "      <td>0</td>\n",
              "      <td>0</td>\n",
              "      <td>0</td>\n",
              "    </tr>\n",
              "    <tr>\n",
              "      <th>3</th>\n",
              "      <td>1</td>\n",
              "      <td>241</td>\n",
              "      <td>21</td>\n",
              "      <td>21</td>\n",
              "      <td>159</td>\n",
              "      <td>159</td>\n",
              "      <td>41</td>\n",
              "      <td>0</td>\n",
              "      <td>947</td>\n",
              "      <td>0</td>\n",
              "      <td>0</td>\n",
              "      <td>0</td>\n",
              "      <td>0</td>\n",
              "      <td>0</td>\n",
              "      <td>1</td>\n",
              "      <td>0</td>\n",
              "      <td>947</td>\n",
              "      <td>947</td>\n",
              "      <td>2</td>\n",
              "      <td>0</td>\n",
              "      <td>0</td>\n",
              "      <td>0</td>\n",
              "      <td>0</td>\n",
              "      <td>2</td>\n",
              "      <td>12</td>\n",
              "      <td>6</td>\n",
              "      <td>0</td>\n",
              "      <td>2</td>\n",
              "      <td>12</td>\n",
              "      <td>6</td>\n",
              "      <td>0</td>\n",
              "      <td>0</td>\n",
              "      <td>0</td>\n",
              "    </tr>\n",
              "    <tr>\n",
              "      <th>4</th>\n",
              "      <td>1</td>\n",
              "      <td>947</td>\n",
              "      <td>151</td>\n",
              "      <td>151</td>\n",
              "      <td>1099</td>\n",
              "      <td>1099</td>\n",
              "      <td>4</td>\n",
              "      <td>0</td>\n",
              "      <td>2309</td>\n",
              "      <td>7</td>\n",
              "      <td>2</td>\n",
              "      <td>20029</td>\n",
              "      <td>2309</td>\n",
              "      <td>29</td>\n",
              "      <td>8</td>\n",
              "      <td>2</td>\n",
              "      <td>23496</td>\n",
              "      <td>2888</td>\n",
              "      <td>35</td>\n",
              "      <td>0</td>\n",
              "      <td>0</td>\n",
              "      <td>0</td>\n",
              "      <td>0</td>\n",
              "      <td>7</td>\n",
              "      <td>42</td>\n",
              "      <td>6</td>\n",
              "      <td>0</td>\n",
              "      <td>7</td>\n",
              "      <td>42</td>\n",
              "      <td>6</td>\n",
              "      <td>0</td>\n",
              "      <td>2</td>\n",
              "      <td>2</td>\n",
              "    </tr>\n",
              "  </tbody>\n",
              "</table>\n",
              "</div>"
            ],
            "text/plain": [
              "   label  aon  daily_decr30  ...  medianamnt_loans90  payback30  payback90\n",
              "0      0  272          3055  ...                   0         29         29\n",
              "1      1  712         12122  ...                   0          0          0\n",
              "2      1  535          1398  ...                   0          0          0\n",
              "3      1  241            21  ...                   0          0          0\n",
              "4      1  947           151  ...                   0          2          2\n",
              "\n",
              "[5 rows x 33 columns]"
            ]
          },
          "metadata": {
            "tags": []
          },
          "execution_count": 12
        }
      ]
    },
    {
      "cell_type": "code",
      "metadata": {
        "id": "nHAbvwuq6wqX",
        "outputId": "d8fe8596-575f-45b8-bce9-4dfbb1ddc160",
        "colab": {
          "base_uri": "https://localhost:8080/",
          "height": 297
        }
      },
      "source": [
        "sns.scatterplot(x.cnt_da_rech30,x.fr_da_rech90,hue=x.label)"
      ],
      "execution_count": null,
      "outputs": [
        {
          "output_type": "execute_result",
          "data": {
            "text/plain": [
              "<matplotlib.axes._subplots.AxesSubplot at 0x7f7f14a39278>"
            ]
          },
          "metadata": {
            "tags": []
          },
          "execution_count": 13
        },
        {
          "output_type": "display_data",
          "data": {
            "image/png": "[encoded data removed]",
            "text/plain": [
              "<Figure size 432x288 with 1 Axes>"
            ]
          },
          "metadata": {
            "tags": []
          }
        }
      ]
    },
    {
      "cell_type": "code",
      "metadata": {
        "id": "AbKmRxS-6wsY",
        "outputId": "9bd0dde2-dc54-4ceb-a8e1-77d78fde7127",
        "colab": {
          "base_uri": "https://localhost:8080/",
          "height": 297
        }
      },
      "source": [
        "sns.scatterplot(x.daily_decr30,x.payback30,hue=x.label)"
      ],
      "execution_count": null,
      "outputs": [
        {
          "output_type": "execute_result",
          "data": {
            "text/plain": [
              "<matplotlib.axes._subplots.AxesSubplot at 0x7f7f18c1d080>"
            ]
          },
          "metadata": {
            "tags": []
          },
          "execution_count": 14
        },
        {
          "output_type": "display_data",
          "data": {
            "image/png": "[encoded data removed]",
            "text/plain": [
              "<Figure size 432x288 with 1 Axes>"
            ]
          },
          "metadata": {
            "tags": []
          }
        }
      ]
    },
    {
      "cell_type": "code",
      "metadata": {
        "id": "TtOc4fCEAvfV",
        "outputId": "4662f9f6-b867-4666-c0b5-848b66edafba",
        "colab": {
          "base_uri": "https://localhost:8080/",
          "height": 297
        }
      },
      "source": [
        "sns.scatterplot(x.sumamnt_ma_rech90,x.medianamnt_ma_rech90,hue=x.label)"
      ],
      "execution_count": null,
      "outputs": [
        {
          "output_type": "execute_result",
          "data": {
            "text/plain": [
              "<matplotlib.axes._subplots.AxesSubplot at 0x7f7f18c62208>"
            ]
          },
          "metadata": {
            "tags": []
          },
          "execution_count": 15
        },
        {
          "output_type": "display_data",
          "data": {
            "image/png": "[encoded data removed]",
            "text/plain": [
              "<Figure size 432x288 with 1 Axes>"
            ]
          },
          "metadata": {
            "tags": []
          }
        }
      ]
    },
    {
      "cell_type": "code",
      "metadata": {
        "id": "81riN7096wuz"
      },
      "source": [
        "x.aon[x.aon<0]=246\n",
        "x.sumamnt_ma_rech30[x.sumamnt_ma_rech30>300000]=300000\n",
        "x.daily_decr30[x.daily_decr30>200000]=200000\n",
        "x.cnt_ma_rech30[x.cnt_ma_rech30>125]=125\n",
        "x.cnt_ma_rech90[x.cnt_ma_rech90>172]=172\n",
        "x.last_rech_date_ma[x.last_rech_date_ma<0]=0\n",
        "x.last_rech_date_da[x.last_rech_date_da<0]=0\n",
        "x.sumamnt_ma_rech90[x.sumamnt_ma_rech90>429256]=429256"
      ],
      "execution_count": null,
      "outputs": []
    },
    {
      "cell_type": "code",
      "metadata": {
        "id": "5unHwTej95eh",
        "outputId": "616ba06b-eb95-49d5-b145-2fb0d6e092ac",
        "colab": {
          "base_uri": "https://localhost:8080/",
          "height": 307
        }
      },
      "source": [
        "x.describe()"
      ],
      "execution_count": null,
      "outputs": [
        {
          "output_type": "execute_result",
          "data": {
            "text/html": [
              "<div>\n",
              "<style scoped>\n",
              "    .dataframe tbody tr th:only-of-type {\n",
              "        vertical-align: middle;\n",
              "    }\n",
              "\n",
              "    .dataframe tbody tr th {\n",
              "        vertical-align: top;\n",
              "    }\n",
              "\n",
              "    .dataframe thead th {\n",
              "        text-align: right;\n",
              "    }\n",
              "</style>\n",
              "<table border=\"1\" class=\"dataframe\">\n",
              "  <thead>\n",
              "    <tr style=\"text-align: right;\">\n",
              "      <th></th>\n",
              "      <th>label</th>\n",
              "      <th>aon</th>\n",
              "      <th>daily_decr30</th>\n",
              "      <th>daily_decr90</th>\n",
              "      <th>rental30</th>\n",
              "      <th>rental90</th>\n",
              "      <th>last_rech_date_ma</th>\n",
              "      <th>last_rech_date_da</th>\n",
              "      <th>last_rech_amt_ma</th>\n",
              "      <th>cnt_ma_rech30</th>\n",
              "      <th>fr_ma_rech30</th>\n",
              "      <th>sumamnt_ma_rech30</th>\n",
              "      <th>medianamnt_ma_rech30</th>\n",
              "      <th>medianmarechprebal30</th>\n",
              "      <th>cnt_ma_rech90</th>\n",
              "      <th>fr_ma_rech90</th>\n",
              "      <th>sumamnt_ma_rech90</th>\n",
              "      <th>medianamnt_ma_rech90</th>\n",
              "      <th>medianmarechprebal90</th>\n",
              "      <th>cnt_da_rech30</th>\n",
              "      <th>fr_da_rech30</th>\n",
              "      <th>cnt_da_rech90</th>\n",
              "      <th>fr_da_rech90</th>\n",
              "      <th>cnt_loans30</th>\n",
              "      <th>amnt_loans30</th>\n",
              "      <th>maxamnt_loans30</th>\n",
              "      <th>medianamnt_loans30</th>\n",
              "      <th>cnt_loans90</th>\n",
              "      <th>amnt_loans90</th>\n",
              "      <th>maxamnt_loans90</th>\n",
              "      <th>medianamnt_loans90</th>\n",
              "      <th>payback30</th>\n",
              "      <th>payback90</th>\n",
              "    </tr>\n",
              "  </thead>\n",
              "  <tbody>\n",
              "    <tr>\n",
              "      <th>count</th>\n",
              "      <td>209593.000000</td>\n",
              "      <td>209593.000000</td>\n",
              "      <td>209593.000000</td>\n",
              "      <td>209593.000000</td>\n",
              "      <td>209593.000000</td>\n",
              "      <td>209593.000000</td>\n",
              "      <td>209593.000000</td>\n",
              "      <td>209593.000000</td>\n",
              "      <td>209593.000000</td>\n",
              "      <td>209593.000000</td>\n",
              "      <td>209593.000000</td>\n",
              "      <td>209593.000000</td>\n",
              "      <td>209593.000000</td>\n",
              "      <td>209593.00000</td>\n",
              "      <td>209593.000000</td>\n",
              "      <td>209593.000000</td>\n",
              "      <td>209593.000000</td>\n",
              "      <td>209593.000000</td>\n",
              "      <td>209593.000000</td>\n",
              "      <td>209593.000000</td>\n",
              "      <td>209593.000000</td>\n",
              "      <td>209593.000000</td>\n",
              "      <td>209593.000000</td>\n",
              "      <td>209593.000000</td>\n",
              "      <td>209593.000000</td>\n",
              "      <td>209593.000000</td>\n",
              "      <td>209593.000000</td>\n",
              "      <td>209593.000000</td>\n",
              "      <td>209593.000000</td>\n",
              "      <td>209593.000000</td>\n",
              "      <td>209593.000000</td>\n",
              "      <td>209593.000000</td>\n",
              "      <td>209593.000000</td>\n",
              "    </tr>\n",
              "    <tr>\n",
              "      <th>mean</th>\n",
              "      <td>0.875177</td>\n",
              "      <td>8114.382465</td>\n",
              "      <td>5380.970371</td>\n",
              "      <td>6082.514177</td>\n",
              "      <td>2692.582529</td>\n",
              "      <td>3483.407580</td>\n",
              "      <td>3755.986813</td>\n",
              "      <td>3712.203943</td>\n",
              "      <td>2064.452797</td>\n",
              "      <td>3.977685</td>\n",
              "      <td>3737.355122</td>\n",
              "      <td>7702.067412</td>\n",
              "      <td>1812.815070</td>\n",
              "      <td>3851.92630</td>\n",
              "      <td>6.314648</td>\n",
              "      <td>7.716780</td>\n",
              "      <td>12393.719318</td>\n",
              "      <td>1864.600993</td>\n",
              "      <td>92.024028</td>\n",
              "      <td>262.578159</td>\n",
              "      <td>3749.494468</td>\n",
              "      <td>0.041495</td>\n",
              "      <td>0.045712</td>\n",
              "      <td>2.758981</td>\n",
              "      <td>17.952021</td>\n",
              "      <td>274.658782</td>\n",
              "      <td>0.038522</td>\n",
              "      <td>18.520852</td>\n",
              "      <td>23.645398</td>\n",
              "      <td>6.703134</td>\n",
              "      <td>0.032601</td>\n",
              "      <td>3.401993</td>\n",
              "      <td>4.323537</td>\n",
              "    </tr>\n",
              "    <tr>\n",
              "      <th>std</th>\n",
              "      <td>0.330519</td>\n",
              "      <td>75695.867379</td>\n",
              "      <td>9210.302709</td>\n",
              "      <td>10918.813029</td>\n",
              "      <td>4308.585109</td>\n",
              "      <td>5770.460326</td>\n",
              "      <td>53905.882335</td>\n",
              "      <td>53374.834438</td>\n",
              "      <td>2370.786034</td>\n",
              "      <td>4.242074</td>\n",
              "      <td>53643.625275</td>\n",
              "      <td>10007.383295</td>\n",
              "      <td>2070.864759</td>\n",
              "      <td>54006.37533</td>\n",
              "      <td>7.166477</td>\n",
              "      <td>12.590251</td>\n",
              "      <td>16756.871868</td>\n",
              "      <td>2081.678888</td>\n",
              "      <td>369.216473</td>\n",
              "      <td>4183.898385</td>\n",
              "      <td>53885.415190</td>\n",
              "      <td>0.397556</td>\n",
              "      <td>0.951386</td>\n",
              "      <td>2.554502</td>\n",
              "      <td>17.379741</td>\n",
              "      <td>4245.265141</td>\n",
              "      <td>0.203703</td>\n",
              "      <td>224.796522</td>\n",
              "      <td>26.469861</td>\n",
              "      <td>2.103864</td>\n",
              "      <td>0.186374</td>\n",
              "      <td>8.814717</td>\n",
              "      <td>10.308374</td>\n",
              "    </tr>\n",
              "    <tr>\n",
              "      <th>min</th>\n",
              "      <td>0.000000</td>\n",
              "      <td>1.000000</td>\n",
              "      <td>-93.000000</td>\n",
              "      <td>-93.000000</td>\n",
              "      <td>-23737.000000</td>\n",
              "      <td>-24721.000000</td>\n",
              "      <td>0.000000</td>\n",
              "      <td>0.000000</td>\n",
              "      <td>0.000000</td>\n",
              "      <td>0.000000</td>\n",
              "      <td>0.000000</td>\n",
              "      <td>0.000000</td>\n",
              "      <td>0.000000</td>\n",
              "      <td>-200.00000</td>\n",
              "      <td>0.000000</td>\n",
              "      <td>0.000000</td>\n",
              "      <td>0.000000</td>\n",
              "      <td>0.000000</td>\n",
              "      <td>-200.000000</td>\n",
              "      <td>0.000000</td>\n",
              "      <td>0.000000</td>\n",
              "      <td>0.000000</td>\n",
              "      <td>0.000000</td>\n",
              "      <td>0.000000</td>\n",
              "      <td>0.000000</td>\n",
              "      <td>0.000000</td>\n",
              "      <td>0.000000</td>\n",
              "      <td>0.000000</td>\n",
              "      <td>0.000000</td>\n",
              "      <td>0.000000</td>\n",
              "      <td>0.000000</td>\n",
              "      <td>0.000000</td>\n",
              "      <td>0.000000</td>\n",
              "    </tr>\n",
              "    <tr>\n",
              "      <th>25%</th>\n",
              "      <td>1.000000</td>\n",
              "      <td>246.000000</td>\n",
              "      <td>42.000000</td>\n",
              "      <td>43.000000</td>\n",
              "      <td>280.000000</td>\n",
              "      <td>300.000000</td>\n",
              "      <td>1.000000</td>\n",
              "      <td>0.000000</td>\n",
              "      <td>770.000000</td>\n",
              "      <td>1.000000</td>\n",
              "      <td>0.000000</td>\n",
              "      <td>1540.000000</td>\n",
              "      <td>770.000000</td>\n",
              "      <td>11.00000</td>\n",
              "      <td>2.000000</td>\n",
              "      <td>0.000000</td>\n",
              "      <td>2317.000000</td>\n",
              "      <td>773.000000</td>\n",
              "      <td>15.000000</td>\n",
              "      <td>0.000000</td>\n",
              "      <td>0.000000</td>\n",
              "      <td>0.000000</td>\n",
              "      <td>0.000000</td>\n",
              "      <td>1.000000</td>\n",
              "      <td>6.000000</td>\n",
              "      <td>6.000000</td>\n",
              "      <td>0.000000</td>\n",
              "      <td>1.000000</td>\n",
              "      <td>6.000000</td>\n",
              "      <td>6.000000</td>\n",
              "      <td>0.000000</td>\n",
              "      <td>0.000000</td>\n",
              "      <td>0.000000</td>\n",
              "    </tr>\n",
              "    <tr>\n",
              "      <th>50%</th>\n",
              "      <td>1.000000</td>\n",
              "      <td>527.000000</td>\n",
              "      <td>1469.000000</td>\n",
              "      <td>1500.000000</td>\n",
              "      <td>1084.000000</td>\n",
              "      <td>1334.000000</td>\n",
              "      <td>3.000000</td>\n",
              "      <td>0.000000</td>\n",
              "      <td>1539.000000</td>\n",
              "      <td>3.000000</td>\n",
              "      <td>2.000000</td>\n",
              "      <td>4628.000000</td>\n",
              "      <td>1539.000000</td>\n",
              "      <td>34.00000</td>\n",
              "      <td>4.000000</td>\n",
              "      <td>2.000000</td>\n",
              "      <td>7226.000000</td>\n",
              "      <td>1539.000000</td>\n",
              "      <td>36.000000</td>\n",
              "      <td>0.000000</td>\n",
              "      <td>0.000000</td>\n",
              "      <td>0.000000</td>\n",
              "      <td>0.000000</td>\n",
              "      <td>2.000000</td>\n",
              "      <td>12.000000</td>\n",
              "      <td>6.000000</td>\n",
              "      <td>0.000000</td>\n",
              "      <td>2.000000</td>\n",
              "      <td>12.000000</td>\n",
              "      <td>6.000000</td>\n",
              "      <td>0.000000</td>\n",
              "      <td>0.000000</td>\n",
              "      <td>2.000000</td>\n",
              "    </tr>\n",
              "    <tr>\n",
              "      <th>75%</th>\n",
              "      <td>1.000000</td>\n",
              "      <td>982.000000</td>\n",
              "      <td>7244.000000</td>\n",
              "      <td>7803.000000</td>\n",
              "      <td>3357.000000</td>\n",
              "      <td>4202.000000</td>\n",
              "      <td>7.000000</td>\n",
              "      <td>0.000000</td>\n",
              "      <td>2309.000000</td>\n",
              "      <td>5.000000</td>\n",
              "      <td>6.000000</td>\n",
              "      <td>10010.000000</td>\n",
              "      <td>1924.000000</td>\n",
              "      <td>83.00000</td>\n",
              "      <td>8.000000</td>\n",
              "      <td>8.000000</td>\n",
              "      <td>16000.000000</td>\n",
              "      <td>1924.000000</td>\n",
              "      <td>79.000000</td>\n",
              "      <td>0.000000</td>\n",
              "      <td>0.000000</td>\n",
              "      <td>0.000000</td>\n",
              "      <td>0.000000</td>\n",
              "      <td>4.000000</td>\n",
              "      <td>24.000000</td>\n",
              "      <td>6.000000</td>\n",
              "      <td>0.000000</td>\n",
              "      <td>5.000000</td>\n",
              "      <td>30.000000</td>\n",
              "      <td>6.000000</td>\n",
              "      <td>0.000000</td>\n",
              "      <td>4.000000</td>\n",
              "      <td>4.000000</td>\n",
              "    </tr>\n",
              "    <tr>\n",
              "      <th>max</th>\n",
              "      <td>1.000000</td>\n",
              "      <td>999861.000000</td>\n",
              "      <td>200000.000000</td>\n",
              "      <td>320630.000000</td>\n",
              "      <td>198926.000000</td>\n",
              "      <td>200148.000000</td>\n",
              "      <td>998650.000000</td>\n",
              "      <td>999172.000000</td>\n",
              "      <td>55000.000000</td>\n",
              "      <td>125.000000</td>\n",
              "      <td>999606.000000</td>\n",
              "      <td>300000.000000</td>\n",
              "      <td>55000.000000</td>\n",
              "      <td>999479.00000</td>\n",
              "      <td>172.000000</td>\n",
              "      <td>88.000000</td>\n",
              "      <td>429256.000000</td>\n",
              "      <td>55000.000000</td>\n",
              "      <td>41456.000000</td>\n",
              "      <td>99914.000000</td>\n",
              "      <td>999809.000000</td>\n",
              "      <td>38.000000</td>\n",
              "      <td>64.000000</td>\n",
              "      <td>50.000000</td>\n",
              "      <td>306.000000</td>\n",
              "      <td>99865.000000</td>\n",
              "      <td>3.000000</td>\n",
              "      <td>4998.000000</td>\n",
              "      <td>438.000000</td>\n",
              "      <td>12.000000</td>\n",
              "      <td>3.000000</td>\n",
              "      <td>172.000000</td>\n",
              "      <td>172.000000</td>\n",
              "    </tr>\n",
              "  </tbody>\n",
              "</table>\n",
              "</div>"
            ],
            "text/plain": [
              "               label            aon  ...      payback30      payback90\n",
              "count  209593.000000  209593.000000  ...  209593.000000  209593.000000\n",
              "mean        0.875177    8114.382465  ...       3.401993       4.323537\n",
              "std         0.330519   75695.867379  ...       8.814717      10.308374\n",
              "min         0.000000       1.000000  ...       0.000000       0.000000\n",
              "25%         1.000000     246.000000  ...       0.000000       0.000000\n",
              "50%         1.000000     527.000000  ...       0.000000       2.000000\n",
              "75%         1.000000     982.000000  ...       4.000000       4.000000\n",
              "max         1.000000  999861.000000  ...     172.000000     172.000000\n",
              "\n",
              "[8 rows x 33 columns]"
            ]
          },
          "metadata": {
            "tags": []
          },
          "execution_count": 17
        }
      ]
    },
    {
      "cell_type": "code",
      "metadata": {
        "id": "VFrUwf8N95iZ",
        "outputId": "79b75ca8-3358-4a4a-b3dd-b87c9283ccf0",
        "colab": {
          "base_uri": "https://localhost:8080/"
        }
      },
      "source": [
        "x.shape"
      ],
      "execution_count": null,
      "outputs": [
        {
          "output_type": "execute_result",
          "data": {
            "text/plain": [
              "(209593, 33)"
            ]
          },
          "metadata": {
            "tags": []
          },
          "execution_count": 18
        }
      ]
    },
    {
      "cell_type": "code",
      "metadata": {
        "id": "FWhJXDzRHGE9",
        "outputId": "b1a5fde7-0337-4ac8-a37b-43f7df8d2ef8",
        "colab": {
          "base_uri": "https://localhost:8080/"
        }
      },
      "source": [
        "from scipy.stats import zscore\n",
        "dt=abs(zscore(x))\n",
        "print(dt.shape)\n",
        "dt_new=x.loc[(dt<=3).all(axis=1)]\n",
        "print(dt_new.shape)"
      ],
      "execution_count": null,
      "outputs": [
        {
          "output_type": "stream",
          "text": [
            "(209593, 33)\n",
            "(161396, 33)\n"
          ],
          "name": "stdout"
        }
      ]
    },
    {
      "cell_type": "code",
      "metadata": {
        "id": "_s4T92WL_J97",
        "outputId": "82fb366f-2316-457d-98d7-3b973403ab0f",
        "colab": {
          "base_uri": "https://localhost:8080/",
          "height": 325
        }
      },
      "source": [
        "dt_new.boxplot(return_type='axes', figsize=(25,7))\n",
        "plt.show()"
      ],
      "execution_count": null,
      "outputs": [
        {
          "output_type": "display_data",
          "data": {
            "image/png": "[encoded data removed]",
            "text/plain": [
              "<Figure size 1800x504 with 1 Axes>"
            ]
          },
          "metadata": {
            "tags": []
          }
        }
      ]
    },
    {
      "cell_type": "code",
      "metadata": {
        "id": "CgYz1kBd_fP3",
        "outputId": "8db01a1b-14ac-461e-9334-1063b1d79f2b",
        "colab": {
          "base_uri": "https://localhost:8080/",
          "height": 726
        }
      },
      "source": [
        "plt.figure(figsize=(15,10))\n",
        "sns.heatmap(dt_new.corr())"
      ],
      "execution_count": null,
      "outputs": [
        {
          "output_type": "execute_result",
          "data": {
            "text/plain": [
              "<matplotlib.axes._subplots.AxesSubplot at 0x7f7f13f69320>"
            ]
          },
          "metadata": {
            "tags": []
          },
          "execution_count": 21
        },
        {
          "output_type": "display_data",
          "data": {
            "image/png": "[encoded data removed]",
            "text/plain": [
              "<Figure size 1080x720 with 2 Axes>"
            ]
          },
          "metadata": {
            "tags": []
          }
        }
      ]
    },
    {
      "cell_type": "code",
      "metadata": {
        "id": "Vawu6Kcl5QVS"
      },
      "source": [
        "xp=dt_new.drop(columns=['label'])\n",
        "Y=dt_new['label']"
      ],
      "execution_count": null,
      "outputs": []
    },
    {
      "cell_type": "code",
      "metadata": {
        "id": "9fhm151cW3MF"
      },
      "source": [
        "from sklearn.preprocessing import StandardScaler\n",
        "sc=StandardScaler()\n",
        "\n",
        "from sklearn.decomposition import PCA\n",
        "pca=PCA()\n",
        "\n",
        "xt=sc.fit_transform(xp)\n",
        "X = pca.fit_transform(xt)"
      ],
      "execution_count": null,
      "outputs": []
    },
    {
      "cell_type": "code",
      "metadata": {
        "id": "re_3Cwa8uJhy",
        "outputId": "55de3d01-b8dc-4ac4-c10c-a07832c403b9",
        "colab": {
          "base_uri": "https://localhost:8080/"
        }
      },
      "source": [
        "X"
      ],
      "execution_count": null,
      "outputs": [
        {
          "output_type": "execute_result",
          "data": {
            "text/plain": [
              "array([[ 7.72202706e-03, -1.01976828e+00, -2.91196247e+00, ...,\n",
              "         4.67017424e-17,  1.38151878e-16, -2.22471858e-16],\n",
              "       [ 4.82644858e-01,  4.67393587e+00, -1.27120255e+00, ...,\n",
              "         3.21913603e-17,  2.35983390e-16,  1.52579055e-16],\n",
              "       [-2.51238258e+00,  2.02007796e-01,  1.40465194e-01, ...,\n",
              "        -6.21812111e-18,  3.67093745e-18,  1.25538935e-17],\n",
              "       ...,\n",
              "       [ 4.52198785e+00, -5.34836142e-01, -1.65278945e+00, ...,\n",
              "        -4.10549807e-19, -3.85211640e-19,  7.92725608e-19],\n",
              "       [ 2.05553762e+00,  9.70882819e-01, -1.56276155e+00, ...,\n",
              "         3.15879415e-18,  3.05846410e-18,  1.31140751e-18],\n",
              "       [ 9.91113754e-01,  5.94749948e+00,  1.59409465e+00, ...,\n",
              "         3.02087331e-18,  1.38717125e-18,  2.87830112e-18]])"
            ]
          },
          "metadata": {
            "tags": []
          },
          "execution_count": 25
        }
      ]
    },
    {
      "cell_type": "code",
      "metadata": {
        "id": "29ZIXz097ybR"
      },
      "source": [
        "from sklearn.model_selection import train_test_split\n",
        "from sklearn.model_selection import cross_val_score\n",
        "from sklearn.metrics import mean_squared_error,r2_score,accuracy_score,confusion_matrix,classification_report,roc_auc_score\n",
        "import sklearn.metrics as metrics\n",
        "\n",
        "\n",
        "def maxrscr(model,x,y):\n",
        "  max_rscore=0\n",
        "  for r in range(45,100):\n",
        "    x_train,x_test,y_train,y_test=train_test_split(x,y,random_state=r,test_size=.30,stratify=y)\n",
        "    model.fit(x_train,y_train)\n",
        "    y_pred=model.predict(x_test)\n",
        "    r2scr=r2_score(y_test,y_pred)\n",
        "    if r2scr>max_rscore:\n",
        "      max_rscore=r2scr\n",
        "      final_state=r\n",
        "      print('the max_score',max_rscore ,'is for the final state',final_state)\n",
        "  print('Accuracy of the modl:',accuracy_score(y_test,y_pred))\n",
        "  print('Confussion Matrix: \\n',confusion_matrix(y_test,y_pred))\n",
        "  print('Classification report:',classification_report(y_test,y_pred))\n",
        "  print('Cross Validation score:',cross_val_score(model,x,y,cv=10).mean())\n",
        "  print('auc_score is :',roc_auc_score(y_test,model.predict(x_test)))\n",
        "  y_pred_proba = model.predict_proba(x_test)[::,1]\n",
        "  fpr, tpr, _ = metrics.roc_curve(y_test,  y_pred_proba)\n",
        "  auc = metrics.roc_auc_score(y_test, y_pred_proba)\n",
        "  plt.plot(fpr,tpr,label=\"data 1, auc=\"+str(auc))\n",
        "  plt.legend()\n",
        "  plt.show()"
      ],
      "execution_count": null,
      "outputs": []
    },
    {
      "cell_type": "code",
      "metadata": {
        "id": "1iCXdZuWPQtK",
        "outputId": "d34e8152-bc6f-4e04-ae66-df01e2cfdfcf",
        "colab": {
          "base_uri": "https://localhost:8080/",
          "height": 531
        }
      },
      "source": [
        "from sklearn.linear_model import LogisticRegression\n",
        "lr=LogisticRegression()\n",
        "maxrscr(lr,X,Y)"
      ],
      "execution_count": null,
      "outputs": [
        {
          "output_type": "stream",
          "text": [
            "Accuracy of the modl: 0.8651149342200376\n",
            "Confussion Matrix: \n",
            " [[  661  6057]\n",
            " [  474 41227]]\n",
            "Classification report:               precision    recall  f1-score   support\n",
            "\n",
            "           0       0.58      0.10      0.17      6718\n",
            "           1       0.87      0.99      0.93     41701\n",
            "\n",
            "    accuracy                           0.87     48419\n",
            "   macro avg       0.73      0.54      0.55     48419\n",
            "weighted avg       0.83      0.87      0.82     48419\n",
            "\n",
            "Cross Validation score: 0.8646744806752797\n",
            "auc_score is : 0.5435128723952303\n"
          ],
          "name": "stdout"
        },
        {
          "output_type": "display_data",
          "data": {
            "image/png": "[encoded data removed]",
            "text/plain": [
              "<Figure size 432x288 with 1 Axes>"
            ]
          },
          "metadata": {
            "tags": []
          }
        }
      ]
    },
    {
      "cell_type": "code",
      "metadata": {
        "id": "dNyO0vwvQLeb",
        "outputId": "02977bdf-d281-43d1-c66a-01ec3f112c59",
        "colab": {
          "base_uri": "https://localhost:8080/"
        }
      },
      "source": [
        "from sklearn.tree import DecisionTreeClassifier\n",
        "from sklearn.model_selection import GridSearchCV\n",
        "dct=DecisionTreeClassifier()\n",
        "parameters={'criterion':['gini','entropy']}\n",
        "clf=GridSearchCV(dct,parameters,cv=10)\n",
        "clf.fit(X,Y)\n",
        "clf.best_params_"
      ],
      "execution_count": null,
      "outputs": [
        {
          "output_type": "execute_result",
          "data": {
            "text/plain": [
              "{'criterion': 'entropy'}"
            ]
          },
          "metadata": {
            "tags": []
          },
          "execution_count": 28
        }
      ]
    },
    {
      "cell_type": "code",
      "metadata": {
        "id": "gXpHQZV5RmWC",
        "outputId": "f1507cef-7c11-44f3-b094-788fe124ba0e",
        "colab": {
          "base_uri": "https://localhost:8080/",
          "height": 531
        }
      },
      "source": [
        "dct=DecisionTreeClassifier('entropy')\n",
        "maxrscr(dct,X,Y)"
      ],
      "execution_count": null,
      "outputs": [
        {
          "output_type": "stream",
          "text": [
            "Accuracy of the modl: 0.83754311324067\n",
            "Confussion Matrix: \n",
            " [[ 2957  3761]\n",
            " [ 4105 37596]]\n",
            "Classification report:               precision    recall  f1-score   support\n",
            "\n",
            "           0       0.42      0.44      0.43      6718\n",
            "           1       0.91      0.90      0.91     41701\n",
            "\n",
            "    accuracy                           0.84     48419\n",
            "   macro avg       0.66      0.67      0.67     48419\n",
            "weighted avg       0.84      0.84      0.84     48419\n",
            "\n",
            "Cross Validation score: 0.8385834163904304\n",
            "auc_score is : 0.6708609378869728\n"
          ],
          "name": "stdout"
        },
        {
          "output_type": "display_data",
          "data": {
            "image/png": "[encoded data removed]",
            "text/plain": [
              "<Figure size 432x288 with 1 Axes>"
            ]
          },
          "metadata": {
            "tags": []
          }
        }
      ]
    },
    {
      "cell_type": "code",
      "metadata": {
        "id": "R1qhmeUo-XQP"
      },
      "source": [
        "from sklearn.svm import SVC\n",
        "svc=SVC()\n",
        "max_r2(svc,X,Y)"
      ],
      "execution_count": null,
      "outputs": []
    },
    {
      "cell_type": "code",
      "metadata": {
        "id": "Araevh3WPXOy",
        "outputId": "8d765bb1-c39b-46d1-cbf3-b563304163ee",
        "colab": {
          "background_save": true,
          "base_uri": "https://localhost:8080/"
        }
      },
      "source": [
        "from sklearn.ensemble import RandomForestClassifier\n",
        "rf=RandomForestClassifier()\n",
        "parameters={'criterion':['gini','entropy']}\n",
        "clf=GridSearchCV(rf,parameters,cv=10)\n",
        "clf.fit(X,Y)\n",
        "clf.best_params_"
      ],
      "execution_count": null,
      "outputs": [
        {
          "output_type": "execute_result",
          "data": {
            "text/plain": [
              "{'criterion': 'entropy'}"
            ]
          },
          "metadata": {
            "tags": []
          },
          "execution_count": 0
        }
      ]
    },
    {
      "cell_type": "code",
      "metadata": {
        "id": "DjLLPenKS01J",
        "outputId": "1af65cfd-771f-45ac-815c-6e243de5388c",
        "colab": {
          "base_uri": "https://localhost:8080/"
        }
      },
      "source": [
        "\n",
        "rf=RandomForestClassifier(criterion='entropy')\n",
        "maxrscr(rf,X,Y)"
      ],
      "execution_count": null,
      "outputs": [
        {
          "output_type": "stream",
          "text": [
            "the max_score 0.04647445884168688 is for the final state 45\n",
            "the max_score 0.07136256432053378 is for the final state 46\n",
            "the max_score 0.08207827640170373 is for the final state 50\n"
          ],
          "name": "stdout"
        }
      ]
    },
    {
      "cell_type": "code",
      "metadata": {
        "id": "_P9hAYfHTMF0"
      },
      "source": [
        "from sklearn.externals import joblib\n",
        "joblib.dump(rf,'Micro_credit')"
      ],
      "execution_count": null,
      "outputs": []
    }
  ]
}