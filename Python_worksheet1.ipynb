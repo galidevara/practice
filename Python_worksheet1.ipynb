{
 "cells": [
  {
   "cell_type": "code",
   "execution_count": 1,
   "metadata": {},
   "outputs": [
    {
     "name": "stdout",
     "output_type": "stream",
     "text": [
      "enter a number5\n",
      "factorial of 5 = 120\n"
     ]
    }
   ],
   "source": [
    "#11.factorial\n",
    "\n",
    "num=int(input('enter a number'))\n",
    "f=1\n",
    "for i in range(1,num+1):\n",
    "    f=f*i\n",
    "print ('factorial of', num, '=',f)"
   ]
  },
  {
   "cell_type": "code",
   "execution_count": 2,
   "metadata": {},
   "outputs": [
    {
     "name": "stdout",
     "output_type": "stream",
     "text": [
      "Enter the number:123\n",
      "The number is not prime\n"
     ]
    }
   ],
   "source": [
    "#12.Write a Python Program to Check if a Number is a Prime Number\n",
    "number=int(input('Enter the number:'))\n",
    "count=0\n",
    "for i in range(1,number+1):\n",
    "    if(number%i==0):\n",
    "        count+=1\n",
    "if(count>2):\n",
    "    print('The number is not prime')\n",
    "else:\n",
    "    print('The number is prime')"
   ]
  },
  {
   "cell_type": "code",
   "execution_count": 4,
   "metadata": {},
   "outputs": [
    {
     "name": "stdout",
     "output_type": "stream",
     "text": [
      "Enter the word: sindhu\n",
      "The entered word is not palindrome\n"
     ]
    }
   ],
   "source": [
    "#13. Python Program to Check if a String is a Palindrome or Not\n",
    "word=input('Enter the word: ')\n",
    "if(word==word[::-1]):\n",
    "    print('The entered word is palindrome')\n",
    "else:\n",
    "    print('The entered word is not palindrome')"
   ]
  },
  {
   "cell_type": "code",
   "execution_count": 9,
   "metadata": {},
   "outputs": [
    {
     "name": "stdout",
     "output_type": "stream",
     "text": [
      "Adjacent side = 3.4641016151377544\n",
      "Hypotenuse = 7.810249675906654\n",
      "Opposite side=7.416198487095663\n"
     ]
    }
   ],
   "source": [
    "#14. Python program to get the third side of right-angled triangle from two given sides\n",
    "\n",
    "def third_side(opp_side,adj_side,hypo):\n",
    "        if opp_side==str(\"x\"):\n",
    "            return(\"Opposite side=\"+str(((hypo**2)-(adj_side**2))**0.5))\n",
    "        elif adj_side==str(\"x\"):\n",
    "            return (\"Adjacent side = \"+str(((hypo**2)-(opp_side**2))**0.5))\n",
    "        elif hypo == str(\"x\"):\n",
    "            return (\"Hypotenuse = \"+str(((opp_side**2)+(adj_side**2))**0.5))\n",
    "\n",
    "print(third_side(2,'x',4))\n",
    "print(third_side(5,6,'x'))\n",
    "print(third_side('x',3,8))\n"
   ]
  },
  {
   "cell_type": "code",
   "execution_count": 12,
   "metadata": {},
   "outputs": [
    {
     "name": "stdout",
     "output_type": "stream",
     "text": [
      "please enter the stringwonderful climate\n",
      "Count of all characters in wonderful climate is : {'w': 1, 'o': 1, 'n': 1, 'd': 1, 'e': 2, 'r': 1, 'f': 1, 'u': 1, 'l': 2, ' ': 1, 'c': 1, 'i': 1, 'm': 1, 'a': 1, 't': 1}\n"
     ]
    }
   ],
   "source": [
    "#15.python program to print the frequency of each of the characters present in a given string\n",
    "\n",
    "input_string =str(input('please enter the string'))\n",
    "frequencies = {} \n",
    "  \n",
    "for char in input_string: \n",
    "    if char in frequencies: \n",
    "        frequencies[char] += 1\n",
    "    else: \n",
    "        frequencies[char] = 1\n",
    "        \n",
    "print (\"Count of all characters in {0}\".format(input_string),'is : '+  str(frequencies))\n"
   ]
  },
  {
   "cell_type": "code",
   "execution_count": null,
   "metadata": {},
   "outputs": [],
   "source": []
  }
 ],
 "metadata": {
  "kernelspec": {
   "display_name": "Python 3",
   "language": "python",
   "name": "python3"
  },
  "language_info": {
   "codemirror_mode": {
    "name": "ipython",
    "version": 3
   },
   "file_extension": ".py",
   "mimetype": "text/x-python",
   "name": "python",
   "nbconvert_exporter": "python",
   "pygments_lexer": "ipython3",
   "version": "3.7.7"
  }
 },
 "nbformat": 4,
 "nbformat_minor": 4
}
