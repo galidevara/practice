{
 "cells": [
  {
   "cell_type": "code",
   "execution_count": 1,
   "metadata": {},
   "outputs": [],
   "source": [
    "from bs4 import BeautifulSoup\n",
    "from selenium import webdriver\n",
    "import requests\n",
    "import os"
   ]
  },
  {
   "cell_type": "code",
   "execution_count": 32,
   "metadata": {},
   "outputs": [],
   "source": [
    "url=\"https://www.flipkart.com/search?q=rayban+sunglass&sid=26x&as=on&as-show=on&otracker=AS_QueryStore_OrganicAutoSuggest_1_11_na_na_na&otracker1=AS_QueryStore_OrganicAutoSuggest_1_11_na_na_na&as-pos=1&as-type=RECENT&suggestionId=rayban+sunglass%7CSunglasses&requestId=661dfcf3-77d9-4c00-b01e-cb5ca416ca80&as-searchtext=raban+sungl&p%5B%5D=facets.brand%255B%255D%3DRay-Ban\"\n",
    "driver=webdriver.Chrome('C:/Users/sindh/OneDrive/Desktop/chromedriver.exe')\n",
    "driver.get(url)"
   ]
  },
  {
   "cell_type": "code",
   "execution_count": 50,
   "metadata": {},
   "outputs": [],
   "source": [
    "def scrap_img_url(driver):\n",
    "    images=driver.find_elements_by_xpath('//img[@class=\"_3togXc\"]')\n",
    "    product_data={}\n",
    "    product_data['image_url']=[]\n",
    "    count=0\n",
    "    for image in images:\n",
    "        if count<10:\n",
    "            source=image.get_attribute('src')\n",
    "            product_data['image_url'].append(source)\n",
    "            count=count+1\n",
    "        else:\n",
    "            print(\"Done with scraping\")\n",
    "    print('Returning scrap data')\n",
    "    return product_data\n",
    "\n",
    "            "
   ]
  },
  {
   "cell_type": "code",
   "execution_count": 48,
   "metadata": {},
   "outputs": [],
   "source": [
    "def make_dir(dirname):\n",
    "    currentpath=os.getcwd()\n",
    "    path=os.path.join(currentpath,dirname)\n",
    "    if not os.path.exists(path):\n",
    "        os.makedirs(path)\n",
    "        \n",
    "def save_img(data,dirname):\n",
    "    for index,link in enumerate(data['image_url']):\n",
    "        print('Downloading {0} of {1}images'.format(index+1,len(data['image_url'])))\n",
    "        response=requests.get(link)\n",
    "        with open('{0}/{1}img.jpeg'.format(dirname,index),'wb') as file:\n",
    "            file.write(response.content)    \n",
    "    "
   ]
  },
  {
   "cell_type": "code",
   "execution_count": 51,
   "metadata": {
    "scrolled": true
   },
   "outputs": [
    {
     "name": "stdout",
     "output_type": "stream",
     "text": [
      "Done with scraping\n",
      "Done with scraping\n",
      "Done with scraping\n",
      "Done with scraping\n",
      "Done with scraping\n",
      "Done with scraping\n",
      "Done with scraping\n",
      "Done with scraping\n",
      "Done with scraping\n",
      "Done with scraping\n",
      "Done with scraping\n",
      "Done with scraping\n",
      "Done with scraping\n",
      "Done with scraping\n",
      "Done with scraping\n",
      "Done with scraping\n",
      "Done with scraping\n",
      "Done with scraping\n",
      "Done with scraping\n",
      "Done with scraping\n",
      "Done with scraping\n",
      "Done with scraping\n",
      "Done with scraping\n",
      "Done with scraping\n",
      "Done with scraping\n",
      "Done with scraping\n",
      "Done with scraping\n",
      "Done with scraping\n",
      "Done with scraping\n",
      "Done with scraping\n",
      "Returning scrap data\n",
      "Downloading 1 of 10images\n",
      "Downloading 2 of 10images\n",
      "Downloading 3 of 10images\n",
      "Downloading 4 of 10images\n",
      "Downloading 5 of 10images\n",
      "Downloading 6 of 10images\n",
      "Downloading 7 of 10images\n",
      "Downloading 8 of 10images\n",
      "Downloading 9 of 10images\n",
      "Downloading 10 of 10images\n"
     ]
    }
   ],
   "source": [
    "dirname='glasses'\n",
    "make_dir(dirname)\n",
    "start_page=0\n",
    "for c in range(start_page,start_page+1):\n",
    "    try:\n",
    "        productdetails=scrap_img_url(driver=driver)\n",
    "        save_img(data=productdetails,dirname=dirname)\n",
    "\n",
    "    except:\n",
    "        print(\"no\")\n",
    "    "
   ]
  },
  {
   "cell_type": "code",
   "execution_count": null,
   "metadata": {},
   "outputs": [],
   "source": []
  }
 ],
 "metadata": {
  "kernelspec": {
   "display_name": "Python 3",
   "language": "python",
   "name": "python3"
  },
  "language_info": {
   "codemirror_mode": {
    "name": "ipython",
    "version": 3
   },
   "file_extension": ".py",
   "mimetype": "text/x-python",
   "name": "python",
   "nbconvert_exporter": "python",
   "pygments_lexer": "ipython3",
   "version": "3.7.7"
  }
 },
 "nbformat": 4,
 "nbformat_minor": 4
}
