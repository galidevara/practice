{
 "cells": [
  {
   "cell_type": "code",
   "execution_count": 1,
   "metadata": {},
   "outputs": [],
   "source": [
    "import pandas as pd\n",
    "import numpy as np\n",
    "import seaborn as sns\n",
    "import warnings\n",
    "warnings.filterwarnings('ignore')"
   ]
  },
  {
   "cell_type": "code",
   "execution_count": 2,
   "metadata": {
    "scrolled": true
   },
   "outputs": [
    {
     "data": {
      "text/html": [
       "<div>\n",
       "<style scoped>\n",
       "    .dataframe tbody tr th:only-of-type {\n",
       "        vertical-align: middle;\n",
       "    }\n",
       "\n",
       "    .dataframe tbody tr th {\n",
       "        vertical-align: top;\n",
       "    }\n",
       "\n",
       "    .dataframe thead th {\n",
       "        text-align: right;\n",
       "    }\n",
       "</style>\n",
       "<table border=\"1\" class=\"dataframe\">\n",
       "  <thead>\n",
       "    <tr style=\"text-align: right;\">\n",
       "      <th></th>\n",
       "      <th>months_as_customer</th>\n",
       "      <th>age</th>\n",
       "      <th>policy_number</th>\n",
       "      <th>policy_bind_date</th>\n",
       "      <th>policy_state</th>\n",
       "      <th>policy_csl</th>\n",
       "      <th>policy_deductable</th>\n",
       "      <th>policy_annual_premium</th>\n",
       "      <th>umbrella_limit</th>\n",
       "      <th>insured_zip</th>\n",
       "      <th>...</th>\n",
       "      <th>police_report_available</th>\n",
       "      <th>total_claim_amount</th>\n",
       "      <th>injury_claim</th>\n",
       "      <th>property_claim</th>\n",
       "      <th>vehicle_claim</th>\n",
       "      <th>auto_make</th>\n",
       "      <th>auto_model</th>\n",
       "      <th>auto_year</th>\n",
       "      <th>fraud_reported</th>\n",
       "      <th>_c39</th>\n",
       "    </tr>\n",
       "  </thead>\n",
       "  <tbody>\n",
       "    <tr>\n",
       "      <td>0</td>\n",
       "      <td>328</td>\n",
       "      <td>48</td>\n",
       "      <td>521585</td>\n",
       "      <td>17-10-2014</td>\n",
       "      <td>OH</td>\n",
       "      <td>250/500</td>\n",
       "      <td>1000</td>\n",
       "      <td>1406.91</td>\n",
       "      <td>0</td>\n",
       "      <td>466132</td>\n",
       "      <td>...</td>\n",
       "      <td>YES</td>\n",
       "      <td>71610</td>\n",
       "      <td>6510</td>\n",
       "      <td>13020</td>\n",
       "      <td>52080</td>\n",
       "      <td>Saab</td>\n",
       "      <td>92x</td>\n",
       "      <td>2004</td>\n",
       "      <td>Y</td>\n",
       "      <td>NaN</td>\n",
       "    </tr>\n",
       "    <tr>\n",
       "      <td>1</td>\n",
       "      <td>228</td>\n",
       "      <td>42</td>\n",
       "      <td>342868</td>\n",
       "      <td>27-06-2006</td>\n",
       "      <td>IN</td>\n",
       "      <td>250/500</td>\n",
       "      <td>2000</td>\n",
       "      <td>1197.22</td>\n",
       "      <td>5000000</td>\n",
       "      <td>468176</td>\n",
       "      <td>...</td>\n",
       "      <td>?</td>\n",
       "      <td>5070</td>\n",
       "      <td>780</td>\n",
       "      <td>780</td>\n",
       "      <td>3510</td>\n",
       "      <td>Mercedes</td>\n",
       "      <td>E400</td>\n",
       "      <td>2007</td>\n",
       "      <td>Y</td>\n",
       "      <td>NaN</td>\n",
       "    </tr>\n",
       "    <tr>\n",
       "      <td>2</td>\n",
       "      <td>134</td>\n",
       "      <td>29</td>\n",
       "      <td>687698</td>\n",
       "      <td>06-09-2000</td>\n",
       "      <td>OH</td>\n",
       "      <td>100/300</td>\n",
       "      <td>2000</td>\n",
       "      <td>1413.14</td>\n",
       "      <td>5000000</td>\n",
       "      <td>430632</td>\n",
       "      <td>...</td>\n",
       "      <td>NO</td>\n",
       "      <td>34650</td>\n",
       "      <td>7700</td>\n",
       "      <td>3850</td>\n",
       "      <td>23100</td>\n",
       "      <td>Dodge</td>\n",
       "      <td>RAM</td>\n",
       "      <td>2007</td>\n",
       "      <td>N</td>\n",
       "      <td>NaN</td>\n",
       "    </tr>\n",
       "    <tr>\n",
       "      <td>3</td>\n",
       "      <td>256</td>\n",
       "      <td>41</td>\n",
       "      <td>227811</td>\n",
       "      <td>25-05-1990</td>\n",
       "      <td>IL</td>\n",
       "      <td>250/500</td>\n",
       "      <td>2000</td>\n",
       "      <td>1415.74</td>\n",
       "      <td>6000000</td>\n",
       "      <td>608117</td>\n",
       "      <td>...</td>\n",
       "      <td>NO</td>\n",
       "      <td>63400</td>\n",
       "      <td>6340</td>\n",
       "      <td>6340</td>\n",
       "      <td>50720</td>\n",
       "      <td>Chevrolet</td>\n",
       "      <td>Tahoe</td>\n",
       "      <td>2014</td>\n",
       "      <td>Y</td>\n",
       "      <td>NaN</td>\n",
       "    </tr>\n",
       "    <tr>\n",
       "      <td>4</td>\n",
       "      <td>228</td>\n",
       "      <td>44</td>\n",
       "      <td>367455</td>\n",
       "      <td>06-06-2014</td>\n",
       "      <td>IL</td>\n",
       "      <td>500/1000</td>\n",
       "      <td>1000</td>\n",
       "      <td>1583.91</td>\n",
       "      <td>6000000</td>\n",
       "      <td>610706</td>\n",
       "      <td>...</td>\n",
       "      <td>NO</td>\n",
       "      <td>6500</td>\n",
       "      <td>1300</td>\n",
       "      <td>650</td>\n",
       "      <td>4550</td>\n",
       "      <td>Accura</td>\n",
       "      <td>RSX</td>\n",
       "      <td>2009</td>\n",
       "      <td>N</td>\n",
       "      <td>NaN</td>\n",
       "    </tr>\n",
       "    <tr>\n",
       "      <td>...</td>\n",
       "      <td>...</td>\n",
       "      <td>...</td>\n",
       "      <td>...</td>\n",
       "      <td>...</td>\n",
       "      <td>...</td>\n",
       "      <td>...</td>\n",
       "      <td>...</td>\n",
       "      <td>...</td>\n",
       "      <td>...</td>\n",
       "      <td>...</td>\n",
       "      <td>...</td>\n",
       "      <td>...</td>\n",
       "      <td>...</td>\n",
       "      <td>...</td>\n",
       "      <td>...</td>\n",
       "      <td>...</td>\n",
       "      <td>...</td>\n",
       "      <td>...</td>\n",
       "      <td>...</td>\n",
       "      <td>...</td>\n",
       "      <td>...</td>\n",
       "    </tr>\n",
       "    <tr>\n",
       "      <td>995</td>\n",
       "      <td>3</td>\n",
       "      <td>38</td>\n",
       "      <td>941851</td>\n",
       "      <td>16-07-1991</td>\n",
       "      <td>OH</td>\n",
       "      <td>500/1000</td>\n",
       "      <td>1000</td>\n",
       "      <td>1310.80</td>\n",
       "      <td>0</td>\n",
       "      <td>431289</td>\n",
       "      <td>...</td>\n",
       "      <td>?</td>\n",
       "      <td>87200</td>\n",
       "      <td>17440</td>\n",
       "      <td>8720</td>\n",
       "      <td>61040</td>\n",
       "      <td>Honda</td>\n",
       "      <td>Accord</td>\n",
       "      <td>2006</td>\n",
       "      <td>N</td>\n",
       "      <td>NaN</td>\n",
       "    </tr>\n",
       "    <tr>\n",
       "      <td>996</td>\n",
       "      <td>285</td>\n",
       "      <td>41</td>\n",
       "      <td>186934</td>\n",
       "      <td>05-01-2014</td>\n",
       "      <td>IL</td>\n",
       "      <td>100/300</td>\n",
       "      <td>1000</td>\n",
       "      <td>1436.79</td>\n",
       "      <td>0</td>\n",
       "      <td>608177</td>\n",
       "      <td>...</td>\n",
       "      <td>?</td>\n",
       "      <td>108480</td>\n",
       "      <td>18080</td>\n",
       "      <td>18080</td>\n",
       "      <td>72320</td>\n",
       "      <td>Volkswagen</td>\n",
       "      <td>Passat</td>\n",
       "      <td>2015</td>\n",
       "      <td>N</td>\n",
       "      <td>NaN</td>\n",
       "    </tr>\n",
       "    <tr>\n",
       "      <td>997</td>\n",
       "      <td>130</td>\n",
       "      <td>34</td>\n",
       "      <td>918516</td>\n",
       "      <td>17-02-2003</td>\n",
       "      <td>OH</td>\n",
       "      <td>250/500</td>\n",
       "      <td>500</td>\n",
       "      <td>1383.49</td>\n",
       "      <td>3000000</td>\n",
       "      <td>442797</td>\n",
       "      <td>...</td>\n",
       "      <td>YES</td>\n",
       "      <td>67500</td>\n",
       "      <td>7500</td>\n",
       "      <td>7500</td>\n",
       "      <td>52500</td>\n",
       "      <td>Suburu</td>\n",
       "      <td>Impreza</td>\n",
       "      <td>1996</td>\n",
       "      <td>N</td>\n",
       "      <td>NaN</td>\n",
       "    </tr>\n",
       "    <tr>\n",
       "      <td>998</td>\n",
       "      <td>458</td>\n",
       "      <td>62</td>\n",
       "      <td>533940</td>\n",
       "      <td>18-11-2011</td>\n",
       "      <td>IL</td>\n",
       "      <td>500/1000</td>\n",
       "      <td>2000</td>\n",
       "      <td>1356.92</td>\n",
       "      <td>5000000</td>\n",
       "      <td>441714</td>\n",
       "      <td>...</td>\n",
       "      <td>YES</td>\n",
       "      <td>46980</td>\n",
       "      <td>5220</td>\n",
       "      <td>5220</td>\n",
       "      <td>36540</td>\n",
       "      <td>Audi</td>\n",
       "      <td>A5</td>\n",
       "      <td>1998</td>\n",
       "      <td>N</td>\n",
       "      <td>NaN</td>\n",
       "    </tr>\n",
       "    <tr>\n",
       "      <td>999</td>\n",
       "      <td>456</td>\n",
       "      <td>60</td>\n",
       "      <td>556080</td>\n",
       "      <td>11-11-1996</td>\n",
       "      <td>OH</td>\n",
       "      <td>250/500</td>\n",
       "      <td>1000</td>\n",
       "      <td>766.19</td>\n",
       "      <td>0</td>\n",
       "      <td>612260</td>\n",
       "      <td>...</td>\n",
       "      <td>?</td>\n",
       "      <td>5060</td>\n",
       "      <td>460</td>\n",
       "      <td>920</td>\n",
       "      <td>3680</td>\n",
       "      <td>Mercedes</td>\n",
       "      <td>E400</td>\n",
       "      <td>2007</td>\n",
       "      <td>N</td>\n",
       "      <td>NaN</td>\n",
       "    </tr>\n",
       "  </tbody>\n",
       "</table>\n",
       "<p>1000 rows × 40 columns</p>\n",
       "</div>"
      ],
      "text/plain": [
       "     months_as_customer  age  policy_number policy_bind_date policy_state  \\\n",
       "0                   328   48         521585       17-10-2014           OH   \n",
       "1                   228   42         342868       27-06-2006           IN   \n",
       "2                   134   29         687698       06-09-2000           OH   \n",
       "3                   256   41         227811       25-05-1990           IL   \n",
       "4                   228   44         367455       06-06-2014           IL   \n",
       "..                  ...  ...            ...              ...          ...   \n",
       "995                   3   38         941851       16-07-1991           OH   \n",
       "996                 285   41         186934       05-01-2014           IL   \n",
       "997                 130   34         918516       17-02-2003           OH   \n",
       "998                 458   62         533940       18-11-2011           IL   \n",
       "999                 456   60         556080       11-11-1996           OH   \n",
       "\n",
       "    policy_csl  policy_deductable  policy_annual_premium  umbrella_limit  \\\n",
       "0      250/500               1000                1406.91               0   \n",
       "1      250/500               2000                1197.22         5000000   \n",
       "2      100/300               2000                1413.14         5000000   \n",
       "3      250/500               2000                1415.74         6000000   \n",
       "4     500/1000               1000                1583.91         6000000   \n",
       "..         ...                ...                    ...             ...   \n",
       "995   500/1000               1000                1310.80               0   \n",
       "996    100/300               1000                1436.79               0   \n",
       "997    250/500                500                1383.49         3000000   \n",
       "998   500/1000               2000                1356.92         5000000   \n",
       "999    250/500               1000                 766.19               0   \n",
       "\n",
       "     insured_zip  ... police_report_available total_claim_amount injury_claim  \\\n",
       "0         466132  ...                     YES              71610         6510   \n",
       "1         468176  ...                       ?               5070          780   \n",
       "2         430632  ...                      NO              34650         7700   \n",
       "3         608117  ...                      NO              63400         6340   \n",
       "4         610706  ...                      NO               6500         1300   \n",
       "..           ...  ...                     ...                ...          ...   \n",
       "995       431289  ...                       ?              87200        17440   \n",
       "996       608177  ...                       ?             108480        18080   \n",
       "997       442797  ...                     YES              67500         7500   \n",
       "998       441714  ...                     YES              46980         5220   \n",
       "999       612260  ...                       ?               5060          460   \n",
       "\n",
       "    property_claim vehicle_claim   auto_make  auto_model auto_year  \\\n",
       "0            13020         52080        Saab         92x      2004   \n",
       "1              780          3510    Mercedes        E400      2007   \n",
       "2             3850         23100       Dodge         RAM      2007   \n",
       "3             6340         50720   Chevrolet       Tahoe      2014   \n",
       "4              650          4550      Accura         RSX      2009   \n",
       "..             ...           ...         ...         ...       ...   \n",
       "995           8720         61040       Honda      Accord      2006   \n",
       "996          18080         72320  Volkswagen      Passat      2015   \n",
       "997           7500         52500      Suburu     Impreza      1996   \n",
       "998           5220         36540        Audi          A5      1998   \n",
       "999            920          3680    Mercedes        E400      2007   \n",
       "\n",
       "    fraud_reported _c39  \n",
       "0                Y  NaN  \n",
       "1                Y  NaN  \n",
       "2                N  NaN  \n",
       "3                Y  NaN  \n",
       "4                N  NaN  \n",
       "..             ...  ...  \n",
       "995              N  NaN  \n",
       "996              N  NaN  \n",
       "997              N  NaN  \n",
       "998              N  NaN  \n",
       "999              N  NaN  \n",
       "\n",
       "[1000 rows x 40 columns]"
      ]
     },
     "execution_count": 2,
     "metadata": {},
     "output_type": "execute_result"
    }
   ],
   "source": [
    "fraud=pd.read_csv('Automobile_fraud.csv')\n",
    "fraud"
   ]
  },
  {
   "cell_type": "code",
   "execution_count": 3,
   "metadata": {},
   "outputs": [],
   "source": [
    "fraud=fraud.replace('?',np.nan)"
   ]
  },
  {
   "cell_type": "code",
   "execution_count": 4,
   "metadata": {},
   "outputs": [],
   "source": [
    "fraud.drop(columns=['_c39','policy_number'],inplace=True,axis=1)"
   ]
  },
  {
   "cell_type": "code",
   "execution_count": 5,
   "metadata": {
    "scrolled": false
   },
   "outputs": [
    {
     "data": {
      "text/plain": [
       "months_as_customer               0\n",
       "age                              0\n",
       "policy_bind_date                 0\n",
       "policy_state                     0\n",
       "policy_csl                       0\n",
       "policy_deductable                0\n",
       "policy_annual_premium            0\n",
       "umbrella_limit                   0\n",
       "insured_zip                      0\n",
       "insured_sex                      0\n",
       "insured_education_level          0\n",
       "insured_occupation               0\n",
       "insured_hobbies                  0\n",
       "insured_relationship             0\n",
       "capital-gains                    0\n",
       "capital-loss                     0\n",
       "incident_date                    0\n",
       "incident_type                    0\n",
       "collision_type                 178\n",
       "incident_severity                0\n",
       "authorities_contacted            0\n",
       "incident_state                   0\n",
       "incident_city                    0\n",
       "incident_location                0\n",
       "incident_hour_of_the_day         0\n",
       "number_of_vehicles_involved      0\n",
       "property_damage                360\n",
       "bodily_injuries                  0\n",
       "witnesses                        0\n",
       "police_report_available        343\n",
       "total_claim_amount               0\n",
       "injury_claim                     0\n",
       "property_claim                   0\n",
       "vehicle_claim                    0\n",
       "auto_make                        0\n",
       "auto_model                       0\n",
       "auto_year                        0\n",
       "fraud_reported                   0\n",
       "dtype: int64"
      ]
     },
     "execution_count": 5,
     "metadata": {},
     "output_type": "execute_result"
    }
   ],
   "source": [
    "fraud.isnull().sum()"
   ]
  },
  {
   "cell_type": "code",
   "execution_count": 6,
   "metadata": {},
   "outputs": [],
   "source": [
    "for i in fraud.columns:\n",
    "    if fraud[i].isnull().sum()>1:\n",
    "        if fraud[i].dtype=='object':\n",
    "            fraud[i]=fraud[i].fillna(fraud[i].mode()[0])\n",
    "        else:\n",
    "            fraud[i]=fraud[i].fillna(fraud[i].mean()[0])"
   ]
  },
  {
   "cell_type": "code",
   "execution_count": 7,
   "metadata": {
    "scrolled": false
   },
   "outputs": [
    {
     "data": {
      "text/plain": [
       "months_as_customer             0\n",
       "age                            0\n",
       "policy_bind_date               0\n",
       "policy_state                   0\n",
       "policy_csl                     0\n",
       "policy_deductable              0\n",
       "policy_annual_premium          0\n",
       "umbrella_limit                 0\n",
       "insured_zip                    0\n",
       "insured_sex                    0\n",
       "insured_education_level        0\n",
       "insured_occupation             0\n",
       "insured_hobbies                0\n",
       "insured_relationship           0\n",
       "capital-gains                  0\n",
       "capital-loss                   0\n",
       "incident_date                  0\n",
       "incident_type                  0\n",
       "collision_type                 0\n",
       "incident_severity              0\n",
       "authorities_contacted          0\n",
       "incident_state                 0\n",
       "incident_city                  0\n",
       "incident_location              0\n",
       "incident_hour_of_the_day       0\n",
       "number_of_vehicles_involved    0\n",
       "property_damage                0\n",
       "bodily_injuries                0\n",
       "witnesses                      0\n",
       "police_report_available        0\n",
       "total_claim_amount             0\n",
       "injury_claim                   0\n",
       "property_claim                 0\n",
       "vehicle_claim                  0\n",
       "auto_make                      0\n",
       "auto_model                     0\n",
       "auto_year                      0\n",
       "fraud_reported                 0\n",
       "dtype: int64"
      ]
     },
     "execution_count": 7,
     "metadata": {},
     "output_type": "execute_result"
    }
   ],
   "source": [
    "fraud.isnull().sum()"
   ]
  },
  {
   "cell_type": "code",
   "execution_count": 8,
   "metadata": {},
   "outputs": [],
   "source": [
    "fraud['pcy_day']=pd.to_datetime(fraud['policy_bind_date'],format='%d-%m-%Y').dt.day\n",
    "fraud['pcy_month']=pd.to_datetime(fraud['policy_bind_date'],format='%d-%m-%Y').dt.month\n",
    "fraud['pcy_year']=pd.to_datetime(fraud['policy_bind_date'],format='%d-%m-%Y').dt.year\n",
    "fraud.drop(columns=['policy_bind_date'],axis=1,inplace=True)"
   ]
  },
  {
   "cell_type": "code",
   "execution_count": 9,
   "metadata": {
    "scrolled": true
   },
   "outputs": [
    {
     "data": {
      "text/plain": [
       "Index(['policy_state', 'policy_csl', 'insured_sex', 'insured_education_level',\n",
       "       'insured_occupation', 'insured_hobbies', 'insured_relationship',\n",
       "       'incident_date', 'incident_type', 'collision_type', 'incident_severity',\n",
       "       'authorities_contacted', 'incident_state', 'incident_city',\n",
       "       'incident_location', 'property_damage', 'police_report_available',\n",
       "       'auto_make', 'auto_model', 'fraud_reported'],\n",
       "      dtype='object')"
      ]
     },
     "execution_count": 9,
     "metadata": {},
     "output_type": "execute_result"
    }
   ],
   "source": [
    "m=fraud.dtypes.loc[fraud.dtypes=='object'].index\n",
    "m"
   ]
  },
  {
   "cell_type": "code",
   "execution_count": 10,
   "metadata": {},
   "outputs": [],
   "source": [
    "from sklearn.preprocessing import LabelEncoder\n",
    "le=LabelEncoder()\n",
    "for i in m:\n",
    "    fraud[i]=le.fit_transform(fraud[i])"
   ]
  },
  {
   "cell_type": "code",
   "execution_count": 11,
   "metadata": {
    "scrolled": false
   },
   "outputs": [
    {
     "name": "stdout",
     "output_type": "stream",
     "text": [
      "<class 'pandas.core.frame.DataFrame'>\n",
      "RangeIndex: 1000 entries, 0 to 999\n",
      "Data columns (total 40 columns):\n",
      "months_as_customer             1000 non-null int64\n",
      "age                            1000 non-null int64\n",
      "policy_state                   1000 non-null int32\n",
      "policy_csl                     1000 non-null int32\n",
      "policy_deductable              1000 non-null int64\n",
      "policy_annual_premium          1000 non-null float64\n",
      "umbrella_limit                 1000 non-null int64\n",
      "insured_zip                    1000 non-null int64\n",
      "insured_sex                    1000 non-null int32\n",
      "insured_education_level        1000 non-null int32\n",
      "insured_occupation             1000 non-null int32\n",
      "insured_hobbies                1000 non-null int32\n",
      "insured_relationship           1000 non-null int32\n",
      "capital-gains                  1000 non-null int64\n",
      "capital-loss                   1000 non-null int64\n",
      "incident_date                  1000 non-null int32\n",
      "incident_type                  1000 non-null int32\n",
      "collision_type                 1000 non-null int32\n",
      "incident_severity              1000 non-null int32\n",
      "authorities_contacted          1000 non-null int32\n",
      "incident_state                 1000 non-null int32\n",
      "incident_city                  1000 non-null int32\n",
      "incident_location              1000 non-null int32\n",
      "incident_hour_of_the_day       1000 non-null int64\n",
      "number_of_vehicles_involved    1000 non-null int64\n",
      "property_damage                1000 non-null int32\n",
      "bodily_injuries                1000 non-null int64\n",
      "witnesses                      1000 non-null int64\n",
      "police_report_available        1000 non-null int32\n",
      "total_claim_amount             1000 non-null int64\n",
      "injury_claim                   1000 non-null int64\n",
      "property_claim                 1000 non-null int64\n",
      "vehicle_claim                  1000 non-null int64\n",
      "auto_make                      1000 non-null int32\n",
      "auto_model                     1000 non-null int32\n",
      "auto_year                      1000 non-null int64\n",
      "fraud_reported                 1000 non-null int32\n",
      "pcy_day                        1000 non-null int64\n",
      "pcy_month                      1000 non-null int64\n",
      "pcy_year                       1000 non-null int64\n",
      "dtypes: float64(1), int32(20), int64(19)\n",
      "memory usage: 234.5 KB\n"
     ]
    }
   ],
   "source": [
    "fraud.info()"
   ]
  },
  {
   "cell_type": "code",
   "execution_count": 12,
   "metadata": {
    "scrolled": true
   },
   "outputs": [
    {
     "data": {
      "text/plain": [
       "months_as_customer                AxesSubplot(0.125,0.749828;0.0824468x0.130172)\n",
       "age                            AxesSubplot(0.223936,0.749828;0.0824468x0.130172)\n",
       "policy_state                   AxesSubplot(0.322872,0.749828;0.0824468x0.130172)\n",
       "policy_csl                     AxesSubplot(0.421809,0.749828;0.0824468x0.130172)\n",
       "policy_deductable              AxesSubplot(0.520745,0.749828;0.0824468x0.130172)\n",
       "policy_annual_premium          AxesSubplot(0.619681,0.749828;0.0824468x0.130172)\n",
       "umbrella_limit                 AxesSubplot(0.718617,0.749828;0.0824468x0.130172)\n",
       "insured_zip                    AxesSubplot(0.817553,0.749828;0.0824468x0.130172)\n",
       "insured_sex                       AxesSubplot(0.125,0.593621;0.0824468x0.130172)\n",
       "insured_education_level        AxesSubplot(0.223936,0.593621;0.0824468x0.130172)\n",
       "insured_occupation             AxesSubplot(0.322872,0.593621;0.0824468x0.130172)\n",
       "insured_hobbies                AxesSubplot(0.421809,0.593621;0.0824468x0.130172)\n",
       "insured_relationship           AxesSubplot(0.520745,0.593621;0.0824468x0.130172)\n",
       "capital-gains                  AxesSubplot(0.619681,0.593621;0.0824468x0.130172)\n",
       "capital-loss                   AxesSubplot(0.718617,0.593621;0.0824468x0.130172)\n",
       "incident_date                  AxesSubplot(0.817553,0.593621;0.0824468x0.130172)\n",
       "incident_type                     AxesSubplot(0.125,0.437414;0.0824468x0.130172)\n",
       "collision_type                 AxesSubplot(0.223936,0.437414;0.0824468x0.130172)\n",
       "incident_severity              AxesSubplot(0.322872,0.437414;0.0824468x0.130172)\n",
       "authorities_contacted          AxesSubplot(0.421809,0.437414;0.0824468x0.130172)\n",
       "incident_state                 AxesSubplot(0.520745,0.437414;0.0824468x0.130172)\n",
       "incident_city                  AxesSubplot(0.619681,0.437414;0.0824468x0.130172)\n",
       "incident_location              AxesSubplot(0.718617,0.437414;0.0824468x0.130172)\n",
       "incident_hour_of_the_day       AxesSubplot(0.817553,0.437414;0.0824468x0.130172)\n",
       "number_of_vehicles_involved       AxesSubplot(0.125,0.281207;0.0824468x0.130172)\n",
       "property_damage                AxesSubplot(0.223936,0.281207;0.0824468x0.130172)\n",
       "bodily_injuries                AxesSubplot(0.322872,0.281207;0.0824468x0.130172)\n",
       "witnesses                      AxesSubplot(0.421809,0.281207;0.0824468x0.130172)\n",
       "police_report_available        AxesSubplot(0.520745,0.281207;0.0824468x0.130172)\n",
       "total_claim_amount             AxesSubplot(0.619681,0.281207;0.0824468x0.130172)\n",
       "injury_claim                   AxesSubplot(0.718617,0.281207;0.0824468x0.130172)\n",
       "property_claim                 AxesSubplot(0.817553,0.281207;0.0824468x0.130172)\n",
       "vehicle_claim                        AxesSubplot(0.125,0.125;0.0824468x0.130172)\n",
       "auto_make                         AxesSubplot(0.223936,0.125;0.0824468x0.130172)\n",
       "auto_model                        AxesSubplot(0.322872,0.125;0.0824468x0.130172)\n",
       "auto_year                         AxesSubplot(0.421809,0.125;0.0824468x0.130172)\n",
       "fraud_reported                    AxesSubplot(0.520745,0.125;0.0824468x0.130172)\n",
       "pcy_day                           AxesSubplot(0.619681,0.125;0.0824468x0.130172)\n",
       "pcy_month                         AxesSubplot(0.718617,0.125;0.0824468x0.130172)\n",
       "pcy_year                          AxesSubplot(0.817553,0.125;0.0824468x0.130172)\n",
       "dtype: object"
      ]
     },
     "execution_count": 12,
     "metadata": {},
     "output_type": "execute_result"
    },
    {
     "data": {
      "image/png": "[encoded data removed]",
      "text/plain": [
       "<Figure size 432x288 with 40 Axes>"
      ]
     },
     "metadata": {
      "needs_background": "light"
     },
     "output_type": "display_data"
    }
   ],
   "source": [
    "fraud.plot(kind='box',layout=(5,8),subplots=True)"
   ]
  },
  {
   "cell_type": "code",
   "execution_count": 13,
   "metadata": {
    "scrolled": true
   },
   "outputs": [
    {
     "data": {
      "text/plain": [
       "<matplotlib.axes._subplots.AxesSubplot at 0x16ea57aba08>"
      ]
     },
     "execution_count": 13,
     "metadata": {},
     "output_type": "execute_result"
    },
    {
     "data": {
      "image/png": "[encoded data removed]",
      "text/plain": [
       "<Figure size 432x288 with 2 Axes>"
      ]
     },
     "metadata": {
      "needs_background": "light"
     },
     "output_type": "display_data"
    }
   ],
   "source": [
    "import seaborn as sns\n",
    "sns.heatmap(fraud.corr())"
   ]
  },
  {
   "cell_type": "code",
   "execution_count": 14,
   "metadata": {},
   "outputs": [
    {
     "name": "stdout",
     "output_type": "stream",
     "text": [
      "(1000, 40)\n",
      "(980, 40)\n"
     ]
    }
   ],
   "source": [
    "from scipy.stats import zscore\n",
    "dt=abs(zscore(fraud))\n",
    "print(fraud.shape)\n",
    "fraud_new=fraud.loc[(dt<3).all(axis=1)]\n",
    "print(fraud_new.shape)"
   ]
  },
  {
   "cell_type": "code",
   "execution_count": 15,
   "metadata": {
    "scrolled": false
   },
   "outputs": [
    {
     "data": {
      "text/plain": [
       "months_as_customer             0.362608\n",
       "age                            0.475385\n",
       "policy_state                  -0.038157\n",
       "policy_csl                     0.098248\n",
       "policy_deductable              0.476090\n",
       "policy_annual_premium          0.035964\n",
       "umbrella_limit                 1.801424\n",
       "insured_zip                    0.837283\n",
       "insured_sex                    0.139324\n",
       "insured_education_level        0.006286\n",
       "insured_occupation            -0.055360\n",
       "insured_hobbies               -0.061488\n",
       "insured_relationship           0.078339\n",
       "capital-gains                  0.466619\n",
       "capital-loss                  -0.376884\n",
       "incident_date                  0.002604\n",
       "incident_type                  0.090563\n",
       "collision_type                -0.032778\n",
       "incident_severity              0.277726\n",
       "authorities_contacted         -0.114044\n",
       "incident_state                -0.149255\n",
       "incident_city                  0.043882\n",
       "incident_location             -0.003369\n",
       "incident_hour_of_the_day      -0.039280\n",
       "number_of_vehicles_involved    0.509725\n",
       "property_damage                0.853093\n",
       "bodily_injuries                0.003757\n",
       "witnesses                      0.026211\n",
       "police_report_available        0.796221\n",
       "total_claim_amount            -0.593593\n",
       "injury_claim                   0.271759\n",
       "property_claim                 0.361356\n",
       "vehicle_claim                 -0.620936\n",
       "auto_make                     -0.028739\n",
       "auto_model                    -0.073462\n",
       "auto_year                     -0.054522\n",
       "fraud_reported                 1.188267\n",
       "pcy_day                        0.054173\n",
       "pcy_month                     -0.029021\n",
       "pcy_year                       0.065022\n",
       "dtype: float64"
      ]
     },
     "execution_count": 15,
     "metadata": {},
     "output_type": "execute_result"
    }
   ],
   "source": [
    "fraud_new.skew()"
   ]
  },
  {
   "cell_type": "code",
   "execution_count": 16,
   "metadata": {
    "scrolled": false
   },
   "outputs": [
    {
     "name": "stdout",
     "output_type": "stream",
     "text": [
      "months_as_customer             0.362608\n",
      "age                            0.475385\n",
      "policy_state                  -0.038157\n",
      "policy_csl                     0.098248\n",
      "policy_deductable              0.476090\n",
      "policy_annual_premium          0.035964\n",
      "umbrella_limit                 1.648539\n",
      "insured_zip                    0.820824\n",
      "insured_sex                    0.139324\n",
      "insured_education_level        0.006286\n",
      "insured_occupation            -0.055360\n",
      "insured_hobbies               -0.061488\n",
      "insured_relationship           0.078339\n",
      "capital-gains                  0.466619\n",
      "capital-loss                  -0.376884\n",
      "incident_date                  0.002604\n",
      "incident_type                  0.090563\n",
      "collision_type                -0.032778\n",
      "incident_severity              0.277726\n",
      "authorities_contacted         -0.114044\n",
      "incident_state                -0.149255\n",
      "incident_city                  0.043882\n",
      "incident_location             -0.003369\n",
      "incident_hour_of_the_day      -0.039280\n",
      "number_of_vehicles_involved    0.509725\n",
      "property_damage                0.853093\n",
      "bodily_injuries                0.003757\n",
      "witnesses                      0.026211\n",
      "police_report_available        0.796221\n",
      "total_claim_amount            -0.593593\n",
      "injury_claim                   0.271759\n",
      "property_claim                 0.361356\n",
      "vehicle_claim                 -0.620936\n",
      "auto_make                     -0.028739\n",
      "auto_model                    -0.073462\n",
      "auto_year                     -0.054522\n",
      "fraud_reported                 1.188267\n",
      "pcy_day                        0.054173\n",
      "pcy_month                     -0.029021\n",
      "pcy_year                       0.065022\n",
      "dtype: float64\n"
     ]
    }
   ],
   "source": [
    "for i in fraud_new.columns:\n",
    "    if fraud_new.skew().loc[i]>0.55:\n",
    "        fraud_new[i]=np.sqrt(fraud_new[i])\n",
    "        \n",
    "print(fraud_new.skew())"
   ]
  },
  {
   "cell_type": "code",
   "execution_count": 17,
   "metadata": {
    "scrolled": true
   },
   "outputs": [
    {
     "data": {
      "text/plain": [
       "<seaborn.axisgrid.FacetGrid at 0x16ea5932248>"
      ]
     },
     "execution_count": 17,
     "metadata": {},
     "output_type": "execute_result"
    },
    {
     "data": {
      "image/png": "[encoded data removed]",
      "text/plain": [
       "<Figure size 298.625x216 with 1 Axes>"
      ]
     },
     "metadata": {
      "needs_background": "light"
     },
     "output_type": "display_data"
    }
   ],
   "source": [
    "sns.FacetGrid(fraud_new,hue='fraud_reported').map(sns.distplot,'age').add_legend()"
   ]
  },
  {
   "cell_type": "markdown",
   "metadata": {},
   "source": [
    "The above graph represents that people with age 30 to 50 are more likely to be fraud_reported"
   ]
  },
  {
   "cell_type": "code",
   "execution_count": 19,
   "metadata": {},
   "outputs": [],
   "source": [
    "x=fraud_new.drop(columns=['fraud_reported','policy_annual_premium','umbrella_limit'])\n",
    "y=fraud_new['fraud_reported']"
   ]
  },
  {
   "cell_type": "code",
   "execution_count": 20,
   "metadata": {},
   "outputs": [],
   "source": [
    "from sklearn.model_selection import train_test_split,cross_val_score\n",
    "from sklearn.metrics import r2_score,accuracy_score,confusion_matrix,classification_report,roc_auc_score"
   ]
  },
  {
   "cell_type": "code",
   "execution_count": 21,
   "metadata": {},
   "outputs": [],
   "source": [
    "def max_r2(reg,x,y):\n",
    "    maxsrc=0\n",
    "    for r in range(45,100):\n",
    "        x_train,x_test,y_train,y_test=train_test_split(x,y,random_state=r)\n",
    "        reg.fit(x_train,y_train)\n",
    "        ypred=reg.predict(x_test)\n",
    "        r2src=r2_score(y_test,ypred)\n",
    "        if maxsrc<r2src:\n",
    "            maxsrc=r2src\n",
    "            final=r\n",
    "            print(\"for final state\",final,'max r2 score is:',maxsrc)\n",
    "    print('score of the model:',reg.score(x_train,y_train))\n",
    "    print('accuracy of the model:',accuracy_score(y_test,ypred))\n",
    "    print('Confussion matrix:',confusion_matrix(y_test,ypred))\n",
    "    print('Clasification report:',classification_report(y_test,ypred))\n",
    "\n",
    "    print('Cross val score:',cross_val_score(reg,x,y,cv=10).mean())\n",
    "    print('auc_score is :',roc_auc_score(y_test,reg.predict(x_test)))"
   ]
  },
  {
   "cell_type": "code",
   "execution_count": 22,
   "metadata": {
    "scrolled": true
   },
   "outputs": [
    {
     "name": "stdout",
     "output_type": "stream",
     "text": [
      "score of the model: 0.7687074829931972\n",
      "accuracy of the model: 0.7428571428571429\n",
      "Confussion matrix: [[178   1]\n",
      " [ 62   4]]\n",
      "Clasification report:               precision    recall  f1-score   support\n",
      "\n",
      "         0.0       0.74      0.99      0.85       179\n",
      "         1.0       0.80      0.06      0.11        66\n",
      "\n",
      "    accuracy                           0.74       245\n",
      "   macro avg       0.77      0.53      0.48       245\n",
      "weighted avg       0.76      0.74      0.65       245\n",
      "\n",
      "Cross val score: 0.7489795918367347\n",
      "auc_score is : 0.5275097342136448\n"
     ]
    }
   ],
   "source": [
    "from sklearn.linear_model import LogisticRegression\n",
    "lg=LogisticRegression()\n",
    "max_r2(lg,x,y)"
   ]
  },
  {
   "cell_type": "code",
   "execution_count": 23,
   "metadata": {},
   "outputs": [
    {
     "data": {
      "text/plain": [
       "{'criterion': 'gini'}"
      ]
     },
     "execution_count": 23,
     "metadata": {},
     "output_type": "execute_result"
    }
   ],
   "source": [
    "from sklearn.tree import DecisionTreeClassifier\n",
    "from sklearn.model_selection import GridSearchCV\n",
    "dct=DecisionTreeClassifier()\n",
    "parameters={'criterion':['gini','entropy']}\n",
    "clf=GridSearchCV(dct,parameters,cv=10)\n",
    "clf.fit(x,y)\n",
    "clf.best_params_"
   ]
  },
  {
   "cell_type": "code",
   "execution_count": 24,
   "metadata": {},
   "outputs": [
    {
     "name": "stdout",
     "output_type": "stream",
     "text": [
      "for final state 47 max r2 score is: 0.01391916820392447\n",
      "for final state 63 max r2 score is: 0.04792746113989632\n",
      "score of the model: 1.0\n",
      "accuracy of the model: 0.7551020408163265\n",
      "Confussion matrix: [[146  33]\n",
      " [ 27  39]]\n",
      "Clasification report:               precision    recall  f1-score   support\n",
      "\n",
      "         0.0       0.84      0.82      0.83       179\n",
      "         1.0       0.54      0.59      0.57        66\n",
      "\n",
      "    accuracy                           0.76       245\n",
      "   macro avg       0.69      0.70      0.70       245\n",
      "weighted avg       0.76      0.76      0.76       245\n",
      "\n",
      "Cross val score: 0.7724489795918367\n",
      "auc_score is : 0.7032757745048248\n"
     ]
    }
   ],
   "source": [
    "dct=DecisionTreeClassifier('gini')\n",
    "max_r2(dct,x,y)"
   ]
  },
  {
   "cell_type": "code",
   "execution_count": 25,
   "metadata": {},
   "outputs": [
    {
     "name": "stdout",
     "output_type": "stream",
     "text": [
      "score of the model: 0.7904761904761904\n",
      "accuracy of the model: 0.6571428571428571\n",
      "Confussion matrix: [[158  21]\n",
      " [ 63   3]]\n",
      "Clasification report:               precision    recall  f1-score   support\n",
      "\n",
      "         0.0       0.71      0.88      0.79       179\n",
      "         1.0       0.12      0.05      0.07        66\n",
      "\n",
      "    accuracy                           0.66       245\n",
      "   macro avg       0.42      0.46      0.43       245\n",
      "weighted avg       0.56      0.66      0.60       245\n",
      "\n",
      "Cross val score: 0.6979591836734693\n",
      "auc_score is : 0.4640680548501777\n"
     ]
    }
   ],
   "source": [
    "from sklearn.neighbors import KNeighborsClassifier\n",
    "kn=KNeighborsClassifier()\n",
    "max_r2(kn,x,y)"
   ]
  },
  {
   "cell_type": "code",
   "execution_count": 26,
   "metadata": {},
   "outputs": [
    {
     "name": "stdout",
     "output_type": "stream",
     "text": [
      "score of the model: 1.0\n",
      "accuracy of the model: 0.7306122448979592\n",
      "Confussion matrix: [[179   0]\n",
      " [ 66   0]]\n",
      "Clasification report:               precision    recall  f1-score   support\n",
      "\n",
      "         0.0       0.73      1.00      0.84       179\n",
      "         1.0       0.00      0.00      0.00        66\n",
      "\n",
      "    accuracy                           0.73       245\n",
      "   macro avg       0.37      0.50      0.42       245\n",
      "weighted avg       0.53      0.73      0.62       245\n",
      "\n",
      "Cross val score: 0.7551020408163265\n",
      "auc_score is : 0.5\n"
     ]
    }
   ],
   "source": [
    "from sklearn.svm import SVC\n",
    "svc=SVC()\n",
    "max_r2(svc,x,y)"
   ]
  },
  {
   "cell_type": "code",
   "execution_count": 27,
   "metadata": {},
   "outputs": [
    {
     "name": "stdout",
     "output_type": "stream",
     "text": [
      "for final state 80 max r2 score is: 0.034263189812007044\n",
      "score of the model: 0.9850340136054422\n",
      "accuracy of the model: 0.7510204081632653\n",
      "Confussion matrix: [[167  12]\n",
      " [ 49  17]]\n",
      "Clasification report:               precision    recall  f1-score   support\n",
      "\n",
      "         0.0       0.77      0.93      0.85       179\n",
      "         1.0       0.59      0.26      0.36        66\n",
      "\n",
      "    accuracy                           0.75       245\n",
      "   macro avg       0.68      0.60      0.60       245\n",
      "weighted avg       0.72      0.75      0.71       245\n",
      "\n",
      "Cross val score: 0.7673469387755102\n",
      "auc_score is : 0.595268325715253\n"
     ]
    }
   ],
   "source": [
    "from sklearn.ensemble import RandomForestClassifier\n",
    "rfr=RandomForestClassifier()\n",
    "max_r2(rfr,x,y)"
   ]
  },
  {
   "cell_type": "code",
   "execution_count": 28,
   "metadata": {},
   "outputs": [],
   "source": [
    "from sklearn.ensemble import GradientBoostingClassifier,AdaBoostClassifier\n",
    "from sklearn.model_selection import GridSearchCV"
   ]
  },
  {
   "cell_type": "code",
   "execution_count": 29,
   "metadata": {},
   "outputs": [
    {
     "data": {
      "text/plain": [
       "{'learning_rate': 0.1, 'n_estimators': 50}"
      ]
     },
     "execution_count": 29,
     "metadata": {},
     "output_type": "execute_result"
    }
   ],
   "source": [
    "gbr=GradientBoostingClassifier()\n",
    "parameters={'learning_rate':[0.001,0.01,0.1,1],'n_estimators':[10,50,100,1000]}\n",
    "clf=GridSearchCV(gbr,parameters,cv=10)\n",
    "clf.fit(x,y)\n",
    "clf.best_params_"
   ]
  },
  {
   "cell_type": "code",
   "execution_count": 30,
   "metadata": {},
   "outputs": [
    {
     "name": "stdout",
     "output_type": "stream",
     "text": [
      "for final state 45 max r2 score is: 0.12930563149261887\n",
      "for final state 52 max r2 score is: 0.20104001410188632\n",
      "for final state 57 max r2 score is: 0.23860497237569056\n",
      "for final state 75 max r2 score is: 0.24093311463459077\n",
      "for final state 76 max r2 score is: 0.2597548342541437\n",
      "for final state 92 max r2 score is: 0.3800000000000001\n",
      "score of the model: 0.9482993197278912\n",
      "accuracy of the model: 0.8489795918367347\n",
      "Confussion matrix: [[163  16]\n",
      " [ 21  45]]\n",
      "Clasification report:               precision    recall  f1-score   support\n",
      "\n",
      "         0.0       0.89      0.91      0.90       179\n",
      "         1.0       0.74      0.68      0.71        66\n",
      "\n",
      "    accuracy                           0.85       245\n",
      "   macro avg       0.81      0.80      0.80       245\n",
      "weighted avg       0.85      0.85      0.85       245\n",
      "\n",
      "Cross val score: 0.8367346938775511\n",
      "auc_score is : 0.7962163534789233\n"
     ]
    }
   ],
   "source": [
    "gbr=GradientBoostingClassifier(learning_rate=0.1,n_estimators=50)\n",
    "max_r2(gbr,x,y)"
   ]
  },
  {
   "cell_type": "code",
   "execution_count": 31,
   "metadata": {},
   "outputs": [
    {
     "data": {
      "text/plain": [
       "{'learning_rate': 0.001, 'n_estimators': 10}"
      ]
     },
     "execution_count": 31,
     "metadata": {},
     "output_type": "execute_result"
    }
   ],
   "source": [
    "adb=AdaBoostClassifier()\n",
    "parameters={'learning_rate':[0.001,0.01,0.1,1],'n_estimators':[10,50,100,1000]}\n",
    "clf=GridSearchCV(adb,parameters,cv=10)\n",
    "clf.fit(x,y)\n",
    "clf.best_params_"
   ]
  },
  {
   "cell_type": "code",
   "execution_count": 32,
   "metadata": {},
   "outputs": [
    {
     "name": "stdout",
     "output_type": "stream",
     "text": [
      "for final state 46 max r2 score is: 0.005956491712707179\n",
      "for final state 47 max r2 score is: 0.17826597350327034\n",
      "for final state 72 max r2 score is: 0.22648720505151199\n",
      "score of the model: 0.8149659863945579\n",
      "accuracy of the model: 0.7918367346938775\n",
      "Confussion matrix: [[151  28]\n",
      " [ 23  43]]\n",
      "Clasification report:               precision    recall  f1-score   support\n",
      "\n",
      "         0.0       0.87      0.84      0.86       179\n",
      "         1.0       0.61      0.65      0.63        66\n",
      "\n",
      "    accuracy                           0.79       245\n",
      "   macro avg       0.74      0.75      0.74       245\n",
      "weighted avg       0.80      0.79      0.79       245\n",
      "\n",
      "Cross val score: 0.8091836734693878\n",
      "auc_score is : 0.7475452852547824\n"
     ]
    }
   ],
   "source": [
    "adb=AdaBoostClassifier(learning_rate=0.001,n_estimators=10)\n",
    "max_r2(adb,x,y)"
   ]
  },
  {
   "cell_type": "code",
   "execution_count": null,
   "metadata": {},
   "outputs": [],
   "source": [
    "from sklearn.externals import joblib\n",
    "joblib.dump(gbr,'Automobile_fraud')"
   ]
  }
 ],
 "metadata": {
  "kernelspec": {
   "display_name": "Python 3",
   "language": "python",
   "name": "python3"
  },
  "language_info": {
   "codemirror_mode": {
    "name": "ipython",
    "version": 3
   },
   "file_extension": ".py",
   "mimetype": "text/x-python",
   "name": "python",
   "nbconvert_exporter": "python",
   "pygments_lexer": "ipython3",
   "version": "3.7.4"
  }
 },
 "nbformat": 4,
 "nbformat_minor": 2
}
