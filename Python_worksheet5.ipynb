{
 "cells": [
  {
   "cell_type": "code",
   "execution_count": 1,
   "metadata": {},
   "outputs": [
    {
     "name": "stdout",
     "output_type": "stream",
     "text": [
      "[1, 4, 9, 16, 25]\n"
     ]
    }
   ],
   "source": [
    "#12\n",
    "num=[1, 2, 3, 4, 5]\n",
    "sqrd_num=[i**2 for i in num]\n",
    "\n",
    "print(sqrd_num)"
   ]
  },
  {
   "cell_type": "code",
   "execution_count": 2,
   "metadata": {},
   "outputs": [
    {
     "name": "stdout",
     "output_type": "stream",
     "text": [
      "The original list is : [1, 3, 5, 6, 3, 5, 6, 1]\n",
      "The list after removing duplicates : [1, 3, 5, 6]\n"
     ]
    }
   ],
   "source": [
    "#13\n",
    "test_list=[1, 3, 5, 6, 3, 5, 6, 1] \n",
    "print(\"The original list is : \"+str(test_list)) \n",
    "res=[] \n",
    "for i in test_list: \n",
    "    if i not in res: \n",
    "        res.append(i)\n",
    "print (\"The list after removing duplicates : \" + str(res))"
   ]
  },
  {
   "cell_type": "code",
   "execution_count": 3,
   "metadata": {},
   "outputs": [
    {
     "name": "stdout",
     "output_type": "stream",
     "text": [
      "Intersection of sets:  {2, 3, 4}\n",
      "Union of sets:  {1, 2, 3, 4, 5, 6}\n",
      "Difference of sets:  {1}\n",
      "Symmetric_difference of sets:  {1, 5, 6}\n"
     ]
    }
   ],
   "source": [
    "#14\n",
    "a=set([1,2,3,4])\n",
    "b=set([2,3,4,5,6])\n",
    "inter = a.intersection(b)\n",
    "print(\"Intersection of sets: \",inter)\n",
    "uni=a.union(b)\n",
    "print('Union of sets: ',uni)\n",
    "dif=a.difference(b)\n",
    "print('Difference of sets: ',dif)\n",
    "sy_dif=a.symmetric_difference(b)\n",
    "print('Symmetric_difference of sets: ',sy_dif)"
   ]
  },
  {
   "cell_type": "code",
   "execution_count": 4,
   "metadata": {},
   "outputs": [
    {
     "name": "stdout",
     "output_type": "stream",
     "text": [
      "{0, 1, 2, 5, 9}\n"
     ]
    }
   ],
   "source": [
    "#15\n",
    "x=set([2,5,1,0])\n",
    "x.add(9)\n",
    "print(x)"
   ]
  },
  {
   "cell_type": "code",
   "execution_count": null,
   "metadata": {},
   "outputs": [],
   "source": []
  }
 ],
 "metadata": {
  "kernelspec": {
   "display_name": "Python 3",
   "language": "python",
   "name": "python3"
  },
  "language_info": {
   "codemirror_mode": {
    "name": "ipython",
    "version": 3
   },
   "file_extension": ".py",
   "mimetype": "text/x-python",
   "name": "python",
   "nbconvert_exporter": "python",
   "pygments_lexer": "ipython3",
   "version": "3.7.7"
  }
 },
 "nbformat": 4,
 "nbformat_minor": 4
}
