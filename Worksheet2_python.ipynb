{
 "cells": [
  {
   "cell_type": "code",
   "execution_count": 2,
   "metadata": {},
   "outputs": [
    {
     "name": "stdout",
     "output_type": "stream",
     "text": [
      "I Love Python\n"
     ]
    }
   ],
   "source": [
    "# 12. write a small code to replace ‘+’ with space in python\n",
    "\n",
    "string ='I+Love+Python'\n",
    "str_new= string.replace('+',' ')\n",
    "print(str_new)"
   ]
  },
  {
   "cell_type": "code",
   "execution_count": 3,
   "metadata": {},
   "outputs": [
    {
     "data": {
      "text/plain": [
       "97"
      ]
     },
     "execution_count": 3,
     "metadata": {},
     "output_type": "execute_result"
    }
   ],
   "source": [
    "# 13. Function of ord()\n",
    "\n",
    "ord('a')"
   ]
  },
  {
   "cell_type": "code",
   "execution_count": 10,
   "metadata": {},
   "outputs": [
    {
     "name": "stdout",
     "output_type": "stream",
     "text": [
      "<class 'str'>\n",
      "<class 'int'>\n"
     ]
    }
   ],
   "source": [
    "# 13.  datatype of a variable in python\n",
    "\n",
    "abc='Heloo'\n",
    "xyz=123\n",
    "print(type(abc))\n",
    "print(type(xyz))\n"
   ]
  },
  {
   "cell_type": "code",
   "execution_count": 9,
   "metadata": {},
   "outputs": [
    {
     "name": "stdout",
     "output_type": "stream",
     "text": [
      "Enter a:0\n",
      "Value of a should not be equal to 0. Please enter a value again\n",
      "Enter a:5\n",
      "Enter b:6\n",
      "Enter c:2\n",
      "The result of quadratic expression are (-0.6-0.2j) and (-0.6+0.2j)\n"
     ]
    }
   ],
   "source": [
    "# 14. solve a quadratic equation of the form 𝑎𝑥2 + 𝑏𝑥 + 𝑐 = 0\n",
    "\n",
    "import cmath\n",
    "\n",
    "a = int(input('Enter a:'))\n",
    "if a==0:\n",
    "    print('Value of a should not be equal to 0. Please enter a value again')\n",
    "    a = int(input('Enter a:'))\n",
    "    \n",
    "b = int(input('Enter b:'))\n",
    "c = int(input('Enter c:'))\n",
    "d = (b**2) - (4*a*c)\n",
    "\n",
    "x1 = (-b-cmath.sqrt(d))/(2*a)\n",
    "x2 = (-b+cmath.sqrt(d))/(2*a)\n",
    "\n",
    "print('The result of quadratic expression are {0} and {1}'.format(x1,x2))"
   ]
  },
  {
   "cell_type": "code",
   "execution_count": 13,
   "metadata": {},
   "outputs": [
    {
     "name": "stdout",
     "output_type": "stream",
     "text": [
      "Enter the number:8\n",
      "36.0\n"
     ]
    }
   ],
   "source": [
    "# 15.  sum of first ‘n’ natural numbers without using any loop\n",
    "\n",
    "n=int(input('Enter the number:'))\n",
    "sum=n*(n+1)/2\n",
    "print(sum)"
   ]
  },
  {
   "cell_type": "code",
   "execution_count": null,
   "metadata": {},
   "outputs": [],
   "source": []
  }
 ],
 "metadata": {
  "kernelspec": {
   "display_name": "Python 3",
   "language": "python",
   "name": "python3"
  },
  "language_info": {
   "codemirror_mode": {
    "name": "ipython",
    "version": 3
   },
   "file_extension": ".py",
   "mimetype": "text/x-python",
   "name": "python",
   "nbconvert_exporter": "python",
   "pygments_lexer": "ipython3",
   "version": "3.7.4"
  }
 },
 "nbformat": 4,
 "nbformat_minor": 2
}
