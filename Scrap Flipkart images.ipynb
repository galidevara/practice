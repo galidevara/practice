{
 "cells": [
  {
   "cell_type": "code",
   "execution_count": 18,
   "metadata": {
    "scrolled": true
   },
   "outputs": [],
   "source": [
    "from selenium import webdriver\n",
    "from selenium.common.exceptions import StaleElementReferenceException\n",
    "import pandas as pd"
   ]
  },
  {
   "cell_type": "code",
   "execution_count": 22,
   "metadata": {},
   "outputs": [],
   "source": [
    "driver=webdriver.Chrome('C:/Users/sindh/Downloads/chromedriver_win32/chromedriver.exe')\n",
    "driver.get('https://www.flipkart.com/clothing-and-accessories/topwear/tshirt/men-tshirt/pr?sid=clo,ash,ank,edy&otracker=categorytree&otracker=nmenu_sub_Men_0_T-Shirts')\n",
    "#driver.get('https://www.flipkart.com/clothing-and-accessories/topwear/shirt/men-shirt/casual-shirt/pr?sid=clo,ash,axc,mmk,kp7&otracker=categorytree&otracker=nmenu_sub_Men_0_Casual%20Shirts')"
   ]
  },
  {
   "cell_type": "code",
   "execution_count": 4,
   "metadata": {},
   "outputs": [],
   "source": [
    "def scrap_img_url(driver):\n",
    "    images=driver.find_elements_by_xpath('//img[@class=\"_3togXc\"]')\n",
    "    product_data={}\n",
    "    product_data['image_url']=[]\n",
    "    for image in images:\n",
    "        source=image.get_attribute('src')\n",
    "        product_data['image_url'].append(source)\n",
    "    print('Returning scrap data')\n",
    "    return product_data\n",
    "\n"
   ]
  },
  {
   "cell_type": "code",
   "execution_count": 5,
   "metadata": {},
   "outputs": [],
   "source": [
    "import shutil\n",
    "import requests\n",
    "import csv\n",
    "import os"
   ]
  },
  {
   "cell_type": "code",
   "execution_count": 23,
   "metadata": {},
   "outputs": [],
   "source": [
    "\n",
    "def make_dir(dirname):\n",
    "    currentpath=os.getcwd()\n",
    "    path=os.path.join(currentpath,dirname)\n",
    "    if not os.path.exists(path):\n",
    "        os.makedirs(path)\n",
    "        \n",
    "def save_img(data,dirname,page):\n",
    "    for index,link in enumerate(data['image_url']):\n",
    "        print('Downloading {0} of {1}images'.format(index+1,len(data['image_url'])))\n",
    "        response=requests.get(link)\n",
    "        with open('{0}/Tshirt_{1}{2}.jpeg'.format(dirname,page,index),'wb') as file:\n",
    "            file.write(response.content)\n",
    "        "
   ]
  },
  {
   "cell_type": "code",
   "execution_count": null,
   "metadata": {
    "scrolled": false
   },
   "outputs": [],
   "source": [
    "dirname='MenShirts'\n",
    "make_dir(dirname)\n",
    "\n",
    "startpage=1\n",
    "totalpage=2\n",
    "\n",
    "for page in range(startpage,totalpage+1):\n",
    "    try: \n",
    "        productdetails=scrap_img_url(driver=driver)\n",
    "        print('scraping {0} of {1} pages'.format(page,totalpage))\n",
    "        \n",
    "        pagevalue=driver.find_element_by_xpath('//a[@class=\"_2Xp0TH fyt9Eu\"]').text\n",
    "        print('Currentpage is {0}'.format(pagevalue))\n",
    "    \n",
    "        save_img(data=productdetails,dirname=dirname,page=page)\n",
    "        print('Scraping of page {0} is done'.format(page))\n",
    "    \n",
    "        print('moving to the next page')\n",
    "        button_type=driver.find_element_by_xpath('//div[@class=\"_2zg3yZ\"]//a[@class=\"_3fVaIS\"]//span').get_attribute('innerHTML')\n",
    "    \n",
    "        if button_type=='Next':\n",
    "            driver.find_element_by_xpath('//a[@class=\"_3fVaIS\"]').click()\n",
    "        else:\n",
    "            driver.find_element_by_xpath('//a[@class=\"_3fVaIS\"][2]').click()\n",
    "        \n",
    "        new_page=driver.find_element_by_xpath('//a[@class=\"_2Xp0TH fyt9Eu\"]').text\n",
    "        print('Current page formate is {}'.format(new_page))\n",
    "        \n",
    "    except StaleElementReferenceException as exception:\n",
    "        print('we are facing an exception')\n",
    "        exp_page=driver.find_element_by_xpath('//a[@class=\"_2Xp0TH fyt9Eu\"]').text\n",
    "        print('The page value at the time of exception is {}'.format(exp_page))\n",
    "        \n",
    "        value=driver.find_element_by_xpath('//a[@class=\"_2Xp0TH fyt9Eu\"]')\n",
    "        link=value.get_attribute('href')\n",
    "        driver.get(link)\n",
    "        \n",
    "        productdetails=scrap_img_url(driver=driver)\n",
    "        print('scraping {0} of {1} pages'.format(page,totalpage))\n",
    "        \n",
    "        pagevalue=driver.find_element_by_xpath('//a[@class=\"_2Xp0TH fyt9Eu\"]').text\n",
    "        print('Currentpage is {0}'.format(pagevalue))\n",
    "    \n",
    "        save_img(data=productdetails,dirname=dirname,page=page)\n",
    "        print('Scraping of page {0} is done'.format(page))\n",
    "    \n",
    "        print('moving to the next page')\n",
    "        button_type=driver.find_element_by_xpath('//div[@class=\"_2zg3yZ\"]//a[@class=\"_3fVaIS\"]//span\"]').get_attribute('innerHTML')\n",
    "    \n",
    "        if button_type=='Next':\n",
    "            driver.find_element_by_xpath('//a[@class=\"_3fVaIS\"]').click()\n",
    "        else:\n",
    "            driver.find_element_by_xpath('//a[@class=\"_3fVaIS\"][2]').click()\n",
    "        \n",
    "        new_page=driver.find_element_by_xpath('//a[@class=\"_2Xp0TH fyt9Eu\"]').text\n",
    "        print('Current page formate is {}'.format(new_page))\n",
    "    \n",
    "\n",
    "    "
   ]
  },
  {
   "cell_type": "code",
   "execution_count": null,
   "metadata": {},
   "outputs": [],
   "source": []
  },
  {
   "cell_type": "code",
   "execution_count": null,
   "metadata": {
    "scrolled": true
   },
   "outputs": [],
   "source": []
  },
  {
   "cell_type": "code",
   "execution_count": null,
   "metadata": {},
   "outputs": [],
   "source": []
  },
  {
   "cell_type": "code",
   "execution_count": null,
   "metadata": {},
   "outputs": [],
   "source": []
  }
 ],
 "metadata": {
  "kernelspec": {
   "display_name": "Python 3",
   "language": "python",
   "name": "python3"
  },
  "language_info": {
   "codemirror_mode": {
    "name": "ipython",
    "version": 3
   },
   "file_extension": ".py",
   "mimetype": "text/x-python",
   "name": "python",
   "nbconvert_exporter": "python",
   "pygments_lexer": "ipython3",
   "version": "3.7.7"
  }
 },
 "nbformat": 4,
 "nbformat_minor": 4
}
